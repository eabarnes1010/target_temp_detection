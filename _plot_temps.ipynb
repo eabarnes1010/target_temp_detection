{
 "cells": [
  {
   "cell_type": "markdown",
   "id": "6da79c16-eb43-4664-a883-7a31f3af00da",
   "metadata": {
    "id": "4a650402-4774-49cb-9b72-9c8f1dd02f1d",
    "tags": []
   },
   "source": [
    "# Plot global mean temperatures from CMIP models (no neural networks here)\n",
    "##### authors: Elizabeth A. Barnes and Noah Diffenbaugh\n",
    "##### date: March 21, 2022\n"
   ]
  },
  {
   "cell_type": "markdown",
   "id": "7ccff821-b304-4009-8fe8-75a213b3f421",
   "metadata": {
    "tags": []
   },
   "source": [
    "## Python stuff"
   ]
  },
  {
   "cell_type": "code",
   "execution_count": null,
   "id": "fb968382-4186-466e-a85b-b00caa5fc9be",
   "metadata": {
    "colab": {
     "base_uri": "https://localhost:8080/"
    },
    "executionInfo": {
     "elapsed": 17642,
     "status": "ok",
     "timestamp": 1646449680995,
     "user": {
      "displayName": "Elizabeth Barnes",
      "photoUrl": "https://lh3.googleusercontent.com/a-/AOh14GiNPVVIWP6XAkP_hwu-8rAxoeeNuk2BMkX5-yuA=s64",
      "userId": "07585723222468022011"
     },
     "user_tz": 420
    },
    "id": "fb968382-4186-466e-a85b-b00caa5fc9be",
    "outputId": "d7964af9-2d52-4466-902d-9b85faba9a91",
    "tags": []
   },
   "outputs": [],
   "source": [
    "import sys, imp, os, copy\n",
    "\n",
    "import xarray as xr\n",
    "import numpy as np\n",
    "import pandas as pd\n",
    "import matplotlib.pyplot as plt\n",
    "import scipy.stats as stats\n",
    "import tensorflow as tf\n",
    "import tensorflow_probability as tfp\n",
    "\n",
    "import cartopy as ct\n",
    "from matplotlib.colors import ListedColormap, LinearSegmentedColormap\n",
    "\n",
    "import scipy.stats as stats\n",
    "import seaborn as sns\n",
    "import cmaps as cmaps_ncl\n",
    "\n",
    "import experiment_settings\n",
    "import file_methods, plots, data_processing\n",
    "\n",
    "import matplotlib as mpl\n",
    "mpl.rcParams[\"figure.facecolor\"] = \"white\"\n",
    "mpl.rcParams[\"figure.dpi\"] = 150\n",
    "savefig_dpi = 300\n",
    "np.warnings.filterwarnings(\"ignore\", category=np.VisibleDeprecationWarning)"
   ]
  },
  {
   "cell_type": "code",
   "execution_count": null,
   "id": "29a5cee3-6f4f-4818-92e1-1351eeeb565a",
   "metadata": {
    "colab": {
     "base_uri": "https://localhost:8080/"
    },
    "executionInfo": {
     "elapsed": 30,
     "status": "ok",
     "timestamp": 1646449681009,
     "user": {
      "displayName": "Elizabeth Barnes",
      "photoUrl": "https://lh3.googleusercontent.com/a-/AOh14GiNPVVIWP6XAkP_hwu-8rAxoeeNuk2BMkX5-yuA=s64",
      "userId": "07585723222468022011"
     },
     "user_tz": 420
    },
    "id": "29a5cee3-6f4f-4818-92e1-1351eeeb565a",
    "outputId": "e5f5b0ac-82b8-4147-bf44-4bc3b49466a2",
    "tags": []
   },
   "outputs": [],
   "source": [
    "print(f\"python version = {sys.version}\")\n",
    "print(f\"numpy version = {np.__version__}\")\n",
    "print(f\"xarray version = {xr.__version__}\")  \n",
    "print(f\"tensorflow version = {tf.__version__}\")  \n",
    "print(f\"tensorflow-probability version = {tfp.__version__}\")  "
   ]
  },
  {
   "cell_type": "markdown",
   "id": "651315ce-eecc-4d30-8b90-c97d08936315",
   "metadata": {
    "tags": []
   },
   "source": [
    "## User Choices"
   ]
  },
  {
   "cell_type": "code",
   "execution_count": null,
   "id": "c83a544f-ef35-417f-bec4-62225d885014",
   "metadata": {},
   "outputs": [],
   "source": [
    "EXP_NAME = 'exp20C_370'#'exp15C_370'#'exp15C_370' #exp15C_126\n",
    "\n",
    "#-------------------------------------------------------\n",
    "\n",
    "settings = experiment_settings.get_settings(EXP_NAME)\n",
    "display(settings)\n",
    "\n",
    "MODEL_DIRECTORY = 'saved_models/'        \n",
    "PREDICTIONS_DIRECTORY = 'saved_predictions/'\n",
    "DATA_DIRECTORY = 'data/'\n",
    "DIAGNOSTICS_DIRECTORY = 'model_diagnostics/'\n",
    "FIGURE_DIRECTORY = 'figures/'"
   ]
  },
  {
   "cell_type": "code",
   "execution_count": null,
   "id": "1c033e95-74bb-424e-93c4-87783e7b2643",
   "metadata": {},
   "outputs": [],
   "source": [
    "# df_metrics = pd.read_pickle(PREDICTIONS_DIRECTORY + \"df_random_seed.pickle\")\n",
    "# df = df_metrics[df_metrics[\"exp_name\"]==EXP_NAME]\n",
    "# PLOT_SEED = df_metrics.iloc[df['loss_val'].idxmin()][\"seed\"]\n",
    "# print(PLOT_SEED)\n",
    "PLOT_SEED = 1257"
   ]
  },
  {
   "cell_type": "markdown",
   "id": "47e6f742-a1e9-423c-9048-450208f54ca9",
   "metadata": {},
   "source": [
    "## Plotting Functions"
   ]
  },
  {
   "cell_type": "code",
   "execution_count": null,
   "id": "9d29d831-aa15-46fd-89be-07628cc0f8b2",
   "metadata": {},
   "outputs": [],
   "source": [
    "FS = 10\n",
    "\n",
    "### for white background...\n",
    "# plt.rc('text',usetex=True)\n",
    "plt.rc('text',usetex=False)\n",
    "plt.rc('font',**{'family':'sans-serif','sans-serif':['Helvetica']}) \n",
    "plt.rc('savefig',facecolor='white')\n",
    "plt.rc('axes',facecolor='white')\n",
    "plt.rc('axes',labelcolor='dimgrey')\n",
    "plt.rc('axes',labelcolor='dimgrey')\n",
    "plt.rc('xtick',color='dimgrey')\n",
    "plt.rc('ytick',color='dimgrey')\n",
    "################################  \n",
    "################################  \n",
    "def adjust_spines(ax, spines):\n",
    "    for loc, spine in ax.spines.items():\n",
    "        if loc in spines:\n",
    "            spine.set_position(('outward', 5))\n",
    "        else:\n",
    "            spine.set_color('none')  \n",
    "    if 'left' in spines:\n",
    "        ax.yaxis.set_ticks_position('left')\n",
    "    else:\n",
    "        ax.yaxis.set_ticks([])\n",
    "    if 'bottom' in spines:\n",
    "        ax.xaxis.set_ticks_position('bottom')\n",
    "    else:\n",
    "        ax.xaxis.set_ticks([]) \n",
    "\n",
    "def format_spines(ax):\n",
    "    adjust_spines(ax, ['left', 'bottom'])\n",
    "    ax.spines['top'].set_color('none')\n",
    "    ax.spines['right'].set_color('none')\n",
    "    ax.spines['left'].set_color('dimgrey')\n",
    "    ax.spines['bottom'].set_color('dimgrey')\n",
    "    ax.spines['left'].set_linewidth(2)\n",
    "    ax.spines['bottom'].set_linewidth(2)\n",
    "    ax.tick_params('both',length=4,width=2,which='major',color='dimgrey')\n",
    "#     ax.yaxis.grid(zorder=1,color='dimgrey',alpha=0.35)    \n",
    "    "
   ]
  },
  {
   "cell_type": "markdown",
   "id": "315e6bb1-78c2-47d3-93e2-18305db2f6fc",
   "metadata": {},
   "source": [
    "## Load observations"
   ]
  },
  {
   "cell_type": "code",
   "execution_count": null,
   "id": "abc3de94-df11-4cf7-b8a1-d543e9f7d7c3",
   "metadata": {},
   "outputs": [],
   "source": [
    "# load observations for diagnostics plotting\n",
    "da_obs, x_obs, global_mean_obs = data_processing.get_observations(DATA_DIRECTORY, settings)\n",
    "N_TRAIN, N_VAL, N_TEST, ALL_MEMBERS = data_processing.get_members(settings)"
   ]
  },
  {
   "cell_type": "markdown",
   "id": "c807abd7-832a-484b-98cd-7e6c3a9f60c0",
   "metadata": {
    "id": "c807abd7-832a-484b-98cd-7e6c3a9f60c0",
    "tags": []
   },
   "source": [
    "## Plot CMIP Timeseries"
   ]
  },
  {
   "cell_type": "code",
   "execution_count": null,
   "id": "470dfac3-1ec3-4869-af61-e5810cc26ad6",
   "metadata": {},
   "outputs": [],
   "source": [
    "rng = np.random.default_rng(settings[\"rng_seed\"])\n",
    "settings[\"seed\"] = PLOT_SEED\n",
    "\n",
    "## determine how many GCMs are being used\n",
    "filenames = file_methods.get_cmip_filenames(settings, verbose=0)\n",
    "N_GCMS = len(filenames)\n",
    "\n",
    "# loop through the models and plot\n",
    "clr = ('tab:purple','tab:orange', 'tab:blue', 'tab:green', 'gold', 'brown','black','darkorange')\n",
    "fig,axs = plt.subplots(1,1,figsize=(3,2.25))\n",
    "\n",
    "for imodel, f in enumerate(filenames):\n",
    "    print(f)\n",
    "    da = file_methods.get_netcdf_da(DATA_DIRECTORY + f)\n",
    "    f_labels, f_years, f_target_year = data_processing.get_labels(da, settings,)\n",
    "\n",
    "    # compute global mean\n",
    "    global_mean = data_processing.compute_global_mean(da)\n",
    "    baseline_mean = global_mean.sel(time=slice(str(settings[\"baseline_yr_bounds\"][0]),str(settings[\"baseline_yr_bounds\"][1]))).mean('time')\n",
    "    global_mean_anomalies = global_mean - baseline_mean\n",
    "    \n",
    "    # plot the members\n",
    "    plt.plot(f_years, \n",
    "             np.swapaxes(global_mean_anomalies.to_numpy(),1,0), \n",
    "             color='gray',\n",
    "             linewidth=.5,\n",
    "             alpha=.3,\n",
    "            )\n",
    "    # plot ensemble mean\n",
    "    plt.plot(f_years, \n",
    "             np.mean(global_mean_anomalies,axis=0), \n",
    "             color=clr[imodel],\n",
    "             linewidth=1.,\n",
    "             alpha=1.,\n",
    "            )\n",
    "    \n",
    "# plt.title('Global Mean Temperatures for SSP'+ str(settings[\"ssp\"]),fontsize=12)\n",
    "plt.xlabel('year',fontsize=FS)\n",
    "plt.ylabel('temperature anomaly',fontsize=FS)\n",
    "plt.xticks(np.arange(1850,2150,50),np.arange(1850,2150,50))\n",
    "\n",
    "plt.ylim(-1,7)\n",
    "plt.axhline(y=0, color='black', linewidth=0.5)\n",
    "plt.axhline(y=1.1, color='gray', linewidth=1.0, linestyle='--')\n",
    "plt.axhline(y=1.5, color='gray', linewidth=1.0, linestyle='--')\n",
    "plt.axhline(y=2.0, color='gray', linewidth=1.0, linestyle='--')\n",
    "\n",
    "plt.text(2035,\n",
    "         0,\n",
    "         \"SSP\" + settings[\"ssp\"][0] + '-' + settings[\"ssp\"][1] + '.' + settings[\"ssp\"][-1],\n",
    "         fontsize=FS,\n",
    "         horizontalalignment=\"left\",\n",
    "         verticalalignment=\"bottom\",\n",
    "         color='k', \n",
    "         weight=\"bold\",\n",
    "        )\n",
    "\n",
    "format_spines(plt.gca())\n",
    "\n",
    "plt.tight_layout()\n",
    "plots.savefig(FIGURE_DIRECTORY + settings[\"exp_name\"] + '_cmip_gmt',dpi=savefig_dpi)\n",
    "plt.show()    \n",
    "    \n",
    "\n"
   ]
  },
  {
   "cell_type": "markdown",
   "id": "e03dcd5c-9512-44ee-8008-1ae4bb46470f",
   "metadata": {},
   "source": [
    "## Plot CMIP Maps"
   ]
  },
  {
   "cell_type": "code",
   "execution_count": null,
   "id": "6ed74c11-d779-4af4-9b6a-7f42e51ff9bf",
   "metadata": {},
   "outputs": [],
   "source": [
    "from matplotlib import cm\n",
    "newcmap = pd.read_csv(DATA_DIRECTORY + \"blue_dark_red_18_colormap.csv\").to_numpy()\n",
    "newcmap = np.delete(newcmap,9,0)\n",
    "newcmap = ListedColormap(newcmap/256.)\n",
    "map_proj = ct.crs.EqualEarth(central_longitude = 0.)\n"
   ]
  },
  {
   "cell_type": "code",
   "execution_count": null,
   "id": "8642b5ec-3cd7-4d42-95e8-2f35572bec25",
   "metadata": {},
   "outputs": [],
   "source": [
    "rng = np.random.default_rng(settings[\"rng_seed\"])\n",
    "settings[\"seed\"] = PLOT_SEED\n",
    "\n",
    "## determine how many GCMs are being used\n",
    "filenames = file_methods.get_cmip_filenames(settings, verbose=0)\n",
    "N_GCMS = len(filenames)\n",
    "\n",
    "# loop through the models and plot\n",
    "clr = ('tab:purple','tab:orange', 'tab:blue', 'tab:green', 'gold', 'brown','black','darkorange')\n",
    "fig = plt.figure(figsize=(6,2))\n",
    "\n",
    "for imodel, f in enumerate(filenames):\n",
    "    \n",
    "    if f.find('CanESM5')>-1:\n",
    "        ipanel = 1\n",
    "        cmip_name = 'CanESM5'\n",
    "    elif f.find('MIROC-ES2L')>-1:\n",
    "        ipanel = 2        \n",
    "        cmip_name = 'MIROC-ES2L'\n",
    "    else:\n",
    "        continue\n",
    "    \n",
    "    print(f)\n",
    "    da = file_methods.get_netcdf_da(DATA_DIRECTORY + f)\n",
    "    da = data_processing.preprocess_data(da,None,settings)\n",
    "    f_labels, f_years, f_target_year = data_processing.get_labels(da, settings,)\n",
    "\n",
    "    iplot = np.where(da[\"time.year\"]==f_target_year)[0]\n",
    "\n",
    "    ax = fig.add_subplot(1,2,ipanel,projection=map_proj)\n",
    "    cb,image = plots.drawOnGlobe(ax, \n",
    "                      map_proj, \n",
    "                      data=np.squeeze(np.mean(da[:,iplot,:,:],axis=0)), \n",
    "                      lats=da_obs['lat'], \n",
    "                      lons=da_obs['lon'], \n",
    "                      # cmap=newcmap,\n",
    "                      cmap=cmaps_ncl.BlueDarkRed18,\n",
    "                      vmin= -4.5, \n",
    "                      vmax= 4.5, \n",
    "                      inc=None, \n",
    "                      cbarBool=False, \n",
    "                      contourMap=[], \n",
    "                      contourVals = [], \n",
    "                      fastBool=True, \n",
    "                      extent='both',\n",
    "                     )\n",
    "    ax.set_title(cmip_name + ' (' + str(f_target_year) + ')',fontsize=FS*1.2)\n",
    "    \n",
    "fig.subplots_adjust(bottom=0.05)\n",
    "cbar_ax = fig.add_axes([0.3, 0.0, 0.4, 0.05])\n",
    "cbar = fig.colorbar(image, cax=cbar_ax, orientation='horizontal')\n",
    "cbar.set_label('temperature anomaly (relative to 1951-1980)',fontsize=FS*1.)\n",
    "# cbar.set_ticks((-3,-1.5,0,1.5,3))\n",
    "\n",
    "\n",
    "plt.tight_layout()\n",
    "plots.savefig(FIGURE_DIRECTORY + settings[\"exp_name\"] + '_cmip_CanESM5_MIROC_ES2L_maps',\n",
    "              dpi=savefig_dpi)\n",
    "plt.show()    \n",
    "    \n",
    "\n"
   ]
  },
  {
   "cell_type": "markdown",
   "id": "c9241ad7-9303-4611-9d1b-052bba609fc5",
   "metadata": {},
   "source": [
    "## Plot observed temperature maps"
   ]
  },
  {
   "cell_type": "code",
   "execution_count": null,
   "id": "ff5d8a5d-608b-4f74-9850-fbfafeccae4d",
   "metadata": {},
   "outputs": [],
   "source": [
    "imp.reload(plots)\n",
    "\n",
    "fig = plt.figure(figsize=(6,3.5))\n",
    "\n",
    "for iloop,year in enumerate((1980, 1992, 2016, 2021)):\n",
    "    iplot = np.where(da_obs[\"time.year\"]==year)[0]\n",
    "    \n",
    "    ax = fig.add_subplot(2,2,iloop+1,projection=map_proj)\n",
    "    cb,image = plots.drawOnGlobe(ax, \n",
    "                      map_proj, \n",
    "                      data=np.squeeze(da_obs[iplot,:,:]), \n",
    "                      lats=da_obs['lat'], \n",
    "                      lons=da_obs['lon'], \n",
    "                      # cmap=newcmap,\n",
    "                      cmap=cmaps_ncl.BlueDarkRed18,\n",
    "                      vmin= -4.5, \n",
    "                      vmax= 4.5, \n",
    "                      inc=None, \n",
    "                      cbarBool=False, \n",
    "                      contourMap=[], \n",
    "                      contourVals = [], \n",
    "                      fastBool=True, \n",
    "                      extent='both',\n",
    "                     )\n",
    "    ax.set_title(str(year),fontsize=FS*1.2)\n",
    "    \n",
    "fig.subplots_adjust(bottom=0.15)\n",
    "cbar_ax = fig.add_axes([0.3, 0.0, 0.4, 0.025])\n",
    "cbar = fig.colorbar(image, cax=cbar_ax, orientation='horizontal')\n",
    "cbar.set_label('temperature anomaly (relative to 1951-1980)',fontsize=FS)\n",
    "# cbar.set_ticks((-3,-1.5,0,1.5,3))\n",
    "\n",
    "plt.tight_layout()    \n",
    "plots.savefig(FIGURE_DIRECTORY + 'obs_temperature_maps',\n",
    "              dpi=savefig_dpi)\n",
    "plt.show()"
   ]
  },
  {
   "cell_type": "code",
   "execution_count": null,
   "id": "6d81aeaa-2730-4373-a0a6-6635174d9085",
   "metadata": {},
   "outputs": [],
   "source": []
  }
 ],
 "metadata": {
  "colab": {
   "collapsed_sections": [],
   "name": "_main.ipynb",
   "provenance": []
  },
  "kernelspec": {
   "display_name": "Python 3 (ipykernel)",
   "language": "python",
   "name": "python3"
  },
  "language_info": {
   "codemirror_mode": {
    "name": "ipython",
    "version": 3
   },
   "file_extension": ".py",
   "mimetype": "text/x-python",
   "name": "python",
   "nbconvert_exporter": "python",
   "pygments_lexer": "ipython3",
   "version": "3.9.10"
  }
 },
 "nbformat": 4,
 "nbformat_minor": 5
}
