{
 "cells": [
  {
   "cell_type": "markdown",
   "id": "6da79c16-eb43-4664-a883-7a31f3af00da",
   "metadata": {
    "id": "4a650402-4774-49cb-9b72-9c8f1dd02f1d",
    "tags": []
   },
   "source": [
    "# Analyze models\n",
    "##### authors: Elizabeth A. Barnes and Noah Diffenbaugh\n",
    "##### date: March 20, 2022\n"
   ]
  },
  {
   "cell_type": "markdown",
   "id": "7ccff821-b304-4009-8fe8-75a213b3f421",
   "metadata": {
    "tags": []
   },
   "source": [
    "## Python stuff"
   ]
  },
  {
   "cell_type": "code",
   "execution_count": 1,
   "id": "fb968382-4186-466e-a85b-b00caa5fc9be",
   "metadata": {
    "colab": {
     "base_uri": "https://localhost:8080/"
    },
    "executionInfo": {
     "elapsed": 17642,
     "status": "ok",
     "timestamp": 1646449680995,
     "user": {
      "displayName": "Elizabeth Barnes",
      "photoUrl": "https://lh3.googleusercontent.com/a-/AOh14GiNPVVIWP6XAkP_hwu-8rAxoeeNuk2BMkX5-yuA=s64",
      "userId": "07585723222468022011"
     },
     "user_tz": 420
    },
    "id": "fb968382-4186-466e-a85b-b00caa5fc9be",
    "outputId": "d7964af9-2d52-4466-902d-9b85faba9a91",
    "tags": []
   },
   "outputs": [],
   "source": [
    "import sys, imp, os, copy\n",
    "\n",
    "import xarray as xr\n",
    "import numpy as np\n",
    "import pandas as pd\n",
    "import matplotlib.pyplot as plt\n",
    "import scipy.stats as stats\n",
    "import tensorflow as tf\n",
    "import tensorflow_probability as tfp\n",
    "\n",
    "import scipy.stats as stats\n",
    "import seaborn as sns\n",
    "\n",
    "import experiment_settings\n",
    "import file_methods, plots, data_processing\n",
    "\n",
    "import matplotlib as mpl\n",
    "mpl.rcParams[\"figure.facecolor\"] = \"white\"\n",
    "mpl.rcParams[\"figure.dpi\"] = 150\n",
    "savefig_dpi = 300\n",
    "np.warnings.filterwarnings(\"ignore\", category=np.VisibleDeprecationWarning)"
   ]
  },
  {
   "cell_type": "code",
   "execution_count": 2,
   "id": "29a5cee3-6f4f-4818-92e1-1351eeeb565a",
   "metadata": {
    "colab": {
     "base_uri": "https://localhost:8080/"
    },
    "executionInfo": {
     "elapsed": 30,
     "status": "ok",
     "timestamp": 1646449681009,
     "user": {
      "displayName": "Elizabeth Barnes",
      "photoUrl": "https://lh3.googleusercontent.com/a-/AOh14GiNPVVIWP6XAkP_hwu-8rAxoeeNuk2BMkX5-yuA=s64",
      "userId": "07585723222468022011"
     },
     "user_tz": 420
    },
    "id": "29a5cee3-6f4f-4818-92e1-1351eeeb565a",
    "outputId": "e5f5b0ac-82b8-4147-bf44-4bc3b49466a2",
    "tags": []
   },
   "outputs": [
    {
     "name": "stdout",
     "output_type": "stream",
     "text": [
      "python version = 3.9.10 | packaged by conda-forge | (main, Feb  1 2022, 21:27:43) \n",
      "[Clang 11.1.0 ]\n",
      "numpy version = 1.22.2\n",
      "xarray version = 2022.3.0\n",
      "tensorflow version = 2.7.0\n",
      "tensorflow-probability version = 0.15.0\n"
     ]
    }
   ],
   "source": [
    "print(f\"python version = {sys.version}\")\n",
    "print(f\"numpy version = {np.__version__}\")\n",
    "print(f\"xarray version = {xr.__version__}\")  \n",
    "print(f\"tensorflow version = {tf.__version__}\")  \n",
    "print(f\"tensorflow-probability version = {tfp.__version__}\")  "
   ]
  },
  {
   "cell_type": "markdown",
   "id": "651315ce-eecc-4d30-8b90-c97d08936315",
   "metadata": {
    "tags": []
   },
   "source": [
    "## User Choices"
   ]
  },
  {
   "cell_type": "code",
   "execution_count": 3,
   "id": "c83a544f-ef35-417f-bec4-62225d885014",
   "metadata": {},
   "outputs": [
    {
     "data": {
      "text/plain": [
       "{'save_model': True,\n",
       " 'n_models': 10,\n",
       " 'ssp': '370',\n",
       " 'gcmsub': 'ALL',\n",
       " 'obsdata': 'BEST',\n",
       " 'target_temp': 1.5,\n",
       " 'n_train_val_test': (7, 2, 1),\n",
       " 'baseline_yr_bounds': (1850, 1899),\n",
       " 'training_yr_bounds': (1970, 2100),\n",
       " 'anomaly_yr_bounds': (1951, 1980),\n",
       " 'anomalies': True,\n",
       " 'remove_map_mean': False,\n",
       " 'network_type': 'shash2',\n",
       " 'hiddens': [10, 10],\n",
       " 'dropout_rate': 0.0,\n",
       " 'ridge_param': [1.0, 0.0],\n",
       " 'learning_rate': 1e-05,\n",
       " 'batch_size': 64,\n",
       " 'rng_seed': 8889,\n",
       " 'seed': None,\n",
       " 'act_fun': ['relu', 'relu'],\n",
       " 'n_epochs': 25000,\n",
       " 'patience': 50,\n",
       " 'exp_name': 'exp0'}"
      ]
     },
     "metadata": {},
     "output_type": "display_data"
    }
   ],
   "source": [
    "EXP_NAME = 'exp0'\n",
    "PLOT_SEED = 1257\n",
    "\n",
    "#-------------------------------------------------------\n",
    "\n",
    "settings = experiment_settings.get_settings(EXP_NAME)\n",
    "display(settings)\n",
    "\n",
    "MODEL_DIRECTORY = 'saved_models/'        \n",
    "PREDICTIONS_DIRECTORY = 'saved_predictions/'\n",
    "DATA_DIRECTORY = 'data/'\n",
    "DIAGNOSTICS_DIRECTORY = 'model_diagnostics/'\n",
    "FIGURE_DIRECTORY = 'figures/'"
   ]
  },
  {
   "cell_type": "markdown",
   "id": "d5d089c5-afe9-4d5c-93d1-b67662256c1a",
   "metadata": {
    "tags": []
   },
   "source": [
    "## Initial housekeeping"
   ]
  },
  {
   "cell_type": "code",
   "execution_count": 4,
   "id": "02eea0ec-ce97-469e-b7d6-da1fa0863927",
   "metadata": {
    "tags": []
   },
   "outputs": [
    {
     "name": "stdout",
     "output_type": "stream",
     "text": [
      "observations: filling NaNs with zeros\n",
      "np.shape(x_obs) = (172, 10368)\n"
     ]
    }
   ],
   "source": [
    "## determine how many GCMs are being used\n",
    "filenames = file_methods.get_cmip_filenames(settings, verbose=0)\n",
    "N_GCMS = len(filenames)\n",
    "\n",
    "# load observations for diagnostics plotting\n",
    "da_obs, x_obs, global_mean_obs = data_processing.get_observations(DATA_DIRECTORY, settings)\n",
    "N_TRAIN, N_VAL, N_TEST, ALL_MEMBERS = data_processing.get_members(settings)"
   ]
  },
  {
   "cell_type": "markdown",
   "id": "47e6f742-a1e9-423c-9048-450208f54ca9",
   "metadata": {},
   "source": [
    "## Plotting Functions"
   ]
  },
  {
   "cell_type": "code",
   "execution_count": 5,
   "id": "9d29d831-aa15-46fd-89be-07628cc0f8b2",
   "metadata": {},
   "outputs": [],
   "source": [
    "FS = 16\n",
    "\n",
    "### for white background...\n",
    "plt.rc('text',usetex=True)\n",
    "plt.rc('font',**{'family':'sans-serif','sans-serif':['Avant Garde']}) \n",
    "plt.rc('savefig',facecolor='white')\n",
    "plt.rc('axes',facecolor='white')\n",
    "plt.rc('axes',labelcolor='dimgrey')\n",
    "plt.rc('axes',labelcolor='dimgrey')\n",
    "plt.rc('xtick',color='dimgrey')\n",
    "plt.rc('ytick',color='dimgrey')\n",
    "################################  \n",
    "################################  \n",
    "def adjust_spines(ax, spines):\n",
    "    for loc, spine in ax.spines.items():\n",
    "        if loc in spines:\n",
    "            spine.set_position(('outward', 5))\n",
    "        else:\n",
    "            spine.set_color('none')  \n",
    "    if 'left' in spines:\n",
    "        ax.yaxis.set_ticks_position('left')\n",
    "    else:\n",
    "        ax.yaxis.set_ticks([])\n",
    "    if 'bottom' in spines:\n",
    "        ax.xaxis.set_ticks_position('bottom')\n",
    "    else:\n",
    "        ax.xaxis.set_ticks([]) \n",
    "\n",
    "def format_spines(ax):\n",
    "    adjust_spines(ax, ['left', 'bottom'])\n",
    "    ax.spines['top'].set_color('none')\n",
    "    ax.spines['right'].set_color('none')\n",
    "    ax.spines['left'].set_color('dimgrey')\n",
    "    ax.spines['bottom'].set_color('dimgrey')\n",
    "    ax.spines['left'].set_linewidth(2)\n",
    "    ax.spines['bottom'].set_linewidth(2)\n",
    "    ax.tick_params('both',length=4,width=2,which='major',color='dimgrey')\n",
    "#     ax.yaxis.grid(zorder=1,color='dimgrey',alpha=0.35)    \n",
    "    "
   ]
  },
  {
   "cell_type": "markdown",
   "id": "c807abd7-832a-484b-98cd-7e6c3a9f60c0",
   "metadata": {
    "id": "c807abd7-832a-484b-98cd-7e6c3a9f60c0",
    "tags": []
   },
   "source": [
    "## Load the observations predictions"
   ]
  },
  {
   "cell_type": "code",
   "execution_count": 6,
   "id": "7becb266-c9fd-4098-a2ba-e6c52804b8bd",
   "metadata": {
    "colab": {
     "base_uri": "https://localhost:8080/",
     "height": 962
    },
    "executionInfo": {
     "elapsed": 105064,
     "status": "ok",
     "timestamp": 1646449809976,
     "user": {
      "displayName": "Elizabeth Barnes",
      "photoUrl": "https://lh3.googleusercontent.com/a-/AOh14GiNPVVIWP6XAkP_hwu-8rAxoeeNuk2BMkX5-yuA=s64",
      "userId": "07585723222468022011"
     },
     "user_tz": 420
    },
    "id": "7becb266-c9fd-4098-a2ba-e6c52804b8bd",
    "outputId": "5f2d4b54-fb88-418f-95a2-3c5e281cc2e4",
    "tags": []
   },
   "outputs": [
    {
     "name": "stdout",
     "output_type": "stream",
     "text": [
      "done.\n"
     ]
    }
   ],
   "source": [
    "rng = np.random.default_rng(settings[\"rng_seed\"])\n",
    "pred_obs_vec = np.zeros(shape=(settings['n_models'], x_obs.shape[0], 2))*np.nan\n",
    "\n",
    "for iloop in np.arange(settings['n_models']):\n",
    "    seed = rng.integers(low=1_000,high=10_000,size=1)[0]\n",
    "    settings[\"seed\"] = int(seed)\n",
    "\n",
    "    # get model name\n",
    "    model_name = file_methods.get_model_name(settings)\n",
    "    filename = PREDICTIONS_DIRECTORY+model_name + '_obs_predictions.pickle'\n",
    "    if os.path.exists(filename):\n",
    "        obs_pred_seed = pd.read_pickle(filename)\n",
    "        pred_obs_vec[iloop,:,0] = obs_pred_seed[:,0] \n",
    "        pred_obs_vec[iloop,:,1] = obs_pred_seed[:,1] \n",
    "    else:\n",
    "        print(model_name  +\" does not exist. Skipping...\") \n",
    "        print(\"================================\\n\")\n",
    "        continue    \n",
    "        #----------------------------------------\n",
    "        \n",
    "    if seed == PLOT_SEED:\n",
    "        obs_pred_plot = copy.deepcopy(obs_pred_seed)\n",
    "        model_name_plot = copy.deepcopy(model_name)\n",
    "\n",
    "print(\"done.\")"
   ]
  },
  {
   "cell_type": "markdown",
   "id": "da97b1cc-230d-4a5f-9982-2fee645f2edb",
   "metadata": {},
   "source": [
    "## Plot spread in $\\mu$ across random seeds"
   ]
  },
  {
   "cell_type": "code",
   "execution_count": 7,
   "id": "f37611db-9e36-43c5-be3a-a1090b981a19",
   "metadata": {},
   "outputs": [
    {
     "data": {
      "image/png": "[encoded data removed]",
      "text/plain": [
       "<Figure size 900x600 with 1 Axes>"
      ]
     },
     "metadata": {},
     "output_type": "display_data"
    }
   ],
   "source": [
    "INPUT_YEAR = 2021\n",
    "iyear = np.where(da_obs[\"time.year\"]==INPUT_YEAR)[0]\n",
    "\n",
    "perc_low = np.percentile(pred_obs_vec[:,iyear,0],25)\n",
    "perc_high = np.percentile(pred_obs_vec[:,iyear,0],25)\n",
    "\n",
    "plt.figure()\n",
    "plt.hist(INPUT_YEAR+pred_obs_vec[:,iyear,0],\n",
    "         bins=np.arange(1850,2100),\n",
    "         color=\"pink\",\n",
    "         edgecolor='gray',\n",
    "         alpha=.75,\n",
    "         density=True,\n",
    "        )\n",
    "plt.axvline(x=perc_low,\n",
    "            linestyle='--',\n",
    "            color=\"pink\",\n",
    "           )\n",
    "plt.axvline(x=perc_high,\n",
    "            linestyle='--',\n",
    "            color=\"pink\",            \n",
    "           )\n",
    "\n",
    "plt.xticks(np.arange(1850,2100,10),np.arange(1850,2100,10))\n",
    "plt.yticks(np.arange(0,1.2,.2),np.arange(0,1.2,.2).round(1))\n",
    "plt.xlim(2010,2060)\n",
    "plt.ylim(0,1)\n",
    "plt.xlabel('predicted target year')\n",
    "plt.ylabel('probability density')\n",
    "\n",
    "ax = plt.gca()\n",
    "format_spines(ax)\n",
    "\n",
    "plt.title('Years until ' + str(settings[\"target_temp\"]) + 'C under SSP' + settings[\"ssp\"] + ' [' + settings[\"obsdata\"] + ']',\n",
    "          color='k',\n",
    "          fontsize=16,\n",
    "         )\n",
    "\n",
    "plt.savefig(FIGURE_DIRECTORY + settings[\"exp_name\"] + '_spread_mu' + '.png', dpi=savefig_dpi)\n",
    "plt.show()"
   ]
  },
  {
   "cell_type": "markdown",
   "id": "a4ca07ef-c91c-4bdf-87f0-0fdcd20e2c45",
   "metadata": {},
   "source": [
    "## Plot Single Seed Obs"
   ]
  },
  {
   "cell_type": "code",
   "execution_count": 8,
   "id": "1e20aedf-69e4-4d33-b5a6-698d8e3c1a52",
   "metadata": {},
   "outputs": [
    {
     "data": {
      "image/png": "[encoded data removed]",
      "text/plain": [
       "<Figure size 1200x450 with 2 Axes>"
      ]
     },
     "metadata": {},
     "output_type": "display_data"
    }
   ],
   "source": [
    "clr_choice = 'orange'\n",
    "y_predict_obs = obs_pred_seed\n",
    "\n",
    "iy = np.where(da_obs['time.year'].values >= 2001)[0]\n",
    "x = da_obs['time.year'].values[iy]\n",
    "y = y_predict_obs[iy,0]\n",
    "linear_model = stats.linregress(x=x,y=y)\n",
    "\n",
    "#--------------------------------\n",
    "norm_incs = np.arange(-80,80,1)\n",
    "mu_pred = y_predict_obs[:,0]\n",
    "sigma_pred = y_predict_obs[:,1]\n",
    "norm_dist = tfp.distributions.Normal(mu_pred,sigma_pred)\n",
    "norm_perc_low = norm_dist.quantile(.25).numpy()   \n",
    "norm_perc_high = norm_dist.quantile(.75).numpy()      \n",
    "norm_perc_med = norm_dist.quantile(.5).numpy()      \n",
    "norm_cpd = norm_dist[-1].prob(norm_incs)\n",
    "y_predict_obs = norm_perc_med\n",
    "\n",
    "pred_text = str(mu_pred[-1].round(1)) + ' (' + str(norm_perc_low[-1].round(1)) + ' to ' + str(norm_perc_high[-1].round(1)) + ')'\n",
    "\n",
    "#------------------------------------------------------------\n",
    "ax = plt.subplots(1,2,figsize=(8,3))\n",
    "years = np.arange(1850,2022)\n",
    "\n",
    "plt.subplot(1,2,1)\n",
    "for iyear in np.arange(0,y_predict_obs.shape[0]):\n",
    "    min_val = norm_perc_low[iyear]\n",
    "    max_val = norm_perc_high[iyear]\n",
    "\n",
    "    if(years[iyear]==2021):\n",
    "        clr = clr_choice\n",
    "    else:\n",
    "        clr = 'gray'\n",
    "    plt.plot((years[iyear],years[iyear]),(min_val, max_val),\n",
    "             linestyle='-',\n",
    "             linewidth=4,\n",
    "             color=clr,\n",
    "            )\n",
    "\n",
    "plt.plot(x,x*linear_model.slope+linear_model.intercept,'--', color='black')\n",
    "\n",
    "plt.xticks(np.arange(1850,2100,10),np.arange(1850,2100,10))\n",
    "plt.yticks(np.arange(-100,100,20),np.arange(-100,100,20).round(0))\n",
    "plt.ylabel('years until target')\n",
    "plt.xlabel('year')\n",
    "plt.title(settings[\"obsdata\"] + ' predictions for ' + str(settings['target_temp']) + 'C using ssp' + settings[\"ssp\"] + ' (norm)\\n slope=' + str(linear_model.slope.round(2)) +\" yrs/yr\")\n",
    "\n",
    "plt.xlim(1970.5,2023)    \n",
    "plt.ylim(-10,80)\n",
    "format_spines(plt.gca())\n",
    "\n",
    "plt.subplot(1,2,2)\n",
    "plt.plot(norm_incs,norm_cpd,\n",
    "         linewidth=5,\n",
    "         color=clr_choice,\n",
    "        )\n",
    "\n",
    "k = np.argmin(np.abs(norm_perc_low[-1]-norm_incs))\n",
    "plt.plot((norm_perc_low[-1],norm_perc_low[-1]),(0,norm_cpd[k]),'--',color=clr_choice)\n",
    "k = np.argmin(np.abs(norm_perc_high[-1]-norm_incs))\n",
    "plt.plot((norm_perc_high[-1],norm_perc_high[-1]),(0,norm_cpd[k]),'--',color=clr_choice)\n",
    "\n",
    "plt.text(mu_pred[-1],\n",
    "         .09,\n",
    "         pred_text,         \n",
    "         horizontalalignment=\"center\",\n",
    "         verticalalignment=\"top\",\n",
    "         color=\"orange\",\n",
    "         fontsize=8,\n",
    "        )\n",
    "         \n",
    "\n",
    "plt.xlabel('years until target')\n",
    "plt.title('Predictions for ' + settings[\"obsdata\"] + ' Observations under SSP' + settings[\"ssp\"] + '\\nYear = 2021')\n",
    "plt.xticks(np.arange(-50,50,10),np.arange(-50,50,10))\n",
    "plt.yticks(np.arange(0,.12,.02),np.arange(0,.12,.02).round(2))\n",
    "\n",
    "if settings[\"target_temp\"] == 1.1:\n",
    "    plt.xlim(-20,20)\n",
    "elif settings[\"target_temp\"] == 1.5:\n",
    "    plt.xlim(-10,40)\n",
    "elif settings[\"target_temp\"] == 2.0:\n",
    "    plt.xlim(-10,70)\n",
    "else:\n",
    "    plt.xlim(-70,70)\n",
    "    \n",
    "format_spines(plt.gca())\n",
    "plt.tight_layout()\n",
    "\n",
    "plt.savefig(FIGURE_DIRECTORY + model_name_plot + '_obs_timeseries_spread' + '.png', dpi=savefig_dpi)\n",
    "plt.show()"
   ]
  },
  {
   "cell_type": "code",
   "execution_count": null,
   "id": "470dfac3-1ec3-4869-af61-e5810cc26ad6",
   "metadata": {},
   "outputs": [],
   "source": []
  }
 ],
 "metadata": {
  "colab": {
   "collapsed_sections": [],
   "name": "_main.ipynb",
   "provenance": []
  },
  "kernelspec": {
   "display_name": "Python 3 (ipykernel)",
   "language": "python",
   "name": "python3"
  },
  "language_info": {
   "codemirror_mode": {
    "name": "ipython",
    "version": 3
   },
   "file_extension": ".py",
   "mimetype": "text/x-python",
   "name": "python",
   "nbconvert_exporter": "python",
   "pygments_lexer": "ipython3",
   "version": "3.9.10"
  }
 },
 "nbformat": 4,
 "nbformat_minor": 5
}
