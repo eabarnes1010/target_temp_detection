{
 "cells": [
  {
   "cell_type": "markdown",
   "id": "6da79c16-eb43-4664-a883-7a31f3af00da",
   "metadata": {
    "id": "4a650402-4774-49cb-9b72-9c8f1dd02f1d",
    "tags": []
   },
   "source": [
    "# Analyze models\n",
    "##### authors: Elizabeth A. Barnes and Noah Diffenbaugh\n",
    "##### date: March 20, 2022\n"
   ]
  },
  {
   "cell_type": "markdown",
   "id": "7ccff821-b304-4009-8fe8-75a213b3f421",
   "metadata": {
    "tags": []
   },
   "source": [
    "## Python stuff"
   ]
  },
  {
   "cell_type": "code",
   "execution_count": null,
   "id": "fb968382-4186-466e-a85b-b00caa5fc9be",
   "metadata": {
    "colab": {
     "base_uri": "https://localhost:8080/"
    },
    "executionInfo": {
     "elapsed": 17642,
     "status": "ok",
     "timestamp": 1646449680995,
     "user": {
      "displayName": "Elizabeth Barnes",
      "photoUrl": "https://lh3.googleusercontent.com/a-/AOh14GiNPVVIWP6XAkP_hwu-8rAxoeeNuk2BMkX5-yuA=s64",
      "userId": "07585723222468022011"
     },
     "user_tz": 420
    },
    "id": "fb968382-4186-466e-a85b-b00caa5fc9be",
    "outputId": "d7964af9-2d52-4466-902d-9b85faba9a91",
    "tags": []
   },
   "outputs": [],
   "source": [
    "import sys, imp, os, copy\n",
    "\n",
    "import xarray as xr\n",
    "import numpy as np\n",
    "import pandas as pd\n",
    "import matplotlib.pyplot as plt\n",
    "import scipy.stats as stats\n",
    "import tensorflow as tf\n",
    "import tensorflow_probability as tfp\n",
    "\n",
    "import scipy.stats as stats\n",
    "import seaborn as sns\n",
    "\n",
    "import experiment_settings\n",
    "import file_methods, plots, data_processing\n",
    "\n",
    "import matplotlib as mpl\n",
    "mpl.rcParams[\"figure.facecolor\"] = \"white\"\n",
    "mpl.rcParams[\"figure.dpi\"] = 150\n",
    "savefig_dpi = 300\n",
    "np.warnings.filterwarnings(\"ignore\", category=np.VisibleDeprecationWarning)"
   ]
  },
  {
   "cell_type": "code",
   "execution_count": null,
   "id": "29a5cee3-6f4f-4818-92e1-1351eeeb565a",
   "metadata": {
    "colab": {
     "base_uri": "https://localhost:8080/"
    },
    "executionInfo": {
     "elapsed": 30,
     "status": "ok",
     "timestamp": 1646449681009,
     "user": {
      "displayName": "Elizabeth Barnes",
      "photoUrl": "https://lh3.googleusercontent.com/a-/AOh14GiNPVVIWP6XAkP_hwu-8rAxoeeNuk2BMkX5-yuA=s64",
      "userId": "07585723222468022011"
     },
     "user_tz": 420
    },
    "id": "29a5cee3-6f4f-4818-92e1-1351eeeb565a",
    "outputId": "e5f5b0ac-82b8-4147-bf44-4bc3b49466a2",
    "tags": []
   },
   "outputs": [],
   "source": [
    "print(f\"python version = {sys.version}\")\n",
    "print(f\"numpy version = {np.__version__}\")\n",
    "print(f\"xarray version = {xr.__version__}\")  \n",
    "print(f\"tensorflow version = {tf.__version__}\")  \n",
    "print(f\"tensorflow-probability version = {tfp.__version__}\")  "
   ]
  },
  {
   "cell_type": "markdown",
   "id": "651315ce-eecc-4d30-8b90-c97d08936315",
   "metadata": {
    "tags": []
   },
   "source": [
    "## User Choices"
   ]
  },
  {
   "cell_type": "code",
   "execution_count": null,
   "id": "c83a544f-ef35-417f-bec4-62225d885014",
   "metadata": {},
   "outputs": [],
   "source": [
    "EXP_NAME = 'exp20C_126_max'\n",
    "#-------------------------------------------------------\n",
    "\n",
    "settings = experiment_settings.get_settings(EXP_NAME)\n",
    "# display(settings)\n",
    "\n",
    "MODEL_DIRECTORY = 'saved_models/'        \n",
    "PREDICTIONS_DIRECTORY = 'saved_predictions/'\n",
    "DATA_DIRECTORY = 'data/'\n",
    "DIAGNOSTICS_DIRECTORY = 'model_diagnostics/'\n",
    "FIGURE_DIRECTORY = 'figures/'"
   ]
  },
  {
   "cell_type": "markdown",
   "id": "d73e25b5-ca78-4984-a318-12e47643aaca",
   "metadata": {},
   "source": [
    "## Get seed to show in plot\n",
    "You need to first run compare_random_seeds.ipynb to ensure the data/stats on your experiments were saved in the df_random_seed.pickle file."
   ]
  },
  {
   "cell_type": "code",
   "execution_count": null,
   "id": "a63880c0-517b-40b8-9685-4c1b47e56494",
   "metadata": {},
   "outputs": [],
   "source": [
    "df_metrics = pd.read_pickle(PREDICTIONS_DIRECTORY + \"df_random_seed.pickle\")\n",
    "df = df_metrics[df_metrics[\"exp_name\"]==EXP_NAME]\n",
    "PLOT_SEED = df_metrics.iloc[df['loss_val'].idxmin()][\"seed\"]\n",
    "print(PLOT_SEED)\n",
    "display(df)"
   ]
  },
  {
   "cell_type": "markdown",
   "id": "d5d089c5-afe9-4d5c-93d1-b67662256c1a",
   "metadata": {
    "tags": []
   },
   "source": [
    "## Get observations"
   ]
  },
  {
   "cell_type": "code",
   "execution_count": null,
   "id": "02eea0ec-ce97-469e-b7d6-da1fa0863927",
   "metadata": {
    "tags": []
   },
   "outputs": [],
   "source": [
    "## determine how many GCMs are being used\n",
    "filenames = file_methods.get_cmip_filenames(settings, verbose=0)\n",
    "N_GCMS = len(filenames)\n",
    "\n",
    "# get CMIP6 info\n",
    "N_TRAIN, N_VAL, N_TEST, ALL_MEMBERS = data_processing.get_members(settings)\n",
    "\n",
    "# load BEST observations for diagnostics plotting\n",
    "da_obs, x_obs, global_mean_obs = data_processing.get_observations(DATA_DIRECTORY, settings)\n",
    "\n",
    "# load GISS observations\n",
    "settings[\"obsdata\"] = 'GISS'\n",
    "da_obs_giss, x_obs_giss, global_mean_obs_giss = data_processing.get_observations(DATA_DIRECTORY, settings)\n"
   ]
  },
  {
   "cell_type": "markdown",
   "id": "47e6f742-a1e9-423c-9048-450208f54ca9",
   "metadata": {
    "tags": []
   },
   "source": [
    "## Plotting Functions"
   ]
  },
  {
   "cell_type": "code",
   "execution_count": null,
   "id": "9d29d831-aa15-46fd-89be-07628cc0f8b2",
   "metadata": {},
   "outputs": [],
   "source": [
    "FS = 10\n",
    "\n",
    "### for white background...\n",
    "# plt.rc('text',usetex=True)\n",
    "plt.rc('text',usetex=False)\n",
    "# plt.rc('font',**{'family':'sans-serif','sans-serif':['Avant Garde']}) \n",
    "plt.rc('font',**{'family':'sans-serif','sans-serif':['Helvetica']}) \n",
    "plt.rc('savefig',facecolor='white')\n",
    "plt.rc('axes',facecolor='white')\n",
    "plt.rc('axes',labelcolor='dimgrey')\n",
    "plt.rc('axes',labelcolor='dimgrey')\n",
    "plt.rc('xtick',color='dimgrey')\n",
    "plt.rc('ytick',color='dimgrey')\n",
    "################################  \n",
    "################################  \n",
    "def adjust_spines(ax, spines):\n",
    "    for loc, spine in ax.spines.items():\n",
    "        if loc in spines:\n",
    "            spine.set_position(('outward', 5))\n",
    "        else:\n",
    "            spine.set_color('none')  \n",
    "    if 'left' in spines:\n",
    "        ax.yaxis.set_ticks_position('left')\n",
    "    else:\n",
    "        ax.yaxis.set_ticks([])\n",
    "    if 'bottom' in spines:\n",
    "        ax.xaxis.set_ticks_position('bottom')\n",
    "    else:\n",
    "        ax.xaxis.set_ticks([]) \n",
    "\n",
    "def format_spines(ax):\n",
    "    adjust_spines(ax, ['left', 'bottom'])\n",
    "    ax.spines['top'].set_color('none')\n",
    "    ax.spines['right'].set_color('none')\n",
    "    ax.spines['left'].set_color('dimgrey')\n",
    "    ax.spines['bottom'].set_color('dimgrey')\n",
    "    ax.spines['left'].set_linewidth(2)\n",
    "    ax.spines['bottom'].set_linewidth(2)\n",
    "    ax.tick_params('both',length=4,width=2,which='major',color='dimgrey')\n",
    "#     ax.yaxis.grid(zorder=1,color='dimgrey',alpha=0.35)    \n",
    "    "
   ]
  },
  {
   "cell_type": "markdown",
   "id": "c807abd7-832a-484b-98cd-7e6c3a9f60c0",
   "metadata": {
    "id": "c807abd7-832a-484b-98cd-7e6c3a9f60c0",
    "tags": []
   },
   "source": [
    "## Load the observations predictions"
   ]
  },
  {
   "cell_type": "code",
   "execution_count": null,
   "id": "7becb266-c9fd-4098-a2ba-e6c52804b8bd",
   "metadata": {
    "colab": {
     "base_uri": "https://localhost:8080/",
     "height": 962
    },
    "executionInfo": {
     "elapsed": 105064,
     "status": "ok",
     "timestamp": 1646449809976,
     "user": {
      "displayName": "Elizabeth Barnes",
      "photoUrl": "https://lh3.googleusercontent.com/a-/AOh14GiNPVVIWP6XAkP_hwu-8rAxoeeNuk2BMkX5-yuA=s64",
      "userId": "07585723222468022011"
     },
     "user_tz": 420
    },
    "id": "7becb266-c9fd-4098-a2ba-e6c52804b8bd",
    "outputId": "5f2d4b54-fb88-418f-95a2-3c5e281cc2e4",
    "tags": []
   },
   "outputs": [],
   "source": [
    "rng = np.random.default_rng(settings[\"rng_seed\"])\n",
    "pred_obs_vec = np.zeros(shape=(settings['n_models'], x_obs.shape[0], 2))*np.nan\n",
    "\n",
    "for iloop in np.arange(settings['n_models']):\n",
    "    seed = rng.integers(low=1_000,high=10_000,size=1)[0]\n",
    "    settings[\"seed\"] = int(seed)\n",
    "\n",
    "    # get model name\n",
    "    model_name = file_methods.get_model_name(settings)\n",
    "    filename = PREDICTIONS_DIRECTORY+model_name + '_obs_predictions.pickle'\n",
    "    if os.path.exists(filename):\n",
    "        obs_pred_seed = pd.read_pickle(filename)\n",
    "        pred_obs_vec[iloop,:,0] = obs_pred_seed[:,0] \n",
    "        pred_obs_vec[iloop,:,1] = obs_pred_seed[:,1] \n",
    "    else:\n",
    "        print(model_name  +\" does not exist. Skipping...\") \n",
    "        print(\"================================\\n\")\n",
    "        continue    \n",
    "        #----------------------------------------\n",
    "        \n",
    "    if seed == PLOT_SEED:\n",
    "        obs_pred_plot = copy.deepcopy(obs_pred_seed)\n",
    "        model_name_plot = copy.deepcopy(model_name)\n",
    "\n",
    "print(\"done.\")"
   ]
  },
  {
   "cell_type": "markdown",
   "id": "da97b1cc-230d-4a5f-9982-2fee645f2edb",
   "metadata": {},
   "source": [
    "## Plot spread in $\\mu$ across random seeds"
   ]
  },
  {
   "cell_type": "code",
   "execution_count": null,
   "id": "f37611db-9e36-43c5-be3a-a1090b981a19",
   "metadata": {},
   "outputs": [],
   "source": [
    "INPUT_YEAR = 2021\n",
    "iyear = np.where(da_obs[\"time.year\"]==INPUT_YEAR)[0]\n",
    "\n",
    "perc_low = np.percentile(pred_obs_vec[:,iyear,0],25)\n",
    "perc_high = np.percentile(pred_obs_vec[:,iyear,0],25)\n",
    "\n",
    "i = np.where(pred_obs_vec==0)[0]\n",
    "pred_obs_vec[i] = np.nan\n",
    "\n",
    "plt.figure(figsize=(3.75,2.))\n",
    "plt.hist(INPUT_YEAR+pred_obs_vec[:,iyear,0],\n",
    "         bins=np.arange(1850,2100),\n",
    "         color=\"teal\",\n",
    "         width=.925,\n",
    "         edgecolor='mintcream',\n",
    "         alpha=.75,\n",
    "         density=True,\n",
    "        )\n",
    "\n",
    "\n",
    "plt.xticks(np.arange(-101,100,10)+2021,np.arange(-101,100,10)+2021)\n",
    "plt.yticks(np.arange(0,1.2,.1),np.arange(0,1.2,.1).round(1))\n",
    "plt.xlim(2010,2070)\n",
    "plt.ylim(0,.5)\n",
    "plt.xlabel('predicted target year',fontsize=FS)\n",
    "plt.ylabel('probability density',fontsize=FS)\n",
    "\n",
    "ax = plt.gca()\n",
    "format_spines(ax)\n",
    "\n",
    "plt.title('Years until ' + str(settings[\"target_temp\"]) + 'C under SSP' + settings[\"ssp\"][0] + '-' + settings[\"ssp\"][1] + '.' + settings[\"ssp\"][-1] + '\\nRidge Parameter = ' + str(settings[\"ridge_param\"][0]),\n",
    "          color='k',\n",
    "          fontsize=FS*1.2,\n",
    "         )\n",
    "plots.savefig(FIGURE_DIRECTORY + settings[\"exp_name\"] + '_spread_mu', dpi=savefig_dpi)\n",
    "plt.show()"
   ]
  },
  {
   "cell_type": "markdown",
   "id": "a4ca07ef-c91c-4bdf-87f0-0fdcd20e2c45",
   "metadata": {},
   "source": [
    "## Plot Single Seed Obs"
   ]
  },
  {
   "cell_type": "code",
   "execution_count": null,
   "id": "1e20aedf-69e4-4d33-b5a6-698d8e3c1a52",
   "metadata": {},
   "outputs": [],
   "source": [
    "clr_choice = 'darkorange'\n",
    "y_predict_obs = obs_pred_plot\n",
    "\n",
    "iy = np.where(da_obs['time.year'].values >= 2021-15)[0]\n",
    "x = da_obs['time.year'].values[iy]\n",
    "y = y_predict_obs[iy,0]\n",
    "linear_model = stats.linregress(x=x,y=y)\n",
    "\n",
    "#--------------------------------\n",
    "norm_incs = np.arange(-80,80,1)\n",
    "mu_pred = y_predict_obs[:,0]\n",
    "sigma_pred = y_predict_obs[:,1]\n",
    "norm_dist = tfp.distributions.Normal(mu_pred,sigma_pred)\n",
    "norm_perc_low = norm_dist.quantile(.25).numpy()   \n",
    "norm_perc_high = norm_dist.quantile(.75).numpy()      \n",
    "norm_perc_med = norm_dist.quantile(.5).numpy()      \n",
    "norm_cpd = norm_dist[-1].prob(norm_incs)\n",
    "y_predict_obs = norm_perc_med\n",
    "\n",
    "pred_text = (str(int(mu_pred[-1].round(0)+2021)) + \n",
    "             ' (' + str(int(norm_perc_low[-1].round(0)+2021)) + \n",
    "             ' to ' + str(int(norm_perc_high[-1].round(0)+2021)) + \n",
    "             ')'\n",
    "            )\n",
    "\n",
    "#------------------------------------------------------------\n",
    "ax = plt.subplots(1,2,figsize=(6,2.25),gridspec_kw={'width_ratios': [3, 2]})\n",
    "years = np.arange(1850,2022)\n",
    "\n",
    "plt.subplot(1,2,1)\n",
    "for iyear in np.arange(0,y_predict_obs.shape[0]):\n",
    "    if(years[iyear]<1980):\n",
    "        continue\n",
    "    min_val = norm_perc_low[iyear]\n",
    "    med_val = norm_perc_med[iyear]\n",
    "    max_val = norm_perc_high[iyear]\n",
    "\n",
    "    # clr = 'lightseagreen'\n",
    "    if(years[iyear]==2021):\n",
    "        clr = clr_choice\n",
    "    else:\n",
    "        clr = 'royalblue'\n",
    "    \n",
    "    plt.plot(years[iyear],\n",
    "             med_val,\n",
    "             'o',\n",
    "             markersize=4,\n",
    "             color=clr,\n",
    "            )\n",
    "    # comment out the plotting line below if you don't want \n",
    "    # error bars\n",
    "    plt.plot((years[iyear],years[iyear]),(min_val, max_val),\n",
    "             linestyle='-',\n",
    "             linewidth=.5,\n",
    "             color=clr,\n",
    "            )\n",
    "\n",
    "plt.plot(x,x*linear_model.slope+linear_model.intercept,'--', color='black')\n",
    "plt.text(2010,\n",
    "         norm_perc_med[-1]*.5,\n",
    "         'slope = ' + str(linear_model.slope.round(2)) + ' years/yr',         \n",
    "         horizontalalignment=\"right\",\n",
    "         verticalalignment=\"bottom\",\n",
    "         color='k',\n",
    "         fontsize=FS*0.8,\n",
    "        )\n",
    "\n",
    "plt.xticks(np.arange(1850,2100,10),np.arange(1850,2100,10))\n",
    "plt.yticks(np.arange(-100,100,20),np.arange(-100,100,20).round(0))\n",
    "plt.ylabel('years until target')\n",
    "plt.xlabel('year')\n",
    "\n",
    "plt.xlim(1979.25,2023)    \n",
    "plt.ylim(-10,80)\n",
    "format_spines(plt.gca())\n",
    "\n",
    "#---------------------------------------------------------------\n",
    "# plot PDF\n",
    "\n",
    "plt.subplot(1,2,2)\n",
    "plt.plot(norm_incs+2021,\n",
    "         norm_cpd,\n",
    "         linewidth=2.5,\n",
    "         color=clr_choice,\n",
    "        )\n",
    "         \n",
    "\n",
    "k = np.argmin(np.abs(norm_perc_low[-1]-norm_incs))\n",
    "# plt.plot((norm_perc_low[-1]+2021,norm_perc_low[-1]+2021),(0,norm_cpd[k]),'--',color=clr_choice)\n",
    "k = np.argmin(np.abs(norm_perc_high[-1]-norm_incs))\n",
    "# plt.plot((norm_perc_high[-1]+2021,norm_perc_high[-1]+2021),(0,norm_cpd[k]),'--',color=clr_choice)\n",
    "\n",
    "plt.text(mu_pred[-1]+2021,\n",
    "         np.max(norm_cpd)*1.05,\n",
    "         pred_text,         \n",
    "         horizontalalignment=\"center\",\n",
    "         verticalalignment=\"bottom\",\n",
    "         color='gray',\n",
    "         fontsize=FS*0.8,\n",
    "        )\n",
    "if(settings[\"target_temp\"]==1.1):\n",
    "    plt.text(norm_perc_high[-1]+2021+7.5,\n",
    "             np.max(norm_cpd)*0.35,\n",
    "             '2021',\n",
    "             fontsize=FS,\n",
    "             horizontalalignment=\"left\",\n",
    "             verticalalignment=\"bottom\",\n",
    "             color=clr_choice, \n",
    "             weight=\"bold\",\n",
    "            )\n",
    "\n",
    "plt.text(1998,\n",
    "         .15,\n",
    "         str(settings[\"target_temp\"]) + \"C\\nSSP\" + settings[\"ssp\"][0] + '-' + settings[\"ssp\"][1] + '.' + settings[\"ssp\"][-1],\n",
    "         fontsize=FS,\n",
    "         horizontalalignment=\"left\",\n",
    "         verticalalignment=\"top\",\n",
    "         color='k', \n",
    "         # weight=\"bold\",\n",
    "        )\n",
    "         \n",
    "plt.xlabel('year')\n",
    "# plt.title('Predictions for ' + settings[\"obsdata\"] + ' Observations under SSP' + settings[\"ssp\"] + '\\nYear = 2021')\n",
    "plt.xticks(np.arange(-101,100,20)+2021,np.arange(-101,100,20)+2021)\n",
    "plt.yticks(np.arange(0,.25,.05),np.arange(0,.25,.05).round(2))\n",
    "# plt.yticks([])\n",
    "\n",
    "plt.xlim(-25+2021,70+2021)\n",
    "plt.ylim(-0.001,.15)\n",
    "format_spines(plt.gca())\n",
    "# plt.gca().spines['left'].set_color(None)\n",
    "\n",
    "plt.tight_layout()\n",
    "plots.savefig(FIGURE_DIRECTORY + model_name_plot + '_obs_timeseries_spread', dpi=savefig_dpi)\n",
    "plt.show()"
   ]
  },
  {
   "cell_type": "markdown",
   "id": "b4428ef2-5b47-45c9-b526-5c3a6f0e16ff",
   "metadata": {},
   "source": [
    "## Analyze CMIP results"
   ]
  },
  {
   "cell_type": "code",
   "execution_count": null,
   "id": "b2c821de-a81e-4b1c-8adb-4fef2c7d3e55",
   "metadata": {},
   "outputs": [],
   "source": [
    "rng = np.random.default_rng(settings[\"rng_seed\"])\n",
    "settings[\"seed\"] = PLOT_SEED\n",
    "\n",
    "# get model name\n",
    "model_name = file_methods.get_model_name(settings)\n",
    "\n",
    "# load the model\n",
    "model = file_methods.load_tf_model(model_name, MODEL_DIRECTORY)\n",
    "\n",
    "# get the data\n",
    "(x_train, \n",
    " x_val, \n",
    " x_test, \n",
    " y_train, \n",
    " y_val, \n",
    " y_test, \n",
    " onehot_train, \n",
    " onehot_val, \n",
    " onehot_test, \n",
    " y_yrs_train, \n",
    " y_yrs_val, \n",
    " y_yrs_test, \n",
    " target_years, \n",
    " map_shape,\n",
    " settings) = data_processing.get_cmip_data(DATA_DIRECTORY, settings)\n"
   ]
  },
  {
   "cell_type": "code",
   "execution_count": null,
   "id": "9daf3c11-8e06-4975-8908-fd148da9901a",
   "metadata": {},
   "outputs": [],
   "source": [
    "top_pred_idx = 0\n",
    "\n",
    "YEARS_UNIQUE = np.unique(y_yrs_train)\n",
    "predict_train = model.predict(x_train)[:,top_pred_idx].flatten()\n",
    "predict_val = model.predict(x_val)[:,top_pred_idx].flatten()\n",
    "predict_test = model.predict(x_test)[:,top_pred_idx].flatten()\n",
    "mae = np.mean(np.abs(predict_test-y_test[:]))\n",
    "\n",
    "#--------------------------------\n",
    "clr = ('tab:purple','tab:orange', 'tab:blue', 'tab:green', 'gold', 'brown','black','darkorange')\n",
    "plt.subplots(1,2,figsize=(6,3))\n",
    "\n",
    "plt.subplot(1,2,1)\n",
    "plt.plot(y_yrs_train, predict_train,'.',color='gray',alpha=.5, label='training')\n",
    "# plt.title('Time to Target Year for ' + str(settings['target_temp']) + 'C using ssp' + str(settings['ssp']))\n",
    "plt.xlabel('year of map',fontsize=FS)\n",
    "plt.ylabel('predicted number of years',fontsize=FS)\n",
    "plt.yticks(np.arange(-80,100,20),np.arange(-80,100,20))\n",
    "plt.xticks(np.arange(1900,2120,25),np.arange(1900,2120,25))\n",
    "plt.ylim(-90,65)\n",
    "plt.axhline(y=0, color='gray', linewidth=1)\n",
    "format_spines(plt.gca())\n",
    "\n",
    "\n",
    "\n",
    "predict_val_mat = predict_val.reshape(N_GCMS,N_VAL,len(YEARS_UNIQUE))\n",
    "for i in np.arange(0,predict_val_mat.shape[0]):\n",
    "    plt.plot(YEARS_UNIQUE, predict_val_mat[i,:,:].swapaxes(1,0),\n",
    "             '.', \n",
    "             markersize=3,\n",
    "             label='validation', color=clr[i])\n",
    "    plt.axvline(x=target_years[i],linestyle='--',color=clr[i])\n",
    "\n",
    "    \n",
    "    \n",
    "plt.subplot(1,2,2)\n",
    "plt.plot(y_train, predict_train,'.',color='gray',alpha=.25, label='training',markersize=3,)\n",
    "plt.plot(y_val, predict_val,'.', label='validation',color='gray',alpha=.75,markersize=3,)\n",
    "plt.plot(y_test, predict_test,'.', label='testing',markersize=3)    \n",
    "plt.plot(y_train,y_train,'-',color='k',linewidth=1)\n",
    "plt.axvline(x=0,color='gray',linewidth=1)\n",
    "plt.axhline(y=0,color='gray',linewidth=1)\n",
    "# plt.title('Testing MAE = ' + str(mae.round(2)) + ' years')\n",
    "plt.xlabel('true number of years',fontsize=FS)\n",
    "plt.ylabel(None)\n",
    "plt.legend(fontsize=FS,frameon=False,markerscale=3.,loc=2)\n",
    "\n",
    "plt.xticks(np.arange(-80,100,20),np.arange(-80,100,20))\n",
    "plt.yticks(np.arange(-80,100,20),np.arange(-80,100,20))\n",
    "plt.xlim(-90,65)\n",
    "plt.ylim(-90,65)\n",
    "\n",
    "plt.text(-62.5,\n",
    "         -80,\n",
    "         'testing \\nMAE = ' + str(mae.round(1)) + ' yrs.',\n",
    "         fontsize=FS,\n",
    "         horizontalalignment=\"left\",\n",
    "         verticalalignment=\"center\",\n",
    "         color='k', \n",
    "         # weight=\"bold\",\n",
    "        )\n",
    "\n",
    "\n",
    "plt.suptitle('Number of years until ' + str(settings[\"target_temp\"]) + 'C' + ' is reached under SSP' + str(settings[\"ssp\"][0]) + '-' + str(settings[\"ssp\"][1]) + '.' + str(settings[\"ssp\"][2]),fontsize=FS*1.2)\n",
    "format_spines(plt.gca())\n",
    "\n",
    "plt.tight_layout()\n",
    "plots.savefig(FIGURE_DIRECTORY + model_name_plot + '_cmip_validation_scatter', dpi=savefig_dpi)\n",
    "plt.show()\n"
   ]
  },
  {
   "cell_type": "markdown",
   "id": "a0ff044c-6b90-4ade-a4ed-2d214e683d4b",
   "metadata": {},
   "source": [
    "### Plot PIT histogram"
   ]
  },
  {
   "cell_type": "code",
   "execution_count": null,
   "id": "90d30d16-9b08-4f96-ad2d-df8d8420a3d8",
   "metadata": {},
   "outputs": [],
   "source": [
    "imp.reload(plots)\n",
    "fig, ax = plt.subplots(1,1)\n",
    "# plots.plot_pits(ax, x_val=x_test, onehot_val=onehot_test,  model_shash = model)\n",
    "plots.plot_pits(ax, x_val=np.append(x_val,x_test,axis=0), onehot_val=np.append(onehot_val,onehot_test,axis=0),  model_shash = model)\n",
    "plt.ylim(0,.25)\n",
    "format_spines(plt.gca())\n",
    "plots.savefig(FIGURE_DIRECTORY + model_name + '_pit', dpi=savefig_dpi)\n",
    "plt.show()\n",
    "# plt.close()"
   ]
  },
  {
   "cell_type": "markdown",
   "id": "79e3520f-b456-4f07-9efd-32cfdf7ef71a",
   "metadata": {
    "jp-MarkdownHeadingCollapsed": true,
    "tags": []
   },
   "source": [
    "#### "
   ]
  }
 ],
 "metadata": {
  "colab": {
   "collapsed_sections": [],
   "name": "_main.ipynb",
   "provenance": []
  },
  "kernelspec": {
   "display_name": "Python 3 (ipykernel)",
   "language": "python",
   "name": "python3"
  },
  "language_info": {
   "codemirror_mode": {
    "name": "ipython",
    "version": 3
   },
   "file_extension": ".py",
   "mimetype": "text/x-python",
   "name": "python",
   "nbconvert_exporter": "python",
   "pygments_lexer": "ipython3",
   "version": "3.9.10"
  }
 },
 "nbformat": 4,
 "nbformat_minor": 5
}
