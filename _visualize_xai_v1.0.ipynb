{
 "cells": [
  {
   "cell_type": "markdown",
   "id": "6da79c16-eb43-4664-a883-7a31f3af00da",
   "metadata": {
    "id": "4a650402-4774-49cb-9b72-9c8f1dd02f1d",
    "tags": []
   },
   "source": [
    "# Visualize XAI\n",
    "##### authors: Elizabeth A. Barnes and Noah Diffenbaugh\n",
    "##### date: March 20, 2022\n"
   ]
  },
  {
   "cell_type": "markdown",
   "id": "7ccff821-b304-4009-8fe8-75a213b3f421",
   "metadata": {
    "tags": []
   },
   "source": [
    "## Python stuff"
   ]
  },
  {
   "cell_type": "code",
   "execution_count": null,
   "id": "fb968382-4186-466e-a85b-b00caa5fc9be",
   "metadata": {
    "colab": {
     "base_uri": "https://localhost:8080/"
    },
    "executionInfo": {
     "elapsed": 17642,
     "status": "ok",
     "timestamp": 1646449680995,
     "user": {
      "displayName": "Elizabeth Barnes",
      "photoUrl": "https://lh3.googleusercontent.com/a-/AOh14GiNPVVIWP6XAkP_hwu-8rAxoeeNuk2BMkX5-yuA=s64",
      "userId": "07585723222468022011"
     },
     "user_tz": 420
    },
    "id": "fb968382-4186-466e-a85b-b00caa5fc9be",
    "outputId": "d7964af9-2d52-4466-902d-9b85faba9a91",
    "tags": []
   },
   "outputs": [],
   "source": [
    "import sys, imp, os, copy\n",
    "\n",
    "import cmocean\n",
    "import xarray as xr\n",
    "import numpy as np\n",
    "import pandas as pd\n",
    "import matplotlib.pyplot as plt\n",
    "from matplotlib.colors import ListedColormap, LinearSegmentedColormap\n",
    "import cartopy as ct\n",
    "import scipy.stats as stats\n",
    "import tensorflow as tf\n",
    "import tensorflow_probability as tfp\n",
    "import silence_tensorflow\n",
    "silence_tensorflow\n",
    "\n",
    "import scipy.stats as stats\n",
    "import seaborn as sns\n",
    "import cmaps as cmaps_ncl\n",
    "\n",
    "import experiment_settings\n",
    "import file_methods, plots, data_processing, xai\n",
    "\n",
    "import matplotlib as mpl\n",
    "mpl.rcParams[\"figure.facecolor\"] = \"white\"\n",
    "mpl.rcParams[\"figure.dpi\"] = 150\n",
    "savefig_dpi = 300\n",
    "np.warnings.filterwarnings(\"ignore\", category=np.VisibleDeprecationWarning)"
   ]
  },
  {
   "cell_type": "code",
   "execution_count": null,
   "id": "29a5cee3-6f4f-4818-92e1-1351eeeb565a",
   "metadata": {
    "colab": {
     "base_uri": "https://localhost:8080/"
    },
    "executionInfo": {
     "elapsed": 30,
     "status": "ok",
     "timestamp": 1646449681009,
     "user": {
      "displayName": "Elizabeth Barnes",
      "photoUrl": "https://lh3.googleusercontent.com/a-/AOh14GiNPVVIWP6XAkP_hwu-8rAxoeeNuk2BMkX5-yuA=s64",
      "userId": "07585723222468022011"
     },
     "user_tz": 420
    },
    "id": "29a5cee3-6f4f-4818-92e1-1351eeeb565a",
    "outputId": "e5f5b0ac-82b8-4147-bf44-4bc3b49466a2",
    "tags": []
   },
   "outputs": [],
   "source": [
    "print(f\"python version = {sys.version}\")\n",
    "print(f\"numpy version = {np.__version__}\")\n",
    "print(f\"xarray version = {xr.__version__}\")  \n",
    "print(f\"tensorflow version = {tf.__version__}\")  \n",
    "print(f\"tensorflow-probability version = {tfp.__version__}\")  "
   ]
  },
  {
   "cell_type": "markdown",
   "id": "651315ce-eecc-4d30-8b90-c97d08936315",
   "metadata": {
    "tags": []
   },
   "source": [
    "## User Choices"
   ]
  },
  {
   "cell_type": "code",
   "execution_count": null,
   "id": "c83a544f-ef35-417f-bec4-62225d885014",
   "metadata": {},
   "outputs": [],
   "source": [
    "EXP_NAME = 'exp15C_370'\n",
    "\n",
    "#-------------------------------------------------------\n",
    "\n",
    "settings = experiment_settings.get_settings(EXP_NAME)\n",
    "display(settings)\n",
    "\n",
    "MODEL_DIRECTORY = 'saved_models/'        \n",
    "PREDICTIONS_DIRECTORY = 'saved_predictions/'\n",
    "DATA_DIRECTORY = 'data/'\n",
    "DIAGNOSTICS_DIRECTORY = 'model_diagnostics/'\n",
    "FIGURE_DIRECTORY = 'figures/'"
   ]
  },
  {
   "cell_type": "markdown",
   "id": "d5d089c5-afe9-4d5c-93d1-b67662256c1a",
   "metadata": {
    "tags": []
   },
   "source": [
    "## Initial housekeeping"
   ]
  },
  {
   "cell_type": "code",
   "execution_count": null,
   "id": "02eea0ec-ce97-469e-b7d6-da1fa0863927",
   "metadata": {
    "tags": []
   },
   "outputs": [],
   "source": [
    "# get seed to plot\n",
    "df_metrics = pd.read_pickle(PREDICTIONS_DIRECTORY + \"df_random_seed.pickle\")\n",
    "df = df_metrics[df_metrics[\"exp_name\"]==EXP_NAME]\n",
    "PLOT_SEED = df_metrics.iloc[df['loss_val'].idxmin()][\"seed\"]\n",
    "print('PLOT_SEED = ' + str(PLOT_SEED))\n",
    "\n",
    "## determine how many GCMs are being used\n",
    "filenames = file_methods.get_cmip_filenames(settings, verbose=0)\n",
    "N_GCMS = len(filenames)\n",
    "\n",
    "# load observations for diagnostics plotting\n",
    "da_obs, x_obs, global_mean_obs = data_processing.get_observations(DATA_DIRECTORY, settings)\n",
    "N_TRAIN, N_VAL, N_TEST, ALL_MEMBERS = data_processing.get_members(settings)"
   ]
  },
  {
   "cell_type": "markdown",
   "id": "47e6f742-a1e9-423c-9048-450208f54ca9",
   "metadata": {
    "jp-MarkdownHeadingCollapsed": true,
    "tags": []
   },
   "source": [
    "## Plotting Functions"
   ]
  },
  {
   "cell_type": "code",
   "execution_count": null,
   "id": "6a3cd546-daf9-4cd8-9472-7860b13fb291",
   "metadata": {},
   "outputs": [],
   "source": [
    "def set_cb_xai(cb):\n",
    "    cb.set_label(None)\n",
    "    cb.ax.set_xticks((-0.05,0.05))    \n",
    "    cb.ax.set_xticklabels(['further\\nfrom target','nearer\\nto target'],\n",
    "                          fontsize=FS*.8,\n",
    "                         )    \n",
    "    "
   ]
  },
  {
   "cell_type": "code",
   "execution_count": null,
   "id": "9d29d831-aa15-46fd-89be-07628cc0f8b2",
   "metadata": {},
   "outputs": [],
   "source": [
    "FS = 10\n",
    "\n",
    "### for white background...\n",
    "plt.rc('text',usetex=False)\n",
    "# plt.rc('text',usetex=True)\n",
    "plt.rc('font',**{'family':'sans-serif','sans-serif':['Helvetica']}) \n",
    "plt.rc('savefig',facecolor='white')\n",
    "plt.rc('axes',facecolor='white')\n",
    "plt.rc('axes',labelcolor='dimgrey')\n",
    "plt.rc('axes',labelcolor='dimgrey')\n",
    "plt.rc('xtick',color='dimgrey')\n",
    "plt.rc('ytick',color='dimgrey')\n",
    "################################  \n",
    "################################  \n",
    "def adjust_spines(ax, spines):\n",
    "    for loc, spine in ax.spines.items():\n",
    "        if loc in spines:\n",
    "            spine.set_position(('outward', 5))\n",
    "        else:\n",
    "            spine.set_color('none')  \n",
    "    if 'left' in spines:\n",
    "        ax.yaxis.set_ticks_position('left')\n",
    "    else:\n",
    "        ax.yaxis.set_ticks([])\n",
    "    if 'bottom' in spines:\n",
    "        ax.xaxis.set_ticks_position('bottom')\n",
    "    else:\n",
    "        ax.xaxis.set_ticks([]) \n",
    "\n",
    "def format_spines(ax):\n",
    "    adjust_spines(ax, ['left', 'bottom'])\n",
    "    ax.spines['top'].set_color('none')\n",
    "    ax.spines['right'].set_color('none')\n",
    "    ax.spines['left'].set_color('dimgrey')\n",
    "    ax.spines['bottom'].set_color('dimgrey')\n",
    "    ax.spines['left'].set_linewidth(2)\n",
    "    ax.spines['bottom'].set_linewidth(2)\n",
    "    ax.tick_params('both',length=4,width=2,which='major',color='dimgrey')\n",
    "#     ax.yaxis.grid(zorder=1,color='dimgrey',alpha=0.35)    \n",
    "    "
   ]
  },
  {
   "cell_type": "markdown",
   "id": "c807abd7-832a-484b-98cd-7e6c3a9f60c0",
   "metadata": {
    "id": "c807abd7-832a-484b-98cd-7e6c3a9f60c0",
    "jp-MarkdownHeadingCollapsed": true,
    "tags": []
   },
   "source": [
    "## Load the Model"
   ]
  },
  {
   "cell_type": "code",
   "execution_count": null,
   "id": "7becb266-c9fd-4098-a2ba-e6c52804b8bd",
   "metadata": {
    "colab": {
     "base_uri": "https://localhost:8080/",
     "height": 962
    },
    "executionInfo": {
     "elapsed": 105064,
     "status": "ok",
     "timestamp": 1646449809976,
     "user": {
      "displayName": "Elizabeth Barnes",
      "photoUrl": "https://lh3.googleusercontent.com/a-/AOh14GiNPVVIWP6XAkP_hwu-8rAxoeeNuk2BMkX5-yuA=s64",
      "userId": "07585723222468022011"
     },
     "user_tz": 420
    },
    "id": "7becb266-c9fd-4098-a2ba-e6c52804b8bd",
    "outputId": "5f2d4b54-fb88-418f-95a2-3c5e281cc2e4",
    "tags": []
   },
   "outputs": [],
   "source": [
    "rng = np.random.default_rng(settings[\"rng_seed\"])\n",
    "settings[\"seed\"] = PLOT_SEED\n",
    "\n",
    "# get the cmip data\n",
    "(x_train, \n",
    " x_val, \n",
    " x_test, \n",
    " y_train, \n",
    " y_val, \n",
    " y_test, \n",
    " onehot_train, \n",
    " onehot_val, \n",
    " onehot_test, \n",
    " y_yrs_train, \n",
    " y_yrs_val, \n",
    " y_yrs_test, \n",
    " target_years, \n",
    " map_shape,\n",
    " settings) = data_processing.get_cmip_data(DATA_DIRECTORY, settings)\n",
    "\n",
    "\n",
    "# get model name\n",
    "model_name = file_methods.get_model_name(settings)\n",
    "model = file_methods.load_tf_model(model_name, MODEL_DIRECTORY)"
   ]
  },
  {
   "cell_type": "markdown",
   "id": "da97b1cc-230d-4a5f-9982-2fee645f2edb",
   "metadata": {},
   "source": [
    "## XAI for CMIP models"
   ]
  },
  {
   "cell_type": "code",
   "execution_count": null,
   "id": "dca8dd5b-e223-4dc4-b9a3-e36141cf55b4",
   "metadata": {},
   "outputs": [],
   "source": [
    "imp.reload(xai)\n",
    "#=========================================\n",
    "# Define the samples you want to explain\n",
    "rng_subsample = np.random.default_rng(999)\n",
    "top_pred_idx = 0\n",
    "isubsample = rng_subsample.choice(np.arange(0,x_test.shape[0]),\n",
    "                        size = 500,\n",
    "                        replace = False,\n",
    "                       )\n",
    "\n",
    "inputs = np.copy(x_test[isubsample,:])\n",
    "targets = np.copy(y_test[isubsample])\n",
    "yrs = np.copy(y_yrs_test[isubsample])\n",
    "preds = model.predict(inputs)\n",
    "\n",
    "#=========================================\n",
    "#---------------------------------------\n",
    "# Gradient x Input\n",
    "#---------------------------------------\n",
    "# compute the multiplication of gradient * inputs\n",
    "# and reshape into a map of latitude x longitude\n",
    "\n",
    "grads = xai.get_gradients(model,inputs,top_pred_idx).numpy()\n",
    "grad_x_input = grads * inputs\n",
    "grad_x_input = grad_x_input.reshape((len(targets),map_shape[0],map_shape[1]))\n",
    "print(np.shape(grad_x_input))\n",
    "\n",
    "#---------------------------------------\n",
    "# Integrated Gradients\n",
    "#---------------------------------------\n",
    "baseline_mean = np.mean(x_train,axis=0)*0.    \n",
    "print('shape(baseline_mean) = ' + str(np.shape(baseline_mean)))\n",
    "print('model.predict(baseline_mean) = ' + str(model.predict(baseline_mean[np.newaxis,:])))\n",
    "\n",
    "igrad = xai.get_integrated_gradients(model,inputs, baseline=baseline_mean,top_pred_idx=top_pred_idx)\n",
    "integrated_gradients = igrad.numpy().reshape((len(targets),map_shape[0],map_shape[1]))\n",
    "print(np.shape(integrated_gradients))"
   ]
  },
  {
   "cell_type": "code",
   "execution_count": null,
   "id": "1d4ac1e8-8007-4c8b-90af-35eba814cb9e",
   "metadata": {
    "tags": []
   },
   "outputs": [],
   "source": [
    "map_proj = ct.crs.EqualEarth(central_longitude = 0.)\n",
    "\n",
    "# plot the resulting heatmaps for a subset of samples\n",
    "# based on their label\n",
    "plot_list = (21, 1)\n",
    "NCOL = 4\n",
    "clim_val = .05\n",
    "\n",
    "fig = plt.figure(figsize=(4*len(plot_list),10))\n",
    "# plt.subplots(len(plot_list),NCOL,figsize=(35,5*len(plot_list)))\n",
    "\n",
    "for irow,min_range in enumerate(plot_list):\n",
    "        \n",
    "    max_range = min_range + 4\n",
    "    isamples = np.where((targets >= min_range) & (targets <= max_range))[0]\n",
    "    igrad_mean = np.mean(integrated_gradients[isamples,:,:],axis=0)\n",
    "    grad_x_input_mean = np.mean(grad_x_input[isamples,:,:],axis=0)\n",
    "    grad_mean = np.mean(grads[isamples,:],axis=0).reshape((map_shape[0],map_shape[1]))\n",
    "    x_inputs_mean = np.mean(inputs[isamples,:],axis=0).reshape((map_shape[0],map_shape[1]))\n",
    "    x_inputs_mean = x_inputs_mean - baseline_mean.reshape((map_shape[0],map_shape[1]))\n",
    "    #------------------------------------------------------------------\n",
    "    \n",
    "    text = (\n",
    "            \"\\n\"\n",
    "            + f\"  label_range    = {min_range}-{max_range} yrs.\\n\"                    \n",
    "            + f\"  n_samples      = {len(isamples)}\\n\"\n",
    "    )  \n",
    "    print(text)\n",
    "    #------------------------------------------------------------------    \n",
    "    # plot average input map\n",
    "    ax = fig.add_subplot(NCOL,len(plot_list),irow+1,projection=map_proj)\n",
    "    cb,image = plots.drawOnGlobe(ax, \n",
    "                      map_proj, \n",
    "                      data=x_inputs_mean, # multiplying by negative 1 so colorbar has warm colors on the right \n",
    "                      lats=da_obs['lat'], \n",
    "                      lons=da_obs['lon'], \n",
    "                      cmap=cmaps_ncl.BlueDarkRed18,\n",
    "                      vmin= -4.5, \n",
    "                      vmax= 4.5, \n",
    "                      inc=None, \n",
    "                      cbarBool=True, \n",
    "                      contourMap=[], \n",
    "                      contourVals = [], \n",
    "                      fastBool=True, \n",
    "                      extent='both',\n",
    "                     )\n",
    "    ax.set_title('Temperature Anomaly\\n' + str(min_range) + '-' + str(max_range) + ' yrs. before target',fontsize=FS)\n",
    "    \n",
    "    #------------------------------------------------------------------\n",
    "    # plot explainability of gradient (saliency)    \n",
    "    ax = fig.add_subplot(NCOL,len(plot_list),3+irow,projection=map_proj)\n",
    "    cb,image = plots.drawOnGlobe(ax, \n",
    "                      map_proj, \n",
    "                      data=grad_mean*-1, # multiplying by negative 1 so colorbar has warm colors on the right \n",
    "                      lats=da_obs['lat'], \n",
    "                      lons=da_obs['lon'], \n",
    "                      vmin= -clim_val, \n",
    "                      vmax= clim_val, \n",
    "                      inc=None, \n",
    "                      cmap=ListedColormap(['#b35806','#e08214','#fdb863','#fee0b6','#f7f7f7','#d8daeb','#b2abd2','#8073ac','#542788'][::-1]),#cmocean.cm.tarn,\n",
    "                      cbarBool=True, \n",
    "                      contourMap=[], \n",
    "                      contourVals = [], \n",
    "                      fastBool=True, \n",
    "                      extent='both',\n",
    "                     )\n",
    "    set_cb_xai(cb)    \n",
    "    ax.set_title('Gradient (Saliency)',fontsize=FS)    \n",
    "        \n",
    "#     #------------------------------------------------------------------\n",
    "#     # plot explainability of input x gradient\n",
    "    ax = fig.add_subplot(NCOL,len(plot_list),5+irow,projection=map_proj)\n",
    "    cb,image = plots.drawOnGlobe(ax, \n",
    "                      map_proj, \n",
    "                      data=grad_x_input_mean*-1, # multiplying by negative 1 so colorbar has warm colors on the right \n",
    "                      lats=da_obs['lat'], \n",
    "                      lons=da_obs['lon'], \n",
    "                      vmin= -clim_val, \n",
    "                      vmax= clim_val, \n",
    "                      inc=None, \n",
    "                      cmap=ListedColormap(['#b35806','#e08214','#fdb863','#fee0b6','#f7f7f7','#d8daeb','#b2abd2','#8073ac','#542788'][::-1]),#cmocean.cm.tarn,\n",
    "                      cbarBool=True, \n",
    "                      contourMap=[], \n",
    "                      contourVals = [], \n",
    "                      fastBool=True, \n",
    "                      extent='both',\n",
    "                     )\n",
    "    set_cb_xai(cb)    \n",
    "    ax.set_title('Gradient x Input',fontsize=FS)    \n",
    "\n",
    "#     #------------------------------------------------------------------\n",
    "#     # plot explainability of integrated gradients\n",
    "    ax = fig.add_subplot(NCOL,len(plot_list),7+irow,projection=map_proj)\n",
    "    cb,image = plots.drawOnGlobe(ax, \n",
    "                      map_proj, \n",
    "                      data=igrad_mean*-1, # multiplying by negative 1 so colorbar has warm colors on the right \n",
    "                      lats=da_obs['lat'], \n",
    "                      lons=da_obs['lon'], \n",
    "                      vmin= -clim_val, \n",
    "                      vmax= clim_val, \n",
    "                      inc=None, \n",
    "                      cmap=ListedColormap(['#b35806','#e08214','#fdb863','#fee0b6','#f7f7f7','#d8daeb','#b2abd2','#8073ac','#542788'][::-1]),#cmocean.cm.tarn,\n",
    "                      cbarBool=True, \n",
    "                      contourMap=[], \n",
    "                      contourVals = [], \n",
    "                      fastBool=True, \n",
    "                      extent='both',\n",
    "                     )\n",
    "    set_cb_xai(cb)\n",
    "    ax.set_title('Integrated Gradients',fontsize=FS) \n",
    "    \n",
    "plt.tight_layout()   \n",
    "plots.savefig(FIGURE_DIRECTORY + model_name + '_cmip_xaiGrid',dpi=savefig_dpi)              \n",
    "plt.show()\n",
    "\n"
   ]
  },
  {
   "cell_type": "code",
   "execution_count": null,
   "id": "27352bfa-dd5a-4bd2-8e51-b924e19329c7",
   "metadata": {
    "jupyter": {
     "source_hidden": true
    },
    "tags": []
   },
   "outputs": [],
   "source": [
    "# # plot the resulting heatmaps for a subset of samples\n",
    "# # based on their label\n",
    "# plot_list = (40, 20, 10, 0)\n",
    "# NCOL = 4\n",
    "\n",
    "# plt.subplots(len(plot_list),NCOL,figsize=(35,5*len(plot_list)))\n",
    "\n",
    "# for irow,min_range in enumerate(plot_list):\n",
    "        \n",
    "#     max_range = min_range + 5\n",
    "#     isamples = np.where((targets >= min_range) & (targets <= max_range))[0]\n",
    "#     igrad_mean = np.mean(integrated_gradients[isamples,:,:],axis=0)\n",
    "#     grad_x_input_mean = np.mean(grad_x_input[isamples,:,:],axis=0)\n",
    "#     grad_mean = np.mean(grads[isamples,:],axis=0).reshape((map_shape[0],map_shape[1]))\n",
    "#     x_inputs_mean = np.mean(inputs[isamples,:],axis=0).reshape((map_shape[0],map_shape[1]))\n",
    "#     x_inputs_mean = x_inputs_mean - baseline_mean.reshape((map_shape[0],map_shape[1]))\n",
    "#     #------------------------------------------------------------------\n",
    "    \n",
    "#     text = (\n",
    "#             \"\\n\"\n",
    "#             + f\"  label_range    = {min_range}-{max_range} yrs.\\n\"                    \n",
    "#             + f\"  n_samples      = {len(isamples)}\\n\"\n",
    "#     )    \n",
    "#     #------------------------------------------------------------------    \n",
    "    \n",
    "#     # plot average input map\n",
    "#     plt.subplot(len(plot_list),NCOL,irow*NCOL+1)\n",
    "#     plots.plot_map(x_inputs_mean, \n",
    "#              text=text,\n",
    "#              clim=(-5,5),\n",
    "#              cmap='RdBu_r',\n",
    "#              title = 'Temperature anomaly from Baseline',\n",
    "#             )\n",
    "#     #------------------------------------------------------------------\n",
    "#     # plot explainability of gradient (saliency)\n",
    "#     plt.subplot(len(plot_list),NCOL,irow*NCOL+2)\n",
    "#     plots.plot_map(grad_mean, \n",
    "#              text=text,             \n",
    "#              clim=(-0.02, .02), \n",
    "#              title = 'Gradient (Saliency)',\n",
    "#             )\n",
    "    \n",
    "#     #------------------------------------------------------------------\n",
    "#     # plot explainability of input x gradient\n",
    "#     plt.subplot(len(plot_list),NCOL,irow*NCOL+3)\n",
    "#     plots.plot_map(grad_x_input_mean, \n",
    "#              text=text,\n",
    "#              clim=(-.02,.02),\n",
    "#              title = 'Gradient x Input',\n",
    "#             )\n",
    "\n",
    "#     #------------------------------------------------------------------\n",
    "#     # plot explainability of integrated gradients\n",
    "#     plt.subplot(len(plot_list),NCOL,irow*NCOL+4)\n",
    "#     plots.plot_map(igrad_mean, \n",
    "#              text=text,             \n",
    "#              clim=(-.02,.02), \n",
    "#              title = 'Integrated Gradients',\n",
    "#             )\n",
    "\n",
    "# plt.tight_layout()   \n",
    "\n",
    "# plt.savefig(FIGURE_DIRECTORY + model_name + '_cmip_xaiGrid.png', dpi=savefig_dpi)\n",
    "# plt.show()\n",
    "\n"
   ]
  },
  {
   "cell_type": "markdown",
   "id": "202e4bc9-ca63-4a91-8702-b2758dea2f7a",
   "metadata": {},
   "source": [
    "## XAI for Models and Obs"
   ]
  },
  {
   "cell_type": "code",
   "execution_count": null,
   "id": "c6efafd2-96cd-45bd-8151-3d08f4a68571",
   "metadata": {},
   "outputs": [],
   "source": [
    "\n",
    "\n"
   ]
  },
  {
   "cell_type": "code",
   "execution_count": null,
   "id": "1f86422b-5348-4e95-bf43-a79f8d5f4df9",
   "metadata": {},
   "outputs": [],
   "source": [
    "imp.reload(plots)\n",
    "map_proj = ct.crs.EqualEarth(central_longitude = 0.)\n",
    "fig = plt.figure(figsize=(3.,3.75))\n",
    "\n",
    "n_plot = 4\n",
    "top_pred_idx=0\n",
    "clim_val = .05\n",
    "\n",
    "for iloop,map_type in enumerate(('cmip','obs')):\n",
    "    if(map_type=='cmip'):\n",
    "        min_range = 10\n",
    "        max_range = min_range + 5\n",
    "        isamples = np.where((targets >= min_range) & (targets <= max_range))[0]\n",
    "        igrad_mean = np.mean(integrated_gradients[isamples,:,:],axis=0)\n",
    "        grad_x_input_mean = np.mean(grad_x_input[isamples,:,:],axis=0)        \n",
    "        plot_grads = grad_x_input_mean.reshape((len(da_obs['lat']),len(da_obs['lon']))) \n",
    "        \n",
    "        cbarBool = False\n",
    "        title_text = '(a) CMIP6 ' + str(min_range) + '-' + str(max_range) + ' yrs to target'\n",
    "        \n",
    "    elif(map_type=='obs'):\n",
    "        grads_obs = xai.get_gradients(model,x_obs[-n_plot:,:],top_pred_idx=top_pred_idx).numpy()*x_obs[-n_plot:,:]\n",
    "        print('np.shape(grads_obs) = ' + str(np.shape(grads_obs)))\n",
    "        grad_x_input_obs = grads_obs * x_obs[-n_plot:,:]\n",
    "        grad_x_input_obs = grad_x_input_obs.reshape((n_plot,map_shape[0],map_shape[1]))\n",
    "        grad_x_input_obs_mean = np.mean(grad_x_input_obs,axis=0)        \n",
    "        plot_grads = grad_x_input_obs_mean\n",
    "\n",
    "        cbarBool = True\n",
    "        title_text = '(b) Observations ' + str(2021-n_plot+1) + '-' + str(2021) \n",
    "        \n",
    "    else:\n",
    "        raise NotImplemented('no such map_type')\n",
    "    \n",
    "    ax = fig.add_subplot(2,1,iloop+1,projection=map_proj)\n",
    "    cb,image = plots.drawOnGlobe(ax, \n",
    "                      map_proj, \n",
    "                      data=plot_grads*-1, # multiplying by negative 1 so colorbar has warm colors on the right \n",
    "                      lats=da_obs['lat'], \n",
    "                      lons=da_obs['lon'], \n",
    "                      cmap=ListedColormap(['#b35806','#e08214','#fdb863','#fee0b6','#f7f7f7','#d8daeb','#b2abd2','#8073ac','#542788'][::-1]),#cmocean.cm.tarn,\n",
    "                      vmin= -clim_val, \n",
    "                      vmax= clim_val, \n",
    "                      inc=None, \n",
    "                      cbarBool=cbarBool, \n",
    "                      contourMap=[], \n",
    "                      contourVals = [], \n",
    "                      fastBool=False, \n",
    "                      extent='both',\n",
    "                     )\n",
    "    ax.set_title(title_text, fontsize=FS*1.0)\n",
    "    if cbarBool:\n",
    "        cb.set_label(None)\n",
    "        cb.ax.set_xticks((-clim_val,clim_val))\n",
    "        cb.ax.set_xticklabels(['further\\nfrom target','nearer\\nto target'],\n",
    "                              fontsize=FS*.8,\n",
    "                             )\n",
    "        \n",
    "plt.tight_layout()\n",
    "plots.savefig(FIGURE_DIRECTORY + model_name + '_cmip_obs_xai_grad_x_input',dpi=savefig_dpi)              \n",
    "plt.show()"
   ]
  },
  {
   "cell_type": "code",
   "execution_count": null,
   "id": "b228ec8d-200d-4643-9471-be7e45f96d30",
   "metadata": {},
   "outputs": [],
   "source": [
    "print('PLOT_SEED = ' + str(PLOT_SEED))"
   ]
  },
  {
   "cell_type": "code",
   "execution_count": null,
   "id": "0705e381-344d-4d33-8e71-c83536c35778",
   "metadata": {},
   "outputs": [],
   "source": []
  }
 ],
 "metadata": {
  "colab": {
   "collapsed_sections": [],
   "name": "_main.ipynb",
   "provenance": []
  },
  "kernelspec": {
   "display_name": "Python 3 (ipykernel)",
   "language": "python",
   "name": "python3"
  },
  "language_info": {
   "codemirror_mode": {
    "name": "ipython",
    "version": 3
   },
   "file_extension": ".py",
   "mimetype": "text/x-python",
   "name": "python",
   "nbconvert_exporter": "python",
   "pygments_lexer": "ipython3",
   "version": "3.9.10"
  }
 },
 "nbformat": 4,
 "nbformat_minor": 5
}
