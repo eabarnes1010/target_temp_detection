{
 "cells": [
  {
   "cell_type": "markdown",
   "id": "6da79c16-eb43-4664-a883-7a31f3af00da",
   "metadata": {
    "id": "4a650402-4774-49cb-9b72-9c8f1dd02f1d",
    "pycharm": {
     "name": "#%% md\n"
    },
    "tags": []
   },
   "source": [
    "# Compare across random seeds\n",
    "##### authors: Elizabeth A. Barnes and Noah Diffenbaugh\n",
    "##### date: March 25, 2022\n"
   ]
  },
  {
   "cell_type": "markdown",
   "id": "7ccff821-b304-4009-8fe8-75a213b3f421",
   "metadata": {
    "pycharm": {
     "name": "#%% md\n"
    },
    "tags": []
   },
   "source": [
    "## Python stuff"
   ]
  },
  {
   "cell_type": "code",
   "execution_count": null,
   "id": "b9b3c60f",
   "metadata": {
    "pycharm": {
     "name": "#%%\n"
    }
   },
   "outputs": [],
   "source": [
    "%%javascript\n",
    "require(\n",
    "        [\"notebook/js/outputarea\"],\n",
    "        function (oa) {\n",
    "            oa.OutputArea.auto_scroll_threshold = -1;\n",
    "            console.log(\"Setting auto_scroll_threshold to -1\");\n",
    "        });\n",
    "\n",
    "%%javascript\n",
    "require(\"notebook/js/notebook\").Notebook.prototype.scroll_to_bottom = function () {}"
   ]
  },
  {
   "cell_type": "code",
   "execution_count": null,
   "id": "fb968382-4186-466e-a85b-b00caa5fc9be",
   "metadata": {
    "colab": {
     "base_uri": "https://localhost:8080/"
    },
    "executionInfo": {
     "elapsed": 17642,
     "status": "ok",
     "timestamp": 1646449680995,
     "user": {
      "displayName": "Elizabeth Barnes",
      "photoUrl": "https://lh3.googleusercontent.com/a-/AOh14GiNPVVIWP6XAkP_hwu-8rAxoeeNuk2BMkX5-yuA=s64",
      "userId": "07585723222468022011"
     },
     "user_tz": 420
    },
    "id": "fb968382-4186-466e-a85b-b00caa5fc9be",
    "outputId": "d7964af9-2d52-4466-902d-9b85faba9a91",
    "pycharm": {
     "name": "#%%\n"
    },
    "tags": []
   },
   "outputs": [],
   "source": [
    "import sys, os, copy, tqdm\n",
    "import importlib as imp\n",
    "\n",
    "import xarray as xr\n",
    "import numpy as np\n",
    "import pandas as pd\n",
    "import matplotlib.pyplot as plt\n",
    "import scipy.stats as stats\n",
    "import tensorflow as tf\n",
    "import tensorflow_probability as tfp\n",
    "import silence_tensorflow\n",
    "silence_tensorflow\n",
    "\n",
    "import scipy.stats as stats\n",
    "import seaborn as sns\n",
    "from tqdm import tqdm\n",
    "\n",
    "import experiment_settings\n",
    "import file_methods, plots, data_processing, custom_metrics, network\n",
    "\n",
    "import matplotlib as mpl\n",
    "mpl.rcParams[\"figure.facecolor\"] = \"white\"\n",
    "mpl.rcParams[\"figure.dpi\"] = 150\n",
    "savefig_dpi = 300\n",
    "np.warnings.filterwarnings(\"ignore\", category=np.VisibleDeprecationWarning)\n",
    "\n",
    "import warnings\n",
    "warnings.filterwarnings(\"ignore\")"
   ]
  },
  {
   "cell_type": "code",
   "execution_count": null,
   "id": "29a5cee3-6f4f-4818-92e1-1351eeeb565a",
   "metadata": {
    "colab": {
     "base_uri": "https://localhost:8080/"
    },
    "executionInfo": {
     "elapsed": 30,
     "status": "ok",
     "timestamp": 1646449681009,
     "user": {
      "displayName": "Elizabeth Barnes",
      "photoUrl": "https://lh3.googleusercontent.com/a-/AOh14GiNPVVIWP6XAkP_hwu-8rAxoeeNuk2BMkX5-yuA=s64",
      "userId": "07585723222468022011"
     },
     "user_tz": 420
    },
    "id": "29a5cee3-6f4f-4818-92e1-1351eeeb565a",
    "outputId": "e5f5b0ac-82b8-4147-bf44-4bc3b49466a2",
    "pycharm": {
     "name": "#%%\n"
    },
    "tags": []
   },
   "outputs": [],
   "source": [
    "print(f\"python version = {sys.version}\")\n",
    "print(f\"numpy version = {np.__version__}\")\n",
    "print(f\"xarray version = {xr.__version__}\")  \n",
    "print(f\"tensorflow version = {tf.__version__}\")  \n",
    "print(f\"tensorflow-probability version = {tfp.__version__}\")  "
   ]
  },
  {
   "cell_type": "markdown",
   "id": "651315ce-eecc-4d30-8b90-c97d08936315",
   "metadata": {
    "pycharm": {
     "name": "#%% md\n"
    },
    "tags": []
   },
   "source": [
    "## User Choices"
   ]
  },
  {
   "cell_type": "code",
   "execution_count": null,
   "id": "c83a544f-ef35-417f-bec4-62225d885014",
   "metadata": {
    "pycharm": {
     "name": "#%%\n"
    }
   },
   "outputs": [],
   "source": [
    "EXP_NAME_VEC = (\n",
    "                'exp11C_370','exp15C_370','exp20C_370','exp15C_126','exp20C_126','exp11C_126',\n",
    "                'exp11C_245','exp15C_245','exp20C_245',\n",
    "                'exp0','exp1','exp2','exp3','exp4','exp5',    # ridge sweep w/ hiddens = [10,10]\n",
    "                'exp10','exp11','exp12','exp13','exp14',      # hiddens sweep w/ ridge = 10.0\n",
    "                'exp20','exp21','exp22','exp23',              # hiddens sweep w/ ridge = 5.0                \n",
    "                'exp30','exp31','exp32','exp33',              # ridge sweep w/ hiddens = [25,25]\n",
    "                'exp15C_370_uniform','exp20C_370_uniform','exp15C_126_uniform','exp20C_126_uniform', \n",
    "                'exp20C_126_force','exp20C_126_extended','exp20C_126_max','exp20C_126_all7','exp20C_126_all7_b',\n",
    "                'exp15C_126_all10',\n",
    "                'exp20C_126_all7_baseAnoms',\n",
    "                'exp19C_126_all7','exp19C_126_all7_smooth','exp20C_126_smooth',\n",
    "                'exp15C_126_noM6','exp15C_126_test','exp15C_126_noSH',\n",
    "                'exp15C_370_smooth','exp13C_126','exp13C_370',\n",
    "                'exp15C_126_nohigh10','exp15C_126_nohigh7','exp15C_126_nohigh5',\n",
    "                'exp15C_126_smooth_nohigh10','exp15C_126_smooth_nohigh7','exp15C_126_smooth_nohigh5',\n",
    ")\n",
    "\n",
    "LOOP_THROUGH_EXP = True\n",
    "SAVE_FILE = True\n",
    "LOAD_METRICS = True\n",
    "OVERWRITE = False\n",
    "\n",
    "#-------------------------------------------------------\n",
    "\n",
    "MODEL_DIRECTORY = 'saved_models/'        \n",
    "PREDICTIONS_DIRECTORY = 'saved_predictions/'\n",
    "DATA_DIRECTORY = 'data/'\n",
    "DIAGNOSTICS_DIRECTORY = 'model_diagnostics/'\n",
    "FIGURE_DIRECTORY = 'figures/'"
   ]
  },
  {
   "cell_type": "markdown",
   "id": "47e6f742-a1e9-423c-9048-450208f54ca9",
   "metadata": {
    "pycharm": {
     "name": "#%% md\n"
    },
    "tags": []
   },
   "source": [
    "## Plotting Functions"
   ]
  },
  {
   "cell_type": "code",
   "execution_count": null,
   "id": "9d29d831-aa15-46fd-89be-07628cc0f8b2",
   "metadata": {
    "pycharm": {
     "name": "#%%\n"
    }
   },
   "outputs": [],
   "source": [
    "FS = 10\n",
    "palette=(\"tab:gray\",\"tab:purple\",\"tab:orange\",\"tab:blue\",\"tab:red\",\"tab:green\",\"tab:pink\",\"tab:brown\",\"tab:olive\")\n",
    "\n",
    "### for white background...\n",
    "# plt.rc('text',usetex=True)\n",
    "plt.rc('text',usetex=False)\n",
    "# plt.rc('font',**{'family':'sans-serif','sans-serif':['Avant Garde']}) \n",
    "plt.rc('font',**{'family':'sans-serif','sans-serif':['Helvetica']}) \n",
    "plt.rc('savefig',facecolor='white')\n",
    "plt.rc('axes',facecolor='white')\n",
    "plt.rc('axes',labelcolor='dimgrey')\n",
    "plt.rc('axes',labelcolor='dimgrey')\n",
    "plt.rc('xtick',color='dimgrey')\n",
    "plt.rc('ytick',color='dimgrey')\n",
    "################################  \n",
    "################################  \n",
    "def adjust_spines(ax, spines):\n",
    "    for loc, spine in ax.spines.items():\n",
    "        if loc in spines:\n",
    "            spine.set_position(('outward', 5))\n",
    "        else:\n",
    "            spine.set_color('none')  \n",
    "    if 'left' in spines:\n",
    "        ax.yaxis.set_ticks_position('left')\n",
    "    else:\n",
    "        ax.yaxis.set_ticks([])\n",
    "    if 'bottom' in spines:\n",
    "        ax.xaxis.set_ticks_position('bottom')\n",
    "    else:\n",
    "        ax.xaxis.set_ticks([]) \n",
    "\n",
    "def format_spines(ax):\n",
    "    adjust_spines(ax, ['left', 'bottom'])\n",
    "    ax.spines['top'].set_color('none')\n",
    "    ax.spines['right'].set_color('none')\n",
    "    ax.spines['left'].set_color('dimgrey')\n",
    "    ax.spines['bottom'].set_color('dimgrey')\n",
    "    ax.spines['left'].set_linewidth(2)\n",
    "    ax.spines['bottom'].set_linewidth(2)\n",
    "    ax.tick_params('both',length=4,width=2,which='major',color='dimgrey')\n",
    "#     ax.yaxis.grid(zorder=1,color='dimgrey',alpha=0.35)    \n",
    "    "
   ]
  },
  {
   "cell_type": "markdown",
   "id": "2daafc6b-3cbe-4cc3-8c6a-fcda10c75248",
   "metadata": {
    "pycharm": {
     "name": "#%% md\n"
    },
    "tags": []
   },
   "source": [
    "## Get obs"
   ]
  },
  {
   "cell_type": "code",
   "execution_count": null,
   "id": "29638693-2c37-4773-a80b-90f74728aaf8",
   "metadata": {
    "pycharm": {
     "name": "#%%\n"
    }
   },
   "outputs": [],
   "source": [
    "# load observations for diagnostics plotting\n",
    "settings = experiment_settings.get_settings(\"exp0\")\n",
    "da_obs, x_obs, global_mean_obs = data_processing.get_observations(DATA_DIRECTORY, settings)\n",
    "\n",
    "settings[\"obsdata\"] = 'GISS'\n",
    "da_obs_giss, x_obs_giss, global_mean_obs_giss = data_processing.get_observations(DATA_DIRECTORY, settings)"
   ]
  },
  {
   "cell_type": "markdown",
   "id": "a4ca07ef-c91c-4bdf-87f0-0fdcd20e2c45",
   "metadata": {
    "pycharm": {
     "name": "#%% md\n"
    },
    "tags": []
   },
   "source": [
    "## Analyze CMIP results across random seeds"
   ]
  },
  {
   "cell_type": "code",
   "execution_count": null,
   "id": "88b9c407-2a94-42d1-900b-bca27a0f4802",
   "metadata": {
    "pycharm": {
     "name": "#%%\n"
    },
    "tags": []
   },
   "outputs": [],
   "source": [
    "df_metrics = pd.DataFrame()\n",
    "if LOAD_METRICS == True:\n",
    "    df_metrics = pd.read_pickle(PREDICTIONS_DIRECTORY + \"df_random_seed.pickle\")\n",
    "\n",
    "    \n",
    "if LOOP_THROUGH_EXP == True:\n",
    "    for exp_name in EXP_NAME_VEC:\n",
    "        settings = experiment_settings.get_settings(exp_name)\n",
    "        rng = np.random.default_rng(settings[\"rng_seed\"])    \n",
    "        print(exp_name)\n",
    "\n",
    "        for iloop in np.arange(settings['n_models']):\n",
    "            seed = rng.integers(low=1_000,high=10_000,size=1)[0]\n",
    "            settings[\"seed\"] = int(seed)\n",
    "            tf.random.set_seed(settings[\"seed\"])\n",
    "            np.random.seed(settings[\"seed\"])\n",
    "\n",
    "            # check if entry exists\n",
    "            if LOAD_METRICS == True:\n",
    "                entry = df_metrics[(df_metrics[\"exp_name\"]==settings[\"exp_name\"]) & (df_metrics[\"seed\"]==settings[\"seed\"])]\n",
    "                if OVERWRITE == True:\n",
    "                    print('removing entry: ')\n",
    "                    display(entry)\n",
    "                    df_metrics=df_metrics.drop(index=entry.index,)                    \n",
    "                elif (len(entry) > 0):\n",
    "                    continue\n",
    "            \n",
    "            # get model name\n",
    "            model_name = file_methods.get_model_name(settings)\n",
    "            if os.path.exists(MODEL_DIRECTORY + model_name + \"_model\") == False:               \n",
    "                continue\n",
    "            model = file_methods.load_tf_model(model_name, MODEL_DIRECTORY)\n",
    "            # get the data\n",
    "            (x_train, \n",
    "             x_val, \n",
    "             x_test, \n",
    "             y_train, \n",
    "             y_val, \n",
    "             y_test, \n",
    "             onehot_train, \n",
    "             onehot_val, \n",
    "             onehot_test, \n",
    "             y_yrs_train, \n",
    "             y_yrs_val, \n",
    "             y_yrs_test, \n",
    "             target_years, \n",
    "             map_shape,\n",
    "             settings) = data_processing.get_cmip_data(DATA_DIRECTORY, settings, verbose=0)\n",
    "\n",
    "            #----------------------------------------        \n",
    "            # make predictions for observations and cmip results\n",
    "            pred_train = model.predict(x_train)\n",
    "            pred_val = model.predict(x_val)\n",
    "            pred_test = model.predict(x_test) \n",
    "            pred_obs = model.predict(x_obs)\n",
    "            pred_obs_giss = model.predict(x_obs_giss)\n",
    "\n",
    "            #----------------------------------------        \n",
    "            # compute metrics to compare\n",
    "            error_val = np.mean(np.abs(pred_val[:,0] - onehot_val[:,0]))\n",
    "            error_test = np.mean(np.abs(pred_test[:,0] - onehot_test[:,0]))    \n",
    "            __, __, d_val, __ = custom_metrics.compute_pit(onehot_val, x_data=x_val, model_shash = model)\n",
    "            __, __, d_test, __ = custom_metrics.compute_pit(onehot_test, x_data=x_test, model_shash = model)    \n",
    "            __, __, d_valtest, __ = custom_metrics.compute_pit(np.append(onehot_val,onehot_test,axis=0), x_data=np.append(x_val,x_test,axis=0), model_shash = model)    \n",
    "            loss_val = network.RegressLossExpSigma(onehot_val,pred_val).numpy()\n",
    "            loss_test = network.RegressLossExpSigma(onehot_test,pred_test).numpy()\n",
    "            \n",
    "            d = {}\n",
    "            d[\"exp_name\"] = settings[\"exp_name\"]\n",
    "            d[\"seed\"] = settings[\"seed\"]\n",
    "            d[\"hiddens\"] = str(settings[\"hiddens\"])\n",
    "            d[\"ridge_param\"] = settings[\"ridge_param\"][0]        \n",
    "            d[\"error_val\"] = error_val\n",
    "            d[\"error_test\"] = error_test\n",
    "            d[\"loss_val\"] = loss_val\n",
    "            d[\"loss_test\"] = loss_test            \n",
    "            d[\"d_val\"] = d_val\n",
    "            d[\"d_test\"] = d_test\n",
    "            d[\"d_valtest\"] = d_valtest\n",
    "            d[\"best_2021_mu\"] = pred_obs[-1][0]\n",
    "            d[\"best_2021_sigma\"] = pred_obs[-1][1]            \n",
    "            d[\"giss_2021_mu\"] = pred_obs_giss[-1][0]\n",
    "            d[\"giss_2021_sigma\"] = pred_obs_giss[-1][1]            \n",
    "\n",
    "            df = pd.DataFrame(d, index=[0])\n",
    "            df_metrics = pd.concat([df_metrics,df])\n",
    "\n",
    "    # there should NOT be any duplicates        \n",
    "    df_duplicated = df_metrics.duplicated(subset=(\"exp_name\",\"seed\"))\n",
    "    if(len(df_duplicated[df_duplicated==True]) > 0):\n",
    "        display(df_duplicated)\n",
    "        raise ValueError('there are duplicated entries!')\n",
    "    df_metrics = df_metrics.drop_duplicates(ignore_index=True, keep=\"last\", subset=(\"exp_name\",\"seed\"))        \n",
    "    \n",
    "    if SAVE_FILE:\n",
    "        df_metrics.to_pickle(PREDICTIONS_DIRECTORY + \"df_random_seed_rev2.pickle\")\n",
    "        \n",
    "    display(df_metrics)"
   ]
  },
  {
   "cell_type": "code",
   "execution_count": null,
   "id": "a3908458-5186-46e2-8758-db008096a564",
   "metadata": {
    "pycharm": {
     "name": "#%%\n"
    }
   },
   "outputs": [],
   "source": [
    "error('here')"
   ]
  },
  {
   "cell_type": "markdown",
   "id": "a640a189-c126-4ed1-89e5-ad620b82d4c4",
   "metadata": {
    "pycharm": {
     "name": "#%% md\n"
    },
    "tags": []
   },
   "source": [
    "## Random seeds for obs"
   ]
  },
  {
   "cell_type": "code",
   "execution_count": null,
   "id": "0001e72a-849a-46a1-bf8a-988961fd0248",
   "metadata": {
    "pycharm": {
     "name": "#%%\n"
    }
   },
   "outputs": [],
   "source": [
    "# PLOT ACROSS SSPs and TARGETS\n",
    "EXP_FOR_PLOTTING = ('exp11C_370','exp11C_245','exp11C_126','exp15C_370','exp15C_245','exp15C_126','exp20C_370','exp20C_245','exp20C_126')\n",
    "clr_order = [0,2,1,3,4,5,6,7,8,]\n",
    "x_labels = EXP_FOR_PLOTTING\n",
    "#------------------------------------------------------------\n",
    "fig, ax = plt.subplots(1,1,figsize=(6.5,2.75))\n",
    "\n",
    "for obs_type in ('best',):\n",
    "    for iexp,exp_name in enumerate(EXP_FOR_PLOTTING):\n",
    "        iplot = np.where(df_metrics[\"exp_name\"]==exp_name)[0]\n",
    "\n",
    "        if obs_type=='giss':\n",
    "            alpha = 0.3\n",
    "            shift_extra = .05\n",
    "            clr = np.array(palette)[clr_order][iexp]\n",
    "        else:\n",
    "            alpha = 1.0\n",
    "            shift_extra = 0.\n",
    "            clr = np.array(palette)[clr_order][iexp]\n",
    "        \n",
    "        ax.errorbar(np.ones(iplot.shape)*iexp+np.linspace(-.4,.4,len(iplot))+shift_extra,\n",
    "                df_metrics.iloc[iplot][obs_type + \"_2021_mu\"]+2021,\n",
    "                yerr=df_metrics.iloc[iplot][obs_type + \"_2021_sigma\"],\n",
    "                color=clr,\n",
    "                marker='.',\n",
    "                linestyle='',\n",
    "                elinewidth=.25,\n",
    "                markersize=2,\n",
    "                alpha=alpha,\n",
    "               )\n",
    "        \n",
    "        # plot the text above the bars\n",
    "        if obs_type=='best':\n",
    "            max_y_value = np.max(df_metrics.iloc[iplot][obs_type + \"_2021_mu\"]+df_metrics.iloc[iplot][obs_type + \"_2021_sigma\"])\n",
    "            if exp_name=='exp15C_370':\n",
    "                add_val = 3\n",
    "            elif exp_name=='exp20C_126' or exp_name=='exp15C_126':\n",
    "                add_val = -1\n",
    "            else:\n",
    "                add_val = 2\n",
    "            text_name = 'SSP'+exp_name[7]+'-'+exp_name[8] + '.' + exp_name[9] + '\\n' +exp_name[3] + '.' + exp_name[4]+'C'\n",
    "\n",
    "            plt.text(iexp,\n",
    "                     max_y_value+add_val+2021,\n",
    "                     text_name,\n",
    "                     fontsize=FS*0.8,\n",
    "                     color=np.array(palette)[clr_order][iexp],\n",
    "                     horizontalalignment='center',\n",
    "                    )\n",
    "\n",
    "\n",
    "ax.set_ylabel('year threshold is reached')\n",
    "ax.set_title('Observations 2021 Predicted $\\mu \\pm \\sigma$')\n",
    "ax.set_xlabel(None)\n",
    "format_spines(ax)\n",
    "ax.set_xticks(np.arange(0,len(x_labels)),'', fontsize=FS*0.8,rotation=45)\n",
    "ax.set_yticks(np.arange(1950,2100,10),np.arange(1950,2100,10).round())\n",
    "ax.set_ylim(-10+2021,60+2021)\n",
    "plt.grid(which='major',axis='y',linewidth=.25,linestyle='--',alpha=.5)\n",
    "\n",
    "plt.tight_layout()\n",
    "# plots.savefig(FIGURE_DIRECTORY + 'obs_BEST_GISS' + '_params_ssp_target_comparison',dpi=savefig_dpi)\n",
    "plots.savefig(FIGURE_DIRECTORY + 'obs_BEST' + '_params_ssp_target_comparison',dpi=savefig_dpi)\n",
    "plt.show()\n"
   ]
  },
  {
   "cell_type": "code",
   "execution_count": null,
   "id": "7495392a-21ed-4eb6-815e-708afd209f9d",
   "metadata": {
    "pycharm": {
     "name": "#%%\n"
    }
   },
   "outputs": [],
   "source": [
    "\n",
    "norm_incs = np.arange(-80,80,1)\n",
    "#------------------------------------------------------------\n",
    "fig, axs = plt.subplots(3,1,figsize=(4.9,2.75*3))\n",
    "\n",
    "PLOT_SEED = 2247\n",
    "obs_type = 'best'\n",
    "\n",
    "\n",
    "for thresh in (1.1, 1.5, 2.0):\n",
    "    if thresh==1.1:\n",
    "        EXP_FOR_PLOTTING = ('exp11C_370','exp11C_245','exp11C_126')   \n",
    "        ax = axs[0]\n",
    "        thresh_text = '1.1C'\n",
    "        text_x = 2040\n",
    "    elif thresh==1.5:\n",
    "        EXP_FOR_PLOTTING = ('exp15C_370','exp15C_245','exp15C_126')        \n",
    "        ax = axs[1]\n",
    "        thresh_text = '1.5C'        \n",
    "        text_x = 2050        \n",
    "    elif thresh==2.0:\n",
    "        EXP_FOR_PLOTTING = ('exp20C_370','exp20C_245','exp20C_126')        \n",
    "        ax = axs[2]       \n",
    "        thresh_text = '2.0C'        \n",
    "        text_x = 2068        \n",
    "    else:\n",
    "        raise ValueError('no such threshold')\n",
    "    for iexp,exp_name in enumerate(EXP_FOR_PLOTTING):\n",
    "        iplot = np.where((df_metrics[\"exp_name\"]==exp_name) & (df_metrics[\"seed\"]==PLOT_SEED))[0]\n",
    "\n",
    "        mu_pred = df_metrics.iloc[iplot][obs_type + \"_2021_mu\"].values[0]\n",
    "        sigma_pred = df_metrics.iloc[iplot][obs_type + \"_2021_sigma\"].values[0]\n",
    "        norm_dist = tfp.distributions.Normal(mu_pred,sigma_pred)\n",
    "        norm_perc_low = norm_dist.quantile(.25).numpy()   \n",
    "        norm_perc_high = norm_dist.quantile(.75).numpy()      \n",
    "        norm_perc_med = norm_dist.quantile(.5).numpy()      \n",
    "        norm_cpd = norm_dist.prob(norm_incs)\n",
    "\n",
    "        if(df_metrics.iloc[iplot][\"exp_name\"].values[0][-3:]=='370'):\n",
    "            clr = \"tab:red\"\n",
    "            # text_x = 2040\n",
    "            text_y = .05\n",
    "            ssp_text = 'SSP3-7.0'\n",
    "        elif(df_metrics.iloc[iplot][\"exp_name\"].values[0][-3:]=='245'):\n",
    "            clr = \"tab:purple\"\n",
    "            # text_x = 2050\n",
    "            text_y = .035        \n",
    "            ssp_text = 'SSP2-4.5'        \n",
    "        else:\n",
    "            clr = \"tab:blue\"\n",
    "            # text_x = 2070\n",
    "            text_y = .02        \n",
    "            ssp_text = 'SSP1-2.6'        \n",
    "\n",
    "        ax.plot(norm_incs+2021,\n",
    "                 norm_cpd,\n",
    "                 color=clr,\n",
    "                 linewidth=2.5,\n",
    "                )\n",
    "\n",
    "    #         # plot the text above the bars\n",
    "        text_name = ssp_text + '\\n' + str(int(np.round(mu_pred+2021))) + ' (' + str(int(np.round(mu_pred+2021-sigma_pred))) + ' to ' + str(int(np.round(mu_pred+2021+sigma_pred))) + ')'\n",
    "        ax.text(text_x,\n",
    "                 text_y,\n",
    "                 text_name,\n",
    "                 fontsize=FS*0.8,\n",
    "                 color=clr,\n",
    "                 horizontalalignment='left',\n",
    "                )\n",
    "    ax.text(1998,\n",
    "             .1,\n",
    "             thresh_text + ' threshold',\n",
    "             fontsize=FS,\n",
    "             horizontalalignment=\"left\",\n",
    "             verticalalignment=\"top\",\n",
    "             color='k', \n",
    "             # weight=\"bold\",\n",
    "            )    \n",
    "\n",
    "    ax.set_xlabel('year')\n",
    "    format_spines(ax)\n",
    "    ax.set_xlim(-25+2021,70+2021)\n",
    "    ax.set_ylim(-0.001,.1)\n",
    "\n",
    "plt.tight_layout()\n",
    "plots.savefig(FIGURE_DIRECTORY + 'obs_2021PDF_allSSPs',dpi=savefig_dpi)\n",
    "plt.show()\n"
   ]
  },
  {
   "cell_type": "markdown",
   "id": "a7ca0a86-5fe4-4d86-b0fc-5dfb74b0a3fd",
   "metadata": {
    "pycharm": {
     "name": "#%% md\n"
    },
    "tags": []
   },
   "source": [
    "## Plots across hyperparameters"
   ]
  },
  {
   "cell_type": "markdown",
   "id": "b0ccdbf7-e9e6-41f8-b5dd-9a4359730c53",
   "metadata": {
    "pycharm": {
     "name": "#%% md\n"
    },
    "tags": []
   },
   "source": [
    "### Plots across obs predictions"
   ]
  },
  {
   "cell_type": "code",
   "execution_count": null,
   "id": "a7d5f973-8118-4df7-985f-3e21b53a6102",
   "metadata": {
    "pycharm": {
     "name": "#%%\n"
    }
   },
   "outputs": [],
   "source": [
    "# PLOT ACROSS RIDGE CHOICES\n",
    "EXP_FOR_PLOTTING = ('exp12','exp30','exp31','exp32','exp33')\n",
    "df_metrics_plot = df_metrics[df_metrics[\"exp_name\"].isin(EXP_FOR_PLOTTING)]\n",
    "df_metrics_plot = df_metrics_plot.sort_values(\"ridge_param\")\n",
    "clr_order = [0,0,0,2,0,0,0,0,]\n",
    "print('PARAMETER CHECK: ' + str(df_metrics_plot[\"hiddens\"].unique()))\n",
    "#------------------------------------------------------------\n",
    "fig, axs = plt.subplots(1,2,figsize=(7,2.75))\n",
    "\n",
    "ax = axs[0]\n",
    "sns.swarmplot(x=\"exp_name\",\n",
    "              y=\"best_2021_mu\",\n",
    "              data=df_metrics_plot,\n",
    "              palette=np.array(palette)[clr_order],\n",
    "              size=2.5,\n",
    "              ax = ax,\n",
    "            )\n",
    "ax.set_ylabel('$\\mu$')\n",
    "ax.set_title('Obs. 2021 predicted $\\mu$')\n",
    "ax.set_ylim(0.0,25.0)\n",
    "format_spines(ax)\n",
    "ax.set_xlabel('ridge parameter',fontsize=FS)\n",
    "x_labels = df_metrics_plot[\"ridge_param\"].unique()\n",
    "ax.set_xticks(np.arange(0,len(x_labels)),x_labels, fontsize=FS*0.8,rotation=45)\n",
    "\n",
    "ax = axs[1]\n",
    "sns.swarmplot(x=\"exp_name\",\n",
    "              y=\"best_2021_sigma\",\n",
    "              data=df_metrics_plot,\n",
    "              palette=np.array(palette)[clr_order],\n",
    "              size=2.5,\n",
    "              ax=ax,\n",
    "            )\n",
    "ax.set_title('Obs. 2021 predicted $\\sigma$',fontsize=FS*1.2)\n",
    "ax.set_ylim(0,None)\n",
    "format_spines(ax)\n",
    "ax.set_ylabel('$\\sigma$')\n",
    "ax.set_xlabel('ridge parameter',fontsize=FS)\n",
    "x_labels = df_metrics_plot[\"ridge_param\"].unique()\n",
    "ax.set_xticks(np.arange(0,len(x_labels)),x_labels, fontsize=FS*0.8,rotation=45)\n",
    "\n",
    "\n",
    "plt.tight_layout()\n",
    "plots.savefig(FIGURE_DIRECTORY + 'obsBEST_params_ridge_comparison',dpi=savefig_dpi)\n",
    "plt.show()\n"
   ]
  },
  {
   "cell_type": "code",
   "execution_count": null,
   "id": "6d684280-1d84-4257-8d08-c9a50e640ec9",
   "metadata": {
    "pycharm": {
     "name": "#%%\n"
    }
   },
   "outputs": [],
   "source": [
    "# PLOT ACROSS HIDDEN CHOICES\n",
    "\n",
    "EXP_FOR_PLOTTING = ('exp5','exp10','exp11','exp12','exp13','exp14')\n",
    "# EXP_FOR_PLOTTING = ('exp4','exp20','exp21','exp22','exp23',)\n",
    "df_metrics_plot = df_metrics[df_metrics[\"exp_name\"].isin(EXP_FOR_PLOTTING)]\n",
    "df_metrics_plot = df_metrics_plot.sort_values(\"hiddens\")\n",
    "x_labels = df_metrics_plot[\"hiddens\"].unique()\n",
    "x_labels[x_labels=='[2]'] = '[2]\\nlinear'\n",
    "clr_order = [0,0,0,2,0,0,0,0,]\n",
    "print('PARAMETER CHECK: ' + str(df_metrics_plot[\"ridge_param\"].unique()))\n",
    "#------------------------------------------------------------\n",
    "fig, axs = plt.subplots(1,2,figsize=(7,2.75))\n",
    "\n",
    "ax = axs[0]\n",
    "sns.swarmplot(x=\"exp_name\",\n",
    "              y=\"best_2021_mu\",\n",
    "              data=df_metrics_plot,\n",
    "              palette=np.array(palette)[clr_order],\n",
    "              size=2.5,\n",
    "              ax = ax,\n",
    "            )\n",
    "ax.set_ylabel('$\\mu$')\n",
    "ax.set_title('Obs. 2021 predicted $\\mu$')\n",
    "ax.set_ylim(0.0,20.0)\n",
    "format_spines(ax)\n",
    "ax.set_xlabel('hidden layers x nodes',fontsize=FS)\n",
    "ax.set_xticks(np.arange(0,len(x_labels)),x_labels, fontsize=FS*0.8,rotation=45)\n",
    "\n",
    "ax = axs[1]\n",
    "sns.swarmplot(x=\"exp_name\",\n",
    "              y=\"best_2021_sigma\",\n",
    "              data=df_metrics_plot,\n",
    "              palette=np.array(palette)[clr_order],\n",
    "              size=2.5,\n",
    "              ax=ax,\n",
    "            )\n",
    "ax.set_title('Obs. 2021 predicted $\\sigma$',fontsize=FS*1.2)\n",
    "ax.set_ylim(2,None)\n",
    "format_spines(ax)\n",
    "ax.set_ylabel('$\\sigma$')\n",
    "ax.set_xlabel('hidden layers x nodes',fontsize=FS)\n",
    "ax.set_xticks(np.arange(0,len(x_labels)),x_labels, fontsize=FS*0.8,rotation=45)\n",
    "\n",
    "\n",
    "plt.tight_layout()\n",
    "plots.savefig(FIGURE_DIRECTORY + 'obsBEST_params_hiddens_comparison',dpi=savefig_dpi)\n",
    "plt.show()\n"
   ]
  },
  {
   "cell_type": "markdown",
   "id": "80cd3517-f8e2-4d6c-b51a-81a83dee4a0f",
   "metadata": {
    "pycharm": {
     "name": "#%% md\n"
    }
   },
   "source": [
    "### Error and PIT"
   ]
  },
  {
   "cell_type": "code",
   "execution_count": null,
   "id": "cb0ec9be-99ce-4f71-b473-490436078910",
   "metadata": {
    "pycharm": {
     "name": "#%%\n"
    }
   },
   "outputs": [],
   "source": [
    "# PLOT ACROSS RIDGE CHOICES\n",
    "EXP_FOR_PLOTTING = ('exp12','exp30','exp31','exp32','exp33')\n",
    "df_metrics_plot = df_metrics[df_metrics[\"exp_name\"].isin(EXP_FOR_PLOTTING)]\n",
    "df_metrics_plot = df_metrics_plot.sort_values(\"ridge_param\")\n",
    "clr_order = [0,0,0,2,0,0,0,0,]\n",
    "\n",
    "print('PARAMETER CHECK: ' + str(df_metrics_plot[\"hiddens\"].unique()))\n",
    "#------------------------------------------------------------\n",
    "fig, axs = plt.subplots(1,3,figsize=(8.5,2.5))\n",
    "\n",
    "ax = axs[0]\n",
    "sns.boxplot(x=\"exp_name\",\n",
    "            y=\"error_val\",\n",
    "            palette=np.array(palette)[clr_order],\n",
    "            data=df_metrics_plot,\n",
    "            boxprops=dict(alpha=.3, edgecolor='gray',linewidth=1.),\n",
    "            whiskerprops=dict(color='gray',linewidth=1.),\n",
    "            medianprops=dict(color='gray',linewidth=1.),\n",
    "            capprops=dict(color='gray',linewidth=1.),            \n",
    "            whis=100., \n",
    "            ax = ax,\n",
    "            )\n",
    "sns.swarmplot(x=\"exp_name\",\n",
    "              y=\"error_test\",\n",
    "              palette=np.array(palette)[clr_order],\n",
    "              data=df_metrics_plot,\n",
    "              size=2.5,\n",
    "              ax = ax,\n",
    "            )\n",
    "ax.set_ylabel('error (years)')\n",
    "ax.set_title('Mean Absolute Error')\n",
    "ax.set_ylim(2.0,5.0)\n",
    "format_spines(ax)\n",
    "ax.set_xlabel('ridge parameter',fontsize=FS)\n",
    "x_labels = df_metrics_plot[\"ridge_param\"].unique()\n",
    "ax.set_xticks(np.arange(0,len(x_labels)),x_labels, fontsize=FS*0.8,rotation=45)\n",
    "\n",
    "ax = axs[1]\n",
    "sns.boxplot(x=\"exp_name\",\n",
    "            y=\"d_val\",\n",
    "            data=df_metrics_plot,\n",
    "            palette=np.array(palette)[clr_order],\n",
    "            whis=100., \n",
    "            boxprops=dict(alpha=.3, edgecolor='gray',linewidth=1.),\n",
    "            whiskerprops=dict(color='gray',linewidth=1.),\n",
    "            medianprops=dict(color='gray',linewidth=1.),\n",
    "            capprops=dict(color='gray',linewidth=1.),            \n",
    "            ax = ax,\n",
    "            )\n",
    "sns.swarmplot(x=\"exp_name\",\n",
    "              y=\"d_test\",\n",
    "              data=df_metrics_plot,\n",
    "              palette=np.array(palette)[clr_order],\n",
    "              size=2.5,\n",
    "              ax=ax,\n",
    "            )\n",
    "ax.set_title('PIT D Metric',fontsize=FS*1.2)\n",
    "ax.set_ylim(0,.055)\n",
    "format_spines(ax)\n",
    "ax.set_xlabel('ridge parameter',fontsize=FS)\n",
    "x_labels = df_metrics_plot[\"ridge_param\"].unique()\n",
    "ax.set_xticks(np.arange(0,len(x_labels)),x_labels, fontsize=FS*0.8,rotation=45)\n",
    "\n",
    "ax = axs[2]\n",
    "sns.boxplot(x=\"exp_name\",\n",
    "            y=\"loss_val\",\n",
    "            data=df_metrics_plot,\n",
    "            palette=np.array(palette)[clr_order],\n",
    "            whis=100., \n",
    "            boxprops=dict(alpha=.3, edgecolor='gray',linewidth=1.),\n",
    "            whiskerprops=dict(color='gray',linewidth=1.),\n",
    "            medianprops=dict(color='gray',linewidth=1.),\n",
    "            capprops=dict(color='gray',linewidth=1.),            \n",
    "            ax = ax,\n",
    "            )\n",
    "sns.swarmplot(x=\"exp_name\",\n",
    "              y=\"loss_test\",\n",
    "              data=df_metrics_plot,\n",
    "              palette=np.array(palette)[clr_order],\n",
    "              size=2.5,\n",
    "              ax=ax,\n",
    "            )\n",
    "ax.set_title('Loss',fontsize=FS*1.2)\n",
    "ax.set_ylim(2.,5.0)\n",
    "format_spines(ax)\n",
    "ax.set_xlabel('ridge parameter',fontsize=FS)\n",
    "x_labels = df_metrics_plot[\"ridge_param\"].unique()\n",
    "ax.set_xticks(np.arange(0,len(x_labels)),x_labels, fontsize=FS*0.8,rotation=45)\n",
    "\n",
    "\n",
    "\n",
    "plt.tight_layout()\n",
    "plots.savefig(FIGURE_DIRECTORY + 'cmip6_metrics_ridge_comparison',dpi=savefig_dpi)\n",
    "plt.show()\n"
   ]
  },
  {
   "cell_type": "code",
   "execution_count": null,
   "id": "695cb70d-15c2-41b8-ada2-55fadacb146b",
   "metadata": {
    "pycharm": {
     "name": "#%%\n"
    }
   },
   "outputs": [],
   "source": [
    "# PLOT ACROSS HIDDEN CHOICES\n",
    "EXP_FOR_PLOTTING = ('exp5','exp10','exp11','exp12','exp13','exp14')\n",
    "df_metrics_plot = df_metrics[df_metrics[\"exp_name\"].isin(EXP_FOR_PLOTTING)]\n",
    "df_metrics_plot = df_metrics_plot.sort_values(\"hiddens\")\n",
    "x_labels = df_metrics_plot[\"hiddens\"].unique()\n",
    "x_labels[x_labels=='[2]'] = '[2]\\nlinear'\n",
    "clr_order = [0,0,0,2,0,0,0,0,]\n",
    "\n",
    "print('PARAMETER CHECK: ' + str(df_metrics_plot[\"ridge_param\"].unique()))\n",
    "#------------------------------------------------------------\n",
    "fig, axs = plt.subplots(1,3,figsize=(8.5,2.5))\n",
    "\n",
    "ax = axs[0]\n",
    "sns.boxplot(x=\"exp_name\",\n",
    "            y=\"error_val\",\n",
    "            data=df_metrics_plot,\n",
    "            palette=np.array(palette)[clr_order],\n",
    "            boxprops=dict(alpha=.3, edgecolor='gray',linewidth=1.),\n",
    "            whiskerprops=dict(color='gray',linewidth=1.),\n",
    "            medianprops=dict(color='gray',linewidth=1.),\n",
    "            capprops=dict(color='gray',linewidth=1.),            \n",
    "            whis=100., \n",
    "            ax = ax,\n",
    "            )\n",
    "sns.swarmplot(x=\"exp_name\",\n",
    "              y=\"error_test\",\n",
    "              data=df_metrics_plot,\n",
    "              palette=np.array(palette)[clr_order],\n",
    "              size=2.5,\n",
    "              ax = ax,\n",
    "            )\n",
    "ax.set_ylabel('error (years)')\n",
    "ax.set_title('Mean Absolute Error')\n",
    "ax.set_ylim(2.0,6.0)\n",
    "format_spines(ax)\n",
    "ax.set_xlabel('hidden layers x nodes',fontsize=FS)\n",
    "ax.set_xticks(np.arange(0,len(x_labels)),x_labels, fontsize=FS*0.8,rotation=45)\n",
    "\n",
    "ax = axs[1]\n",
    "sns.boxplot(x=\"exp_name\",\n",
    "            y=\"d_val\",\n",
    "            data=df_metrics_plot,\n",
    "            palette=np.array(palette)[clr_order],\n",
    "            whis=100., \n",
    "            boxprops=dict(alpha=.3, edgecolor='gray',linewidth=1.),\n",
    "            whiskerprops=dict(color='gray',linewidth=1.),\n",
    "            medianprops=dict(color='gray',linewidth=1.),\n",
    "            capprops=dict(color='gray',linewidth=1.),            \n",
    "            ax = ax,\n",
    "            )\n",
    "sns.swarmplot(x=\"exp_name\",\n",
    "              y=\"d_test\",\n",
    "              data=df_metrics_plot,\n",
    "              palette=np.array(palette)[clr_order],\n",
    "              size=2.5,\n",
    "              ax=ax,\n",
    "            )\n",
    "ax.set_title('PIT D Metric',fontsize=FS*1.2)\n",
    "ax.set_ylim(0,.08)\n",
    "format_spines(ax)\n",
    "ax.set_xlabel('hidden layers x nodes',fontsize=FS)\n",
    "ax.set_xticks(np.arange(0,len(x_labels)),x_labels, fontsize=FS*0.8,rotation=45)\n",
    "\n",
    "ax = axs[2]\n",
    "sns.boxplot(x=\"exp_name\",\n",
    "            y=\"loss_val\",\n",
    "            data=df_metrics_plot,\n",
    "            palette=np.array(palette)[clr_order],\n",
    "            whis=100., \n",
    "            boxprops=dict(alpha=.3, edgecolor='gray',linewidth=1.),\n",
    "            whiskerprops=dict(color='gray',linewidth=1.),\n",
    "            medianprops=dict(color='gray',linewidth=1.),\n",
    "            capprops=dict(color='gray',linewidth=1.),            \n",
    "            ax = ax,\n",
    "            )\n",
    "sns.swarmplot(x=\"exp_name\",\n",
    "              y=\"loss_test\",\n",
    "              data=df_metrics_plot,\n",
    "              palette=np.array(palette)[clr_order],\n",
    "              size=2.5,\n",
    "              ax=ax,\n",
    "            )\n",
    "ax.set_title('Loss',fontsize=FS*1.2)\n",
    "ax.set_ylim(2.0,5.0)\n",
    "format_spines(ax)\n",
    "ax.set_xlabel('hidden layers x nodes',fontsize=FS)\n",
    "ax.set_xticks(np.arange(0,len(x_labels)),x_labels, fontsize=FS*0.8,rotation=45)\n",
    "\n",
    "\n",
    "plt.tight_layout()\n",
    "plots.savefig(FIGURE_DIRECTORY + 'cmip6_metrics_hiddens_comparison',dpi=savefig_dpi)\n",
    "plt.show()\n"
   ]
  },
  {
   "cell_type": "markdown",
   "id": "4a3e1346-4912-4b63-bf85-84a3d10c893c",
   "metadata": {
    "pycharm": {
     "name": "#%% md\n"
    }
   },
   "source": [
    "## Plot all hyperparameter experiments"
   ]
  },
  {
   "cell_type": "code",
   "execution_count": null,
   "id": "0d07335b-b85d-40a9-b5fc-dcddf834d21d",
   "metadata": {
    "pycharm": {
     "name": "#%%\n"
    }
   },
   "outputs": [],
   "source": [
    "# PLOT ACROSS ALL EXPERIMENTS\n",
    "EXP_FOR_PLOTTING = EXP_NAME_VEC\n",
    "df_metrics_plot = df_metrics[df_metrics[\"exp_name\"].isin(EXP_FOR_PLOTTING)]\n",
    "x_labels = df_metrics_plot[\"exp_name\"].unique()\n",
    "clr_order = [0,0,0,0,0,0,0,0,0,0,0,0,0,0,0,0,0,0,0,0,0,0,0,]\n",
    "#------------------------------------------------------------\n",
    "fig, axs = plt.subplots(1,3,figsize=(11,3.))\n",
    "\n",
    "ax = axs[0]\n",
    "sns.boxplot(x=\"exp_name\",\n",
    "            y=\"error_val\",\n",
    "            data=df_metrics_plot,\n",
    "            # palette=np.array(palette)[clr_order],\n",
    "            boxprops=dict(alpha=.3, edgecolor='gray',linewidth=1.),\n",
    "            whiskerprops=dict(color='gray',linewidth=1.),\n",
    "            medianprops=dict(color='gray',linewidth=1.),\n",
    "            capprops=dict(color='gray',linewidth=1.),            \n",
    "            whis=100., \n",
    "            ax = ax,\n",
    "            )\n",
    "sns.swarmplot(x=\"exp_name\",\n",
    "              y=\"error_test\",\n",
    "              data=df_metrics_plot,\n",
    "              # palette=np.array(palette)[clr_order],\n",
    "              size=2.5,\n",
    "              ax = ax,\n",
    "            )\n",
    "ax.set_yticks(np.arange(0,10,.5))\n",
    "ax.set_ylabel('error (years)')\n",
    "ax.set_title('Mean Absolute Error')\n",
    "ax.set_ylim(2.5,5.5)\n",
    "format_spines(ax)\n",
    "# ax.set_xlabel('hidden layers x nodes',fontsize=FS)\n",
    "ax.set_xticks(np.arange(0,len(x_labels)),x_labels, fontsize=FS*0.8,rotation=45)\n",
    "ax.grid(alpha=.3)\n",
    "\n",
    "ax = axs[1]\n",
    "sns.boxplot(x=\"exp_name\",\n",
    "            y=\"d_val\",\n",
    "            data=df_metrics_plot,\n",
    "            # palette=np.array(palette)[clr_order],\n",
    "            whis=100., \n",
    "            boxprops=dict(alpha=.3, edgecolor='gray',linewidth=1.),\n",
    "            whiskerprops=dict(color='gray',linewidth=1.),\n",
    "            medianprops=dict(color='gray',linewidth=1.),\n",
    "            capprops=dict(color='gray',linewidth=1.),            \n",
    "            ax = ax,\n",
    "            )\n",
    "sns.swarmplot(x=\"exp_name\",\n",
    "              y=\"d_test\",\n",
    "              data=df_metrics_plot,\n",
    "              # palette=np.array(palette)[clr_order],\n",
    "              size=2.5,\n",
    "              ax=ax,\n",
    "            )\n",
    "ax.set_title('PIT D Metric',fontsize=FS*1.2)\n",
    "ax.set_ylim(0,.06)\n",
    "format_spines(ax)\n",
    "# ax.set_xlabel('hidden layers x nodes',fontsize=FS)\n",
    "ax.set_xticks(np.arange(0,len(x_labels)),x_labels, fontsize=FS*0.8,rotation=45)\n",
    "ax.grid(alpha=.3)\n",
    "\n",
    "ax = axs[2]\n",
    "sns.boxplot(x=\"exp_name\",\n",
    "            y=\"loss_val\",\n",
    "            data=df_metrics_plot,\n",
    "            # palette=np.array(palette)[clr_order],\n",
    "            whis=100., \n",
    "            boxprops=dict(alpha=.3, edgecolor='gray',linewidth=1.),\n",
    "            whiskerprops=dict(color='gray',linewidth=1.),\n",
    "            medianprops=dict(color='gray',linewidth=1.),\n",
    "            capprops=dict(color='gray',linewidth=1.),            \n",
    "            ax = ax,\n",
    "            )\n",
    "sns.swarmplot(x=\"exp_name\",\n",
    "              y=\"loss_test\",\n",
    "              data=df_metrics_plot,\n",
    "              # palette=np.array(palette)[clr_order],\n",
    "              size=2.5,\n",
    "              ax=ax,\n",
    "            )\n",
    "ax.set_title('Loss',fontsize=FS*1.2)\n",
    "ax.set_ylim(2.0,5.0)\n",
    "format_spines(ax)\n",
    "# ax.set_xlabel('hidden layers x nodes',fontsize=FS)\n",
    "ax.set_xticks(np.arange(0,len(x_labels)),x_labels, fontsize=FS*0.8,rotation=45)\n",
    "ax.grid(alpha=.3)\n",
    "\n",
    "plt.tight_layout()\n",
    "plots.savefig(FIGURE_DIRECTORY + 'cmip6_metrics_all_comparison',dpi=savefig_dpi)\n",
    "plt.show()\n"
   ]
  },
  {
   "cell_type": "markdown",
   "id": "a2937969-2ec2-472b-93ea-e35506432d83",
   "metadata": {
    "pycharm": {
     "name": "#%% md\n"
    },
    "tags": []
   },
   "source": [
    "## Explore the dataframe"
   ]
  },
  {
   "cell_type": "code",
   "execution_count": null,
   "id": "79bc12a8-4bd2-46bb-814c-b1bd62059d3a",
   "metadata": {
    "pycharm": {
     "name": "#%%\n"
    }
   },
   "outputs": [],
   "source": [
    "EXP_NAME = 'exp12'\n",
    "df = df_metrics[df_metrics[\"exp_name\"]==EXP_NAME]\n",
    "PLOT_SEED = df_metrics.iloc[df['loss_test'].idxmin()][\"seed\"]\n",
    "# display(df_metrics.iloc[df['loss_test'].idxmin()])\n",
    "display(df.sort_values(\"loss_val\"))\n",
    "# df['loss_val'].idxmax()\n",
    "# display(df_metrics[df_metrics[\"exp_name\"]==\"exp4\"].sort_values(\"error_val\").head())\n",
    "# PLOT_SEED = 1257\n"
   ]
  },
  {
   "cell_type": "code",
   "execution_count": null,
   "id": "a3f18794-668c-4805-86fe-611027aff407",
   "metadata": {
    "pycharm": {
     "name": "#%%\n"
    }
   },
   "outputs": [],
   "source": [
    "# display(df_metrics[df_metrics[\"exp_name\"]==\"exp4\"].sort_values(\"error_val\").head())\n",
    "# display(df_metrics[df_metrics[\"exp_name\"]==\"exp4\"].sort_values(\"d_val\").head())\n",
    "# display(df_metrics[df_metrics[\"exp_name\"]==\"exp4\"].sort_values(\"error_test\").head())"
   ]
  },
  {
   "cell_type": "raw",
   "id": "3df53353-1469-44a8-88c2-15c4c00bf714",
   "metadata": {
    "pycharm": {
     "name": "#%% raw\n"
    }
   },
   "source": []
  }
 ],
 "metadata": {
  "colab": {
   "collapsed_sections": [],
   "name": "_main.ipynb",
   "provenance": []
  },
  "kernelspec": {
   "display_name": "Python 3 (ipykernel)",
   "language": "python",
   "name": "python3"
  },
  "language_info": {
   "codemirror_mode": {
    "name": "ipython",
    "version": 3
   },
   "file_extension": ".py",
   "mimetype": "text/x-python",
   "name": "python",
   "nbconvert_exporter": "python",
   "pygments_lexer": "ipython3",
   "version": "3.9.13"
  },
  "vscode": {
   "interpreter": {
    "hash": "7b327a0708e120f225110d3517c433f9fd296de7c73bb21c34c6d8e40603491f"
   }
  }
 },
 "nbformat": 4,
 "nbformat_minor": 5
}
