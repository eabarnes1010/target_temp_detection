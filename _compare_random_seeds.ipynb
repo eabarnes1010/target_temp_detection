{
 "cells": [
  {
   "cell_type": "markdown",
   "id": "6da79c16-eb43-4664-a883-7a31f3af00da",
   "metadata": {
    "id": "4a650402-4774-49cb-9b72-9c8f1dd02f1d",
    "tags": []
   },
   "source": [
    "# Analyze models\n",
    "##### authors: Elizabeth A. Barnes and Noah Diffenbaugh\n",
    "##### date: March 20, 2022\n"
   ]
  },
  {
   "cell_type": "markdown",
   "id": "7ccff821-b304-4009-8fe8-75a213b3f421",
   "metadata": {
    "tags": []
   },
   "source": [
    "## Python stuff"
   ]
  },
  {
   "cell_type": "code",
   "execution_count": 1,
   "id": "fb968382-4186-466e-a85b-b00caa5fc9be",
   "metadata": {
    "colab": {
     "base_uri": "https://localhost:8080/"
    },
    "executionInfo": {
     "elapsed": 17642,
     "status": "ok",
     "timestamp": 1646449680995,
     "user": {
      "displayName": "Elizabeth Barnes",
      "photoUrl": "https://lh3.googleusercontent.com/a-/AOh14GiNPVVIWP6XAkP_hwu-8rAxoeeNuk2BMkX5-yuA=s64",
      "userId": "07585723222468022011"
     },
     "user_tz": 420
    },
    "id": "fb968382-4186-466e-a85b-b00caa5fc9be",
    "outputId": "d7964af9-2d52-4466-902d-9b85faba9a91",
    "tags": []
   },
   "outputs": [],
   "source": [
    "import sys, imp, os, copy, tqdm\n",
    "\n",
    "import xarray as xr\n",
    "import numpy as np\n",
    "import pandas as pd\n",
    "import matplotlib.pyplot as plt\n",
    "import scipy.stats as stats\n",
    "import tensorflow as tf\n",
    "import tensorflow_probability as tfp\n",
    "import silence_tensorflow\n",
    "silence_tensorflow\n",
    "\n",
    "import scipy.stats as stats\n",
    "import seaborn as sns\n",
    "\n",
    "import experiment_settings\n",
    "import file_methods, plots, data_processing, custom_metrics\n",
    "\n",
    "import matplotlib as mpl\n",
    "mpl.rcParams[\"figure.facecolor\"] = \"white\"\n",
    "mpl.rcParams[\"figure.dpi\"] = 150\n",
    "savefig_dpi = 300\n",
    "np.warnings.filterwarnings(\"ignore\", category=np.VisibleDeprecationWarning)\n",
    "\n",
    "import warnings\n",
    "warnings.filterwarnings(\"ignore\")"
   ]
  },
  {
   "cell_type": "code",
   "execution_count": 2,
   "id": "29a5cee3-6f4f-4818-92e1-1351eeeb565a",
   "metadata": {
    "colab": {
     "base_uri": "https://localhost:8080/"
    },
    "executionInfo": {
     "elapsed": 30,
     "status": "ok",
     "timestamp": 1646449681009,
     "user": {
      "displayName": "Elizabeth Barnes",
      "photoUrl": "https://lh3.googleusercontent.com/a-/AOh14GiNPVVIWP6XAkP_hwu-8rAxoeeNuk2BMkX5-yuA=s64",
      "userId": "07585723222468022011"
     },
     "user_tz": 420
    },
    "id": "29a5cee3-6f4f-4818-92e1-1351eeeb565a",
    "outputId": "e5f5b0ac-82b8-4147-bf44-4bc3b49466a2",
    "tags": []
   },
   "outputs": [
    {
     "name": "stdout",
     "output_type": "stream",
     "text": [
      "python version = 3.9.10 | packaged by conda-forge | (main, Feb  1 2022, 21:27:43) \n",
      "[Clang 11.1.0 ]\n",
      "numpy version = 1.22.2\n",
      "xarray version = 2022.3.0\n",
      "tensorflow version = 2.7.0\n",
      "tensorflow-probability version = 0.15.0\n"
     ]
    }
   ],
   "source": [
    "print(f\"python version = {sys.version}\")\n",
    "print(f\"numpy version = {np.__version__}\")\n",
    "print(f\"xarray version = {xr.__version__}\")  \n",
    "print(f\"tensorflow version = {tf.__version__}\")  \n",
    "print(f\"tensorflow-probability version = {tfp.__version__}\")  "
   ]
  },
  {
   "cell_type": "markdown",
   "id": "651315ce-eecc-4d30-8b90-c97d08936315",
   "metadata": {
    "tags": []
   },
   "source": [
    "## User Choices"
   ]
  },
  {
   "cell_type": "code",
   "execution_count": 3,
   "id": "c83a544f-ef35-417f-bec4-62225d885014",
   "metadata": {},
   "outputs": [],
   "source": [
    "# EXP_NAME_VEC = ('exp0','exp1','exp2','exp3', 'exp4','exp5','exp6','exp7')\n",
    "# PLOT_SEED = 1257\n",
    "EXP_NAME_VEC = ('exp10',)\n",
    "PLOT_SEED = 1257\n",
    "\n",
    "#-------------------------------------------------------\n",
    "\n",
    "MODEL_DIRECTORY = 'saved_models/'        \n",
    "PREDICTIONS_DIRECTORY = 'saved_predictions/'\n",
    "DATA_DIRECTORY = 'data/'\n",
    "DIAGNOSTICS_DIRECTORY = 'model_diagnostics/'\n",
    "FIGURE_DIRECTORY = 'figures/'"
   ]
  },
  {
   "cell_type": "markdown",
   "id": "47e6f742-a1e9-423c-9048-450208f54ca9",
   "metadata": {
    "tags": []
   },
   "source": [
    "## Plotting Functions"
   ]
  },
  {
   "cell_type": "code",
   "execution_count": 4,
   "id": "9d29d831-aa15-46fd-89be-07628cc0f8b2",
   "metadata": {},
   "outputs": [],
   "source": [
    "FS = 10\n",
    "\n",
    "### for white background...\n",
    "# plt.rc('text',usetex=True)\n",
    "plt.rc('text',usetex=False)\n",
    "# plt.rc('font',**{'family':'sans-serif','sans-serif':['Avant Garde']}) \n",
    "plt.rc('font',**{'family':'sans-serif','sans-serif':['Helvetica']}) \n",
    "plt.rc('savefig',facecolor='white')\n",
    "plt.rc('axes',facecolor='white')\n",
    "plt.rc('axes',labelcolor='dimgrey')\n",
    "plt.rc('axes',labelcolor='dimgrey')\n",
    "plt.rc('xtick',color='dimgrey')\n",
    "plt.rc('ytick',color='dimgrey')\n",
    "################################  \n",
    "################################  \n",
    "def adjust_spines(ax, spines):\n",
    "    for loc, spine in ax.spines.items():\n",
    "        if loc in spines:\n",
    "            spine.set_position(('outward', 5))\n",
    "        else:\n",
    "            spine.set_color('none')  \n",
    "    if 'left' in spines:\n",
    "        ax.yaxis.set_ticks_position('left')\n",
    "    else:\n",
    "        ax.yaxis.set_ticks([])\n",
    "    if 'bottom' in spines:\n",
    "        ax.xaxis.set_ticks_position('bottom')\n",
    "    else:\n",
    "        ax.xaxis.set_ticks([]) \n",
    "\n",
    "def format_spines(ax):\n",
    "    adjust_spines(ax, ['left', 'bottom'])\n",
    "    ax.spines['top'].set_color('none')\n",
    "    ax.spines['right'].set_color('none')\n",
    "    ax.spines['left'].set_color('dimgrey')\n",
    "    ax.spines['bottom'].set_color('dimgrey')\n",
    "    ax.spines['left'].set_linewidth(2)\n",
    "    ax.spines['bottom'].set_linewidth(2)\n",
    "    ax.tick_params('both',length=4,width=2,which='major',color='dimgrey')\n",
    "#     ax.yaxis.grid(zorder=1,color='dimgrey',alpha=0.35)    \n",
    "    "
   ]
  },
  {
   "cell_type": "markdown",
   "id": "a4ca07ef-c91c-4bdf-87f0-0fdcd20e2c45",
   "metadata": {},
   "source": [
    "## Analyze CMIP results across random seeds"
   ]
  },
  {
   "cell_type": "code",
   "execution_count": 5,
   "id": "88b9c407-2a94-42d1-900b-bca27a0f4802",
   "metadata": {},
   "outputs": [
    {
     "name": "stdout",
     "output_type": "stream",
     "text": [
      "exp10\n"
     ]
    },
    {
     "name": "stderr",
     "output_type": "stream",
     "text": [
      "2022-03-22 20:21:03.695659: W tensorflow/core/platform/profile_utils/cpu_utils.cc:128] Failed to get CPU frequency: 0 Hz\n"
     ]
    },
    {
     "data": {
      "text/html": [
       "<div>\n",
       "<style scoped>\n",
       "    .dataframe tbody tr th:only-of-type {\n",
       "        vertical-align: middle;\n",
       "    }\n",
       "\n",
       "    .dataframe tbody tr th {\n",
       "        vertical-align: top;\n",
       "    }\n",
       "\n",
       "    .dataframe thead th {\n",
       "        text-align: right;\n",
       "    }\n",
       "</style>\n",
       "<table border=\"1\" class=\"dataframe\">\n",
       "  <thead>\n",
       "    <tr style=\"text-align: right;\">\n",
       "      <th></th>\n",
       "      <th>exp_name</th>\n",
       "      <th>seed</th>\n",
       "      <th>hiddens</th>\n",
       "      <th>ridge_param</th>\n",
       "      <th>error_val</th>\n",
       "      <th>error_test</th>\n",
       "      <th>d_val</th>\n",
       "      <th>d_test</th>\n",
       "    </tr>\n",
       "  </thead>\n",
       "  <tbody>\n",
       "    <tr>\n",
       "      <th>0</th>\n",
       "      <td>exp10</td>\n",
       "      <td>1257</td>\n",
       "      <td>[10, 10]</td>\n",
       "      <td>1.0</td>\n",
       "      <td>2.739501</td>\n",
       "      <td>3.181788</td>\n",
       "      <td>0.013383</td>\n",
       "      <td>0.022450</td>\n",
       "    </tr>\n",
       "    <tr>\n",
       "      <th>0</th>\n",
       "      <td>exp10</td>\n",
       "      <td>5322</td>\n",
       "      <td>[10, 10]</td>\n",
       "      <td>1.0</td>\n",
       "      <td>3.121786</td>\n",
       "      <td>3.275800</td>\n",
       "      <td>0.017746</td>\n",
       "      <td>0.032599</td>\n",
       "    </tr>\n",
       "    <tr>\n",
       "      <th>0</th>\n",
       "      <td>exp10</td>\n",
       "      <td>2247</td>\n",
       "      <td>[10, 10]</td>\n",
       "      <td>1.0</td>\n",
       "      <td>3.056526</td>\n",
       "      <td>2.821440</td>\n",
       "      <td>0.019044</td>\n",
       "      <td>0.011654</td>\n",
       "    </tr>\n",
       "    <tr>\n",
       "      <th>0</th>\n",
       "      <td>exp10</td>\n",
       "      <td>5757</td>\n",
       "      <td>[10, 10]</td>\n",
       "      <td>1.0</td>\n",
       "      <td>3.543447</td>\n",
       "      <td>3.017510</td>\n",
       "      <td>0.018512</td>\n",
       "      <td>0.013778</td>\n",
       "    </tr>\n",
       "    <tr>\n",
       "      <th>0</th>\n",
       "      <td>exp10</td>\n",
       "      <td>1170</td>\n",
       "      <td>[10, 10]</td>\n",
       "      <td>1.0</td>\n",
       "      <td>3.464233</td>\n",
       "      <td>3.167013</td>\n",
       "      <td>0.007034</td>\n",
       "      <td>0.013392</td>\n",
       "    </tr>\n",
       "    <tr>\n",
       "      <th>0</th>\n",
       "      <td>exp10</td>\n",
       "      <td>9156</td>\n",
       "      <td>[10, 10]</td>\n",
       "      <td>1.0</td>\n",
       "      <td>3.966107</td>\n",
       "      <td>3.746395</td>\n",
       "      <td>0.019885</td>\n",
       "      <td>0.025491</td>\n",
       "    </tr>\n",
       "    <tr>\n",
       "      <th>0</th>\n",
       "      <td>exp10</td>\n",
       "      <td>6613</td>\n",
       "      <td>[10, 10]</td>\n",
       "      <td>1.0</td>\n",
       "      <td>3.614022</td>\n",
       "      <td>3.505642</td>\n",
       "      <td>0.012382</td>\n",
       "      <td>0.026828</td>\n",
       "    </tr>\n",
       "    <tr>\n",
       "      <th>0</th>\n",
       "      <td>exp10</td>\n",
       "      <td>9983</td>\n",
       "      <td>[10, 10]</td>\n",
       "      <td>1.0</td>\n",
       "      <td>3.889383</td>\n",
       "      <td>3.799042</td>\n",
       "      <td>0.022729</td>\n",
       "      <td>0.020812</td>\n",
       "    </tr>\n",
       "    <tr>\n",
       "      <th>0</th>\n",
       "      <td>exp10</td>\n",
       "      <td>4348</td>\n",
       "      <td>[10, 10]</td>\n",
       "      <td>1.0</td>\n",
       "      <td>3.591062</td>\n",
       "      <td>3.344250</td>\n",
       "      <td>0.019734</td>\n",
       "      <td>0.037793</td>\n",
       "    </tr>\n",
       "    <tr>\n",
       "      <th>0</th>\n",
       "      <td>exp10</td>\n",
       "      <td>5869</td>\n",
       "      <td>[10, 10]</td>\n",
       "      <td>1.0</td>\n",
       "      <td>3.129934</td>\n",
       "      <td>3.225046</td>\n",
       "      <td>0.018636</td>\n",
       "      <td>0.028117</td>\n",
       "    </tr>\n",
       "  </tbody>\n",
       "</table>\n",
       "</div>"
      ],
      "text/plain": [
       "  exp_name  seed   hiddens  ridge_param  error_val  error_test     d_val  \\\n",
       "0    exp10  1257  [10, 10]          1.0   2.739501    3.181788  0.013383   \n",
       "0    exp10  5322  [10, 10]          1.0   3.121786    3.275800  0.017746   \n",
       "0    exp10  2247  [10, 10]          1.0   3.056526    2.821440  0.019044   \n",
       "0    exp10  5757  [10, 10]          1.0   3.543447    3.017510  0.018512   \n",
       "0    exp10  1170  [10, 10]          1.0   3.464233    3.167013  0.007034   \n",
       "0    exp10  9156  [10, 10]          1.0   3.966107    3.746395  0.019885   \n",
       "0    exp10  6613  [10, 10]          1.0   3.614022    3.505642  0.012382   \n",
       "0    exp10  9983  [10, 10]          1.0   3.889383    3.799042  0.022729   \n",
       "0    exp10  4348  [10, 10]          1.0   3.591062    3.344250  0.019734   \n",
       "0    exp10  5869  [10, 10]          1.0   3.129934    3.225046  0.018636   \n",
       "\n",
       "     d_test  \n",
       "0  0.022450  \n",
       "0  0.032599  \n",
       "0  0.011654  \n",
       "0  0.013778  \n",
       "0  0.013392  \n",
       "0  0.025491  \n",
       "0  0.026828  \n",
       "0  0.020812  \n",
       "0  0.037793  \n",
       "0  0.028117  "
      ]
     },
     "metadata": {},
     "output_type": "display_data"
    }
   ],
   "source": [
    "df_metrics = pd.DataFrame()\n",
    "\n",
    "for exp_name in EXP_NAME_VEC:\n",
    "    settings = experiment_settings.get_settings(exp_name)\n",
    "    rng = np.random.default_rng(settings[\"rng_seed\"])    \n",
    "    print(exp_name)\n",
    "\n",
    "\n",
    "    for iloop in np.arange(settings['n_models']):\n",
    "        seed = rng.integers(low=1_000,high=10_000,size=1)[0]\n",
    "        settings[\"seed\"] = int(seed)\n",
    "        tf.random.set_seed(settings[\"seed\"])\n",
    "        np.random.seed(settings[\"seed\"])\n",
    "\n",
    "        # get model name\n",
    "        model_name = file_methods.get_model_name(settings)\n",
    "        if os.path.exists(MODEL_DIRECTORY + model_name + \"_model\") == False:\n",
    "            continue\n",
    "        model = file_methods.load_tf_model(model_name, MODEL_DIRECTORY)\n",
    "        # get the data\n",
    "        (x_train, \n",
    "         x_val, \n",
    "         x_test, \n",
    "         y_train, \n",
    "         y_val, \n",
    "         y_test, \n",
    "         onehot_train, \n",
    "         onehot_val, \n",
    "         onehot_test, \n",
    "         y_yrs_train, \n",
    "         y_yrs_val, \n",
    "         y_yrs_test, \n",
    "         target_years, \n",
    "         map_shape,\n",
    "         settings) = data_processing.get_cmip_data(DATA_DIRECTORY, settings, verbose=0)\n",
    "\n",
    "        #----------------------------------------        \n",
    "        # make predictions for observations and cmip results\n",
    "        pred_train = model.predict(x_train)\n",
    "        pred_val = model.predict(x_val)\n",
    "        pred_test = model.predict(x_test) \n",
    "\n",
    "        #----------------------------------------  \n",
    "        # plot PIT histogram\n",
    "        if settings[\"seed\"] == PLOT_SEED:\n",
    "            fig, ax = plt.subplots(1,1)\n",
    "            plots.plot_pits(ax, x_val=x_val, onehot_val=onehot_val,  model_shash = model)\n",
    "            format_spines(plt.gca())\n",
    "            plt.savefig(FIGURE_DIRECTORY + model_name + '_pit' + '.png', \n",
    "                        bbox_inches=\"tight\",\n",
    "                        dpi=savefig_dpi)\n",
    "            # plt.show()\n",
    "            plt.close()\n",
    "\n",
    "\n",
    "        #----------------------------------------        \n",
    "        # compute metrics to compare\n",
    "        error_val = np.mean(np.abs(pred_val[:,0] - onehot_val[:,0]))\n",
    "        error_test = np.mean(np.abs(pred_test[:,0] - onehot_test[:,0]))    \n",
    "        __, __, d_val, __ = custom_metrics.compute_pit(onehot_val, x_data=x_val, model_shash = model)\n",
    "        __, __, d_test, __ = custom_metrics.compute_pit(onehot_test, x_data=x_test, model_shash = model)    \n",
    "\n",
    "        d = {}\n",
    "        d[\"exp_name\"] = settings[\"exp_name\"]\n",
    "        d[\"seed\"] = settings[\"seed\"]\n",
    "        d[\"hiddens\"] = str(settings[\"hiddens\"])\n",
    "        d[\"ridge_param\"] = settings[\"ridge_param\"][0]        \n",
    "        d[\"error_val\"] = error_val\n",
    "        d[\"error_test\"] = error_test\n",
    "        d[\"d_val\"] = d_val\n",
    "        d[\"d_test\"] = d_test\n",
    "\n",
    "        df = pd.DataFrame(d, index=[0])\n",
    "        df_metrics = pd.concat([df_metrics,df])\n",
    "\n",
    "df_metrics = df_metrics.sort_values(\"ridge_param\")        \n",
    "display(df_metrics)    "
   ]
  },
  {
   "cell_type": "code",
   "execution_count": 6,
   "id": "5f027144-f2b5-48bd-b3c9-5c5c8371c07d",
   "metadata": {},
   "outputs": [],
   "source": [
    "SAVE_FILE = False\n",
    "if SAVE_FILE:\n",
    "    df_metrics.to_pickle(DATA_DIRECTORY + \"df_random_seed.pickle\")\n",
    "\n",
    "LOAD_MODEL = False    \n",
    "if LOAD_MODEL:    \n",
    "    df_metrics = pd.read_pickle(DATA_DIRECTORY + \"df_random_seed.pickle\")\n",
    "    df_metrics = df_metrics.sort_values(\"ridge_param\")"
   ]
  },
  {
   "cell_type": "markdown",
   "id": "1fa1be7a-dc6f-470a-8e2c-9187e4cd7774",
   "metadata": {},
   "source": [
    "## Make plots"
   ]
  },
  {
   "cell_type": "code",
   "execution_count": 7,
   "id": "cb0ec9be-99ce-4f71-b473-490436078910",
   "metadata": {},
   "outputs": [
    {
     "data": {
      "image/png": "[encoded data removed]",
      "text/plain": [
       "<Figure size 900x412.5 with 2 Axes>"
      ]
     },
     "metadata": {},
     "output_type": "display_data"
    }
   ],
   "source": [
    "fig, axs = plt.subplots(1,2,figsize=(6,2.75))\n",
    "\n",
    "ax = axs[0]\n",
    "sns.boxplot(x=\"exp_name\",\n",
    "            y=\"error_val\",\n",
    "            data=df_metrics,\n",
    "            boxprops=dict(alpha=.3, edgecolor='gray',linewidth=1.),\n",
    "            whiskerprops=dict(color='gray',linewidth=1.),\n",
    "            medianprops=dict(color='gray',linewidth=1.),\n",
    "            capprops=dict(color='gray',linewidth=1.),            \n",
    "            whis=100., \n",
    "            ax = ax,\n",
    "            )\n",
    "sns.swarmplot(x=\"exp_name\",\n",
    "              y=\"error_test\",\n",
    "              data=df_metrics,\n",
    "              size=2.5,\n",
    "              ax = ax,\n",
    "            )\n",
    "ax.set_ylabel('error (years)')\n",
    "ax.set_title('Mean Absolute Error')\n",
    "ax.set_ylim(2.1,5.)\n",
    "format_spines(ax)\n",
    "ax.set_xlabel('ridge parameter',fontsize=FS)\n",
    "x_labels = df_metrics[\"ridge_param\"].unique()\n",
    "ax.set_xticks(np.arange(0,len(x_labels)),x_labels, fontsize=FS*0.8,rotation=45)\n",
    "\n",
    "ax = axs[1]\n",
    "sns.boxplot(x=\"exp_name\",\n",
    "            y=\"d_val\",\n",
    "            data=df_metrics,\n",
    "            whis=100., \n",
    "            boxprops=dict(alpha=.3, edgecolor='gray',linewidth=1.),\n",
    "            whiskerprops=dict(color='gray',linewidth=1.),\n",
    "            medianprops=dict(color='gray',linewidth=1.),\n",
    "            capprops=dict(color='gray',linewidth=1.),            \n",
    "            ax = ax,\n",
    "            )\n",
    "sns.swarmplot(x=\"exp_name\",\n",
    "              y=\"d_test\",\n",
    "              data=df_metrics,\n",
    "              size=2.5,\n",
    "              ax=ax,\n",
    "            )\n",
    "ax.set_title('PIT D Metric',fontsize=FS*1.2)\n",
    "ax.set_ylim(0,.055)\n",
    "format_spines(ax)\n",
    "ax.set_xlabel('ridge parameter',fontsize=FS)\n",
    "x_labels = df_metrics[\"ridge_param\"].unique()\n",
    "ax.set_xticks(np.arange(0,len(x_labels)),x_labels, fontsize=FS*0.8,rotation=45)\n",
    "\n",
    "\n",
    "plt.tight_layout()\n",
    "plt.savefig(FIGURE_DIRECTORY + 'random_seed_comparison' + '.png', \n",
    "            bbox_inches=\"tight\",\n",
    "            dpi=savefig_dpi)\n",
    "plt.show()\n"
   ]
  },
  {
   "cell_type": "code",
   "execution_count": 8,
   "id": "feb2b367-0d00-40a7-8aff-63e19a224e31",
   "metadata": {},
   "outputs": [
    {
     "data": {
      "text/html": [
       "<div>\n",
       "<style scoped>\n",
       "    .dataframe tbody tr th:only-of-type {\n",
       "        vertical-align: middle;\n",
       "    }\n",
       "\n",
       "    .dataframe tbody tr th {\n",
       "        vertical-align: top;\n",
       "    }\n",
       "\n",
       "    .dataframe thead th {\n",
       "        text-align: right;\n",
       "    }\n",
       "</style>\n",
       "<table border=\"1\" class=\"dataframe\">\n",
       "  <thead>\n",
       "    <tr style=\"text-align: right;\">\n",
       "      <th></th>\n",
       "      <th>exp_name</th>\n",
       "      <th>seed</th>\n",
       "      <th>hiddens</th>\n",
       "      <th>ridge_param</th>\n",
       "      <th>error_val</th>\n",
       "      <th>error_test</th>\n",
       "      <th>d_val</th>\n",
       "      <th>d_test</th>\n",
       "    </tr>\n",
       "  </thead>\n",
       "  <tbody>\n",
       "  </tbody>\n",
       "</table>\n",
       "</div>"
      ],
      "text/plain": [
       "Empty DataFrame\n",
       "Columns: [exp_name, seed, hiddens, ridge_param, error_val, error_test, d_val, d_test]\n",
       "Index: []"
      ]
     },
     "metadata": {},
     "output_type": "display_data"
    },
    {
     "data": {
      "text/html": [
       "<div>\n",
       "<style scoped>\n",
       "    .dataframe tbody tr th:only-of-type {\n",
       "        vertical-align: middle;\n",
       "    }\n",
       "\n",
       "    .dataframe tbody tr th {\n",
       "        vertical-align: top;\n",
       "    }\n",
       "\n",
       "    .dataframe thead th {\n",
       "        text-align: right;\n",
       "    }\n",
       "</style>\n",
       "<table border=\"1\" class=\"dataframe\">\n",
       "  <thead>\n",
       "    <tr style=\"text-align: right;\">\n",
       "      <th></th>\n",
       "      <th>exp_name</th>\n",
       "      <th>seed</th>\n",
       "      <th>hiddens</th>\n",
       "      <th>ridge_param</th>\n",
       "      <th>error_val</th>\n",
       "      <th>error_test</th>\n",
       "      <th>d_val</th>\n",
       "      <th>d_test</th>\n",
       "    </tr>\n",
       "  </thead>\n",
       "  <tbody>\n",
       "  </tbody>\n",
       "</table>\n",
       "</div>"
      ],
      "text/plain": [
       "Empty DataFrame\n",
       "Columns: [exp_name, seed, hiddens, ridge_param, error_val, error_test, d_val, d_test]\n",
       "Index: []"
      ]
     },
     "metadata": {},
     "output_type": "display_data"
    }
   ],
   "source": [
    "display(df_metrics[df_metrics[\"exp_name\"]==\"exp0\"])\n",
    "display(df_metrics[df_metrics[\"exp_name\"]==\"exp3\"])"
   ]
  },
  {
   "cell_type": "code",
   "execution_count": null,
   "id": "ca495a06-434d-4fb4-971b-64a0d57c8052",
   "metadata": {},
   "outputs": [],
   "source": []
  }
 ],
 "metadata": {
  "colab": {
   "collapsed_sections": [],
   "name": "_main.ipynb",
   "provenance": []
  },
  "kernelspec": {
   "display_name": "Python 3 (ipykernel)",
   "language": "python",
   "name": "python3"
  },
  "language_info": {
   "codemirror_mode": {
    "name": "ipython",
    "version": 3
   },
   "file_extension": ".py",
   "mimetype": "text/x-python",
   "name": "python",
   "nbconvert_exporter": "python",
   "pygments_lexer": "ipython3",
   "version": "3.9.10"
  }
 },
 "nbformat": 4,
 "nbformat_minor": 5
}
