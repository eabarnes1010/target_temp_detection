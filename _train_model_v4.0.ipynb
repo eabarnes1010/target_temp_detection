{
 "cells": [
  {
   "cell_type": "markdown",
   "id": "6da79c16-eb43-4664-a883-7a31f3af00da",
   "metadata": {
    "id": "4a650402-4774-49cb-9b72-9c8f1dd02f1d",
    "tags": []
   },
   "source": [
    "# Detecting temperature targets\n",
    "##### authors: Elizabeth A. Barnes and Noah Diffenbaugh\n",
    "##### date: March 20, 2022\n",
    "\n",
    "README:\n",
    "This is the main training script for all TF models. Here are some tips for using this new re-factored code.\n",
    "\n",
    "* ```experiment_settings.py``` is now your go-to place. It is something like a research log. You want to continue to copy and paste new experimental designs (with unique names e.g. ```exp23```) and this way you can always refer back to an experiment you ran before without having to change a bunch of parameters again. \n",
    "\n",
    "* If all goes well and we don't need more data, you should only be modifying the file called ```experiment_settings.py``` and this notebook (although plots.py might be changed too). \n",
    "\n",
    "* To train a set of moodels, you go into ```experiment_settings.py``` and make a new experiment (with a new name, e.g. ```exp1``` and then you specify that same name here in Cell 3 for ```EXP_NAME```.\n",
    "\n",
    "* The parameter in settings called ```n_models```, will be more useful now. If you set this to a larger number, e.g. 20, it will train 20 models with the same experimental design but with different random training/validation/testing sets etc. You will then be able to analyze these models in another notebook.\n",
    "\n",
    "* Other choices you have here (outside of the usual experiment settings) is whether to overwrite existing models with the name experiment name. Typically, you want ```OVERWRITE_MODEL = False``` so that the code will continue training new random seeds where you left off (rather than starting over again).\n",
    "\n",
    "* Plots for model diagnostics are saved in the ```model_diagnostics``` directory. \n",
    "\n",
    "* Predictions for observations are saved in the ```saved_predictions``` directory, although you can always re-load the TF model and re-make the predictions in another notebook. But I thought this might be faster/easier.\n",
    "\n",
    "* TF models and their meta data are saved in the ```saved_models``` directory.\n",
    "\n",
    "* Once training is done, you can run the following to perform analysis and make/save plots for the paper.\n",
    "** ```_analyze_models_vX.X.ipynb```\n",
    "** ```_visualize_xai_vX.X.ipynb```"
   ]
  },
  {
   "cell_type": "markdown",
   "id": "7ccff821-b304-4009-8fe8-75a213b3f421",
   "metadata": {
    "tags": []
   },
   "source": [
    "## Python stuff"
   ]
  },
  {
   "cell_type": "code",
   "execution_count": null,
   "id": "fb968382-4186-466e-a85b-b00caa5fc9be",
   "metadata": {
    "colab": {
     "base_uri": "https://localhost:8080/"
    },
    "executionInfo": {
     "elapsed": 17642,
     "status": "ok",
     "timestamp": 1646449680995,
     "user": {
      "displayName": "Elizabeth Barnes",
      "photoUrl": "https://lh3.googleusercontent.com/a-/AOh14GiNPVVIWP6XAkP_hwu-8rAxoeeNuk2BMkX5-yuA=s64",
      "userId": "07585723222468022011"
     },
     "user_tz": 420
    },
    "id": "fb968382-4186-466e-a85b-b00caa5fc9be",
    "outputId": "d7964af9-2d52-4466-902d-9b85faba9a91",
    "tags": []
   },
   "outputs": [],
   "source": [
    "import sys, imp, os\n",
    "\n",
    "import xarray as xr\n",
    "import numpy as np\n",
    "import matplotlib.pyplot as plt\n",
    "import scipy.stats as stats\n",
    "import tensorflow as tf\n",
    "import tensorflow_probability as tfp\n",
    "\n",
    "import experiment_settings\n",
    "import file_methods, plots, custom_metrics, network, data_processing\n",
    "\n",
    "import matplotlib as mpl\n",
    "mpl.rcParams[\"figure.facecolor\"] = \"white\"\n",
    "mpl.rcParams[\"figure.dpi\"] = 150\n",
    "savefig_dpi = 300\n",
    "np.warnings.filterwarnings(\"ignore\", category=np.VisibleDeprecationWarning)"
   ]
  },
  {
   "cell_type": "code",
   "execution_count": null,
   "id": "29a5cee3-6f4f-4818-92e1-1351eeeb565a",
   "metadata": {
    "colab": {
     "base_uri": "https://localhost:8080/"
    },
    "executionInfo": {
     "elapsed": 30,
     "status": "ok",
     "timestamp": 1646449681009,
     "user": {
      "displayName": "Elizabeth Barnes",
      "photoUrl": "https://lh3.googleusercontent.com/a-/AOh14GiNPVVIWP6XAkP_hwu-8rAxoeeNuk2BMkX5-yuA=s64",
      "userId": "07585723222468022011"
     },
     "user_tz": 420
    },
    "id": "29a5cee3-6f4f-4818-92e1-1351eeeb565a",
    "outputId": "e5f5b0ac-82b8-4147-bf44-4bc3b49466a2",
    "tags": []
   },
   "outputs": [],
   "source": [
    "print(f\"python version = {sys.version}\")\n",
    "print(f\"numpy version = {np.__version__}\")\n",
    "print(f\"xarray version = {xr.__version__}\")  \n",
    "print(f\"tensorflow version = {tf.__version__}\")  \n",
    "print(f\"tensorflow-probability version = {tfp.__version__}\")  "
   ]
  },
  {
   "cell_type": "markdown",
   "id": "651315ce-eecc-4d30-8b90-c97d08936315",
   "metadata": {
    "tags": []
   },
   "source": [
    "## User Choices"
   ]
  },
  {
   "cell_type": "code",
   "execution_count": null,
   "id": "c83a544f-ef35-417f-bec4-62225d885014",
   "metadata": {},
   "outputs": [],
   "source": [
    "EXP_NAME = 'exp15C_126'\n",
    "OVERWRITE_MODEL = True\n",
    "\n",
    "#-----------------------------------------------------\n",
    "\n",
    "settings = experiment_settings.get_settings(EXP_NAME)\n",
    "display(settings)\n",
    "\n",
    "MODEL_DIRECTORY = 'saved_models/'        \n",
    "PREDICTIONS_DIRECTORY = 'saved_predictions/'\n",
    "DATA_DIRECTORY = 'data/'\n",
    "DIAGNOSTICS_DIRECTORY = 'model_diagnostics/'\n",
    "FIGURE_DIRECTORY = 'figures/'"
   ]
  },
  {
   "cell_type": "markdown",
   "id": "30ea5755-e624-4b29-b88a-fd35d85ddb66",
   "metadata": {
    "jp-MarkdownHeadingCollapsed": true,
    "tags": []
   },
   "source": [
    "## Plotting functions"
   ]
  },
  {
   "cell_type": "code",
   "execution_count": null,
   "id": "c1b7e014-e289-4fdc-9d82-3c976f8db8c7",
   "metadata": {},
   "outputs": [],
   "source": [
    "def plot_one_to_one_diagnostic():\n",
    "    if settings['network_type'] == \"shash2\":\n",
    "        top_pred_idx = 0\n",
    "    else:\n",
    "        top_pred_idx = None\n",
    "\n",
    "    YEARS_UNIQUE = np.unique(y_yrs_train)\n",
    "    predict_train = model.predict(x_train)[:,top_pred_idx].flatten()\n",
    "    predict_val = model.predict(x_val)[:,top_pred_idx].flatten()\n",
    "    predict_test = model.predict(x_test)[:,top_pred_idx].flatten()\n",
    "    mae = np.mean(np.abs(predict_test-y_test[:]))\n",
    "    \n",
    "    #--------------------------------\n",
    "    clr = ('tab:purple','tab:orange', 'tab:blue', 'tab:green', 'gold', 'brown','black','darkorange')\n",
    "    plt.subplots(1,2,figsize=(15,6))\n",
    "\n",
    "    plt.subplot(1,2,1)\n",
    "    plt.plot(y_train, predict_train,'.',color='gray',alpha=.25, label='training')\n",
    "    plt.plot(y_val, predict_val,'.', label='validation',color='gray',alpha=.75,)\n",
    "    plt.plot(y_test, predict_test,'.', label='testing')    \n",
    "    plt.plot(y_train,y_train,'--',color='fuchsia')\n",
    "    plt.axvline(x=0,color='gray',linewidth=1)\n",
    "    plt.axhline(y=0,color='gray',linewidth=1)\n",
    "    plt.title('Testing MAE = ' + str(mae.round(2)) + ' years')\n",
    "    plt.xlabel('true number of years until target is reached')\n",
    "    plt.ylabel('predicted number of years until target is reached')\n",
    "    plt.legend()\n",
    "\n",
    "\n",
    "    plt.subplot(1,2,2)\n",
    "    plt.plot(y_yrs_train, predict_train,'.',color='gray',alpha=.5, label='training')\n",
    "    plt.title('Time to Target Year for ' + str(settings['target_temp']) + 'C using ssp' + str(settings['ssp']))\n",
    "    plt.xlabel('year of map')\n",
    "    plt.ylabel('predicted number of years until target is reached')\n",
    "    plt.axhline(y=0, color='gray', linewidth=1)\n",
    "\n",
    "    predict_val_mat = predict_val.reshape(N_GCMS,N_VAL,len(YEARS_UNIQUE))\n",
    "    for i in np.arange(0,predict_val_mat.shape[0]):\n",
    "        plt.plot(YEARS_UNIQUE, predict_val_mat[i,:,:].swapaxes(1,0),'.', label='validation', color=clr[i])\n",
    "        plt.axvline(x=target_years[i],linestyle='--',color=clr[i])"
   ]
  },
  {
   "cell_type": "markdown",
   "id": "d5d089c5-afe9-4d5c-93d1-b67662256c1a",
   "metadata": {
    "tags": []
   },
   "source": [
    "## Initial housekeeping"
   ]
  },
  {
   "cell_type": "code",
   "execution_count": null,
   "id": "02eea0ec-ce97-469e-b7d6-da1fa0863927",
   "metadata": {
    "tags": []
   },
   "outputs": [],
   "source": [
    "## determine how many GCMs are being used\n",
    "filenames = file_methods.get_cmip_filenames(settings, verbose=0)\n",
    "N_GCMS = len(filenames)\n",
    "\n",
    "# load observations for diagnostics plotting\n",
    "da_obs, x_obs, global_mean_obs = data_processing.get_observations(DATA_DIRECTORY, settings)\n",
    "N_TRAIN, N_VAL, N_TEST, ALL_MEMBERS = data_processing.get_members(settings)"
   ]
  },
  {
   "cell_type": "code",
   "execution_count": null,
   "id": "f13226df-3764-402e-a6be-9e6ea3d3d6a5",
   "metadata": {},
   "outputs": [],
   "source": [
    "# define early stopping callback (cannot be done elsewhere)\n",
    "early_stopping = tf.keras.callbacks.EarlyStopping(monitor='val_loss',\n",
    "                                                   patience=settings['patience'],\n",
    "                                                   verbose=1,\n",
    "                                                   mode='auto',\n",
    "                                                   restore_best_weights=True)"
   ]
  },
  {
   "cell_type": "markdown",
   "id": "c807abd7-832a-484b-98cd-7e6c3a9f60c0",
   "metadata": {
    "id": "c807abd7-832a-484b-98cd-7e6c3a9f60c0",
    "tags": []
   },
   "source": [
    "## Train the network"
   ]
  },
  {
   "cell_type": "code",
   "execution_count": null,
   "id": "7becb266-c9fd-4098-a2ba-e6c52804b8bd",
   "metadata": {
    "colab": {
     "base_uri": "https://localhost:8080/",
     "height": 962
    },
    "executionInfo": {
     "elapsed": 105064,
     "status": "ok",
     "timestamp": 1646449809976,
     "user": {
      "displayName": "Elizabeth Barnes",
      "photoUrl": "https://lh3.googleusercontent.com/a-/AOh14GiNPVVIWP6XAkP_hwu-8rAxoeeNuk2BMkX5-yuA=s64",
      "userId": "07585723222468022011"
     },
     "user_tz": 420
    },
    "id": "7becb266-c9fd-4098-a2ba-e6c52804b8bd",
    "outputId": "5f2d4b54-fb88-418f-95a2-3c5e281cc2e4",
    "tags": []
   },
   "outputs": [],
   "source": [
    "rng = np.random.default_rng(settings[\"rng_seed\"])\n",
    "\n",
    "for iloop in np.arange(settings['n_models']):\n",
    "    seed = rng.integers(low=1_000,high=10_000,size=1)[0]\n",
    "    settings[\"seed\"] = int(seed)\n",
    "    tf.random.set_seed(settings[\"seed\"])\n",
    "    np.random.seed(settings[\"seed\"])\n",
    "\n",
    "    # get model name\n",
    "    model_name = file_methods.get_model_name(settings)\n",
    "    if os.path.exists(MODEL_DIRECTORY + model_name + \"_model\") and OVERWRITE_MODEL==False:\n",
    "        print(model_name + 'exists. Skipping...')\n",
    "        print(\"================================\\n\")\n",
    "        continue    \n",
    "    \n",
    "    # get the data\n",
    "    (x_train, \n",
    "     x_val, \n",
    "     x_test, \n",
    "     y_train, \n",
    "     y_val, \n",
    "     y_test, \n",
    "     onehot_train, \n",
    "     onehot_val, \n",
    "     onehot_test, \n",
    "     y_yrs_train, \n",
    "     y_yrs_val, \n",
    "     y_yrs_test, \n",
    "     target_years, \n",
    "     map_shape,\n",
    "     settings) = data_processing.get_cmip_data(DATA_DIRECTORY, settings)\n",
    "\n",
    "    #----------------------------------------        \n",
    "    tf.keras.backend.clear_session()                \n",
    "    model = network.compile_model(x_train, y_train, settings)\n",
    "    history = model.fit(x_train, onehot_train, \n",
    "                        epochs=settings['n_epochs'], \n",
    "                        batch_size = settings['batch_size'], \n",
    "                        shuffle=True,\n",
    "                        validation_data=[x_val, onehot_val],\n",
    "                        callbacks=[early_stopping,],\n",
    "                        verbose=0,                        \n",
    "                       )\n",
    "    #----------------------------------------\n",
    "    # create predictions for observations with this model\n",
    "    pred_obs = model.predict(x_obs)\n",
    "    \n",
    "    #----------------------------------------\n",
    "    # save the tensorflow model and obs predictions\n",
    "    if settings[\"save_model\"]:\n",
    "        file_methods.save_tf_model(model, model_name, MODEL_DIRECTORY, settings)\n",
    "        file_methods.save_pred_obs(pred_obs, \n",
    "                                   PREDICTIONS_DIRECTORY+model_name + '_obs_predictions',\n",
    "                                  )\n",
    "\n",
    "    #----------------------------------------\n",
    "    # create and save diagnostics plots\n",
    "    plots.plot_metrics_panels(history,settings)\n",
    "    plt.savefig(DIAGNOSTICS_DIRECTORY + model_name + '_metrics_diagnostic' + '.png', dpi=savefig_dpi)\n",
    "    plt.show()             \n",
    "    \n",
    "    plot_one_to_one_diagnostic()\n",
    "    plt.savefig(DIAGNOSTICS_DIRECTORY + model_name + '_one_to_one_diagnostic' + '.png', dpi=savefig_dpi)\n",
    "    plt.show()   \n",
    "    "
   ]
  }
 ],
 "metadata": {
  "colab": {
   "collapsed_sections": [],
   "name": "_main.ipynb",
   "provenance": []
  },
  "kernelspec": {
   "display_name": "Python 3 (ipykernel)",
   "language": "python",
   "name": "python3"
  },
  "language_info": {
   "codemirror_mode": {
    "name": "ipython",
    "version": 3
   },
   "file_extension": ".py",
   "mimetype": "text/x-python",
   "name": "python",
   "nbconvert_exporter": "python",
   "pygments_lexer": "ipython3",
   "version": "3.9.10"
  }
 },
 "nbformat": 4,
 "nbformat_minor": 5
}
