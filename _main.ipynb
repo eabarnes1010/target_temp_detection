{
 "cells": [
  {
   "cell_type": "markdown",
   "id": "4a650402-4774-49cb-9b72-9c8f1dd02f1d",
   "metadata": {
    "id": "4a650402-4774-49cb-9b72-9c8f1dd02f1d"
   },
   "source": [
    "# Detecting temperature targets\n",
    "##### authors: Elizabeth A. Barnes and Noah Diffenbaugh\n",
    "##### version: v0.1.0"
   ]
  },
  {
   "cell_type": "markdown",
   "id": "482fc82c-3e30-4466-b896-1b292d5b2ef0",
   "metadata": {
    "jp-MarkdownHeadingCollapsed": true,
    "tags": []
   },
   "source": [
    "## Python setup stuff"
   ]
  },
  {
   "cell_type": "markdown",
   "id": "c811e52c-15c4-4e8a-8cb9-da43cb4ec4ee",
   "metadata": {
    "id": "c811e52c-15c4-4e8a-8cb9-da43cb4ec4ee",
    "tags": []
   },
   "source": [
    "The following code is for setting up a local environment.\n",
    "```\n",
    "conda create --name env-noah python=3.9\n",
    "conda activate env-noah\n",
    "pip install tensorflow==2.7.0\n",
    "pip install tensorflow-probability==0.15.0\n",
    "pip install --upgrade numpy scipy pandas statsmodels matplotlib seaborn palettable progressbar2 tabulate icecream flake8 keras-tuner sklearn jupyterlab black isort jupyterlab_code_formatter\n",
    "pip install -U scikit-learn\n",
    "pip install silence-tensorflow tqdm\n",
    "conda install -c conda-forge cmocean cartopy\n",
    "conda install -c conda-forge xarray dask netCDF4 bottleneck\n",
    "conda install -c conda-forge nc-time-axis\n",
    "```\n",
    "\n",
    "Use the command\n",
    "```python -m pip freeze > requirements.txt```\n",
    "to make a pip installation list."
   ]
  },
  {
   "cell_type": "code",
   "execution_count": null,
   "id": "1fdc0268-dd0a-4296-8a0b-f14b4c6189b2",
   "metadata": {
    "colab": {
     "base_uri": "https://localhost:8080/"
    },
    "executionInfo": {
     "elapsed": 28,
     "status": "ok",
     "timestamp": 1646449663380,
     "user": {
      "displayName": "Elizabeth Barnes",
      "photoUrl": "https://lh3.googleusercontent.com/a-/AOh14GiNPVVIWP6XAkP_hwu-8rAxoeeNuk2BMkX5-yuA=s64",
      "userId": "07585723222468022011"
     },
     "user_tz": 420
    },
    "id": "1fdc0268-dd0a-4296-8a0b-f14b4c6189b2",
    "jupyter": {
     "source_hidden": true
    },
    "outputId": "4e614eaa-b436-4f26-f1bd-3b59fcad893e",
    "tags": []
   },
   "outputs": [],
   "source": [
    "try:\n",
    "    import google.colab\n",
    "    IN_COLAB = True\n",
    "except:\n",
    "    IN_COLAB = False\n",
    "print('IN_COLAB = ' + str(IN_COLAB))"
   ]
  },
  {
   "cell_type": "code",
   "execution_count": null,
   "id": "fb968382-4186-466e-a85b-b00caa5fc9be",
   "metadata": {
    "colab": {
     "base_uri": "https://localhost:8080/"
    },
    "executionInfo": {
     "elapsed": 17642,
     "status": "ok",
     "timestamp": 1646449680995,
     "user": {
      "displayName": "Elizabeth Barnes",
      "photoUrl": "https://lh3.googleusercontent.com/a-/AOh14GiNPVVIWP6XAkP_hwu-8rAxoeeNuk2BMkX5-yuA=s64",
      "userId": "07585723222468022011"
     },
     "user_tz": 420
    },
    "id": "fb968382-4186-466e-a85b-b00caa5fc9be",
    "jupyter": {
     "source_hidden": true
    },
    "outputId": "d7964af9-2d52-4466-902d-9b85faba9a91",
    "tags": []
   },
   "outputs": [],
   "source": [
    "if IN_COLAB:\n",
    "    !pip install xarray==0.20.2\n",
    "    !pip install nc-time-axis\n",
    "\n",
    "import xarray as xr\n",
    "import numpy as np\n",
    "import matplotlib.pyplot as plt\n",
    "import pickle\n",
    "import sys\n",
    "\n",
    "import tensorflow as tf\n",
    "from tensorflow.keras import Model\n",
    "from tensorflow.keras.layers import Dense, Input, Dropout, Softmax\n",
    "\n",
    "import matplotlib as mpl\n",
    "mpl.rcParams[\"figure.facecolor\"] = \"white\"\n",
    "mpl.rcParams[\"figure.dpi\"] = 150\n",
    "savefig_dpi = 300\n",
    "np.warnings.filterwarnings(\"ignore\", category=np.VisibleDeprecationWarning)"
   ]
  },
  {
   "cell_type": "code",
   "execution_count": null,
   "id": "29a5cee3-6f4f-4818-92e1-1351eeeb565a",
   "metadata": {
    "colab": {
     "base_uri": "https://localhost:8080/"
    },
    "executionInfo": {
     "elapsed": 30,
     "status": "ok",
     "timestamp": 1646449681009,
     "user": {
      "displayName": "Elizabeth Barnes",
      "photoUrl": "https://lh3.googleusercontent.com/a-/AOh14GiNPVVIWP6XAkP_hwu-8rAxoeeNuk2BMkX5-yuA=s64",
      "userId": "07585723222468022011"
     },
     "user_tz": 420
    },
    "id": "29a5cee3-6f4f-4818-92e1-1351eeeb565a",
    "jupyter": {
     "source_hidden": true
    },
    "outputId": "e5f5b0ac-82b8-4147-bf44-4bc3b49466a2",
    "tags": []
   },
   "outputs": [],
   "source": [
    "print(f\"python version = {sys.version}\")\n",
    "print(f\"numpy version = {np.__version__}\")\n",
    "print(f\"xarray version = {xr.__version__}\")  \n",
    "print(f\"tensorflow version = {tf.__version__}\")  "
   ]
  },
  {
   "cell_type": "markdown",
   "id": "9de167a6-1c3f-435f-815c-0ff078ef9d1e",
   "metadata": {},
   "source": [
    "## Define parameters"
   ]
  },
  {
   "cell_type": "code",
   "execution_count": null,
   "id": "a0d3faaa-4f55-4d7f-a538-6c641098687f",
   "metadata": {
    "executionInfo": {
     "elapsed": 29,
     "status": "ok",
     "timestamp": 1646449681009,
     "user": {
      "displayName": "Elizabeth Barnes",
      "photoUrl": "https://lh3.googleusercontent.com/a-/AOh14GiNPVVIWP6XAkP_hwu-8rAxoeeNuk2BMkX5-yuA=s64",
      "userId": "07585723222468022011"
     },
     "user_tz": 420
    },
    "id": "a0d3faaa-4f55-4d7f-a538-6c641098687f"
   },
   "outputs": [],
   "source": [
    "TARGET_TEMP = 1.5\n",
    "BASELINE_YEARS = ('1850','1899')"
   ]
  },
  {
   "cell_type": "markdown",
   "id": "2ca0a166-fe1b-4040-a2f0-5b637089087a",
   "metadata": {
    "id": "2ca0a166-fe1b-4040-a2f0-5b637089087a"
   },
   "source": [
    "## Prepare the data"
   ]
  },
  {
   "cell_type": "code",
   "execution_count": null,
   "id": "3d5f7ba0-d553-48c6-8e9e-106aa1b01279",
   "metadata": {
    "colab": {
     "base_uri": "https://localhost:8080/",
     "height": 191
    },
    "executionInfo": {
     "elapsed": 20818,
     "status": "ok",
     "timestamp": 1646449701798,
     "user": {
      "displayName": "Elizabeth Barnes",
      "photoUrl": "https://lh3.googleusercontent.com/a-/AOh14GiNPVVIWP6XAkP_hwu-8rAxoeeNuk2BMkX5-yuA=s64",
      "userId": "07585723222468022011"
     },
     "user_tz": 420
    },
    "id": "3d5f7ba0-d553-48c6-8e9e-106aa1b01279",
    "outputId": "d9357538-9525-4ba2-ad3c-530852889368"
   },
   "outputs": [],
   "source": [
    "if IN_COLAB:\n",
    "    !pip install wget  \n",
    "    import wget\n",
    "    nc_filename = wget.download('https://eabarnes-data.atmos.colostate.edu/share/b.e21.BHISTsmbb-BSSP370smbb.f09_g17.LE2.cam.h0.TREFHT.185001-210012.r180x90.annual.nc')\n",
    "else:\n",
    "    DATA_DIRECTORY = 'data/'\n",
    "    nc_filename = DATA_DIRECTORY + 'b.e21.BHISTsmbb-BSSP370smbb.f09_g17.LE2.cam.h0.TREFHT.185001-210012.r180x90.annual.nc'\n",
    "\n",
    "da = xr.open_dataarray(nc_filename)\n",
    "da"
   ]
  },
  {
   "cell_type": "markdown",
   "id": "fa439aca-8552-4f9e-8897-cbee5652a669",
   "metadata": {
    "id": "fa439aca-8552-4f9e-8897-cbee5652a669",
    "tags": []
   },
   "source": [
    "## Set training / validation / testing"
   ]
  },
  {
   "cell_type": "code",
   "execution_count": null,
   "id": "a6afadf4-a952-4efc-b668-42721cc3c048",
   "metadata": {
    "colab": {
     "base_uri": "https://localhost:8080/"
    },
    "executionInfo": {
     "elapsed": 25,
     "status": "ok",
     "timestamp": 1646449701798,
     "user": {
      "displayName": "Elizabeth Barnes",
      "photoUrl": "https://lh3.googleusercontent.com/a-/AOh14GiNPVVIWP6XAkP_hwu-8rAxoeeNuk2BMkX5-yuA=s64",
      "userId": "07585723222468022011"
     },
     "user_tz": 420
    },
    "id": "a6afadf4-a952-4efc-b668-42721cc3c048",
    "outputId": "f9b25a39-804a-4400-e593-693f01d37b65"
   },
   "outputs": [],
   "source": [
    "TRAIN_MEMBERS = np.arange(0,24)\n",
    "VAL_MEMBERS   = np.arange(24,27)\n",
    "TEST_MEMBERS  = np.arange(27,30)\n",
    "print(TRAIN_MEMBERS, VAL_MEMBERS, TEST_MEMBERS)\n",
    "\n",
    "data_train = da[TRAIN_MEMBERS,:,:]\n",
    "data_val   = da[VAL_MEMBERS,:,:,:]\n",
    "data_test  = da[TEST_MEMBERS,:,:,:]"
   ]
  },
  {
   "cell_type": "markdown",
   "id": "ca53d22e-95cb-4a2e-86b7-05dd68e5136e",
   "metadata": {
    "id": "ca53d22e-95cb-4a2e-86b7-05dd68e5136e"
   },
   "source": [
    "## Define the target year and labels\n",
    "\n",
    "For starters, we will define the target year as the year that the ensemble mean, global mean temperature crosses the ```TARGET_TEMP``` threshold."
   ]
  },
  {
   "cell_type": "code",
   "execution_count": null,
   "id": "aae33333-64de-4bad-86c8-73b31083dacb",
   "metadata": {
    "colab": {
     "base_uri": "https://localhost:8080/",
     "height": 594
    },
    "executionInfo": {
     "elapsed": 2814,
     "status": "ok",
     "timestamp": 1646449704589,
     "user": {
      "displayName": "Elizabeth Barnes",
      "photoUrl": "https://lh3.googleusercontent.com/a-/AOh14GiNPVVIWP6XAkP_hwu-8rAxoeeNuk2BMkX5-yuA=s64",
      "userId": "07585723222468022011"
     },
     "user_tz": 420
    },
    "id": "aae33333-64de-4bad-86c8-73b31083dacb",
    "outputId": "195a23ad-e907-478f-d6bf-758b287e3068"
   },
   "outputs": [],
   "source": [
    "# compute the ensemble mean, global mean temperature\n",
    "# these computations should be based on the training set only\n",
    "\n",
    "da_ens = data_train.mean(axis=0)\n",
    "weights = np.cos(np.deg2rad(da_ens.lat))\n",
    "weights.name = \"weights\"\n",
    "temp_weighted = da_ens.weighted(weights)\n",
    "global_mean = temp_weighted.mean((\"lon\", \"lat\"))\n",
    "\n",
    "\n",
    "# compute the target year \n",
    "baseline_mean = global_mean.sel(time=slice(BASELINE_YEARS[0],BASELINE_YEARS[1])).mean('time')\n",
    "iwarmer = np.where(global_mean.values > baseline_mean.values+TARGET_TEMP)[0]\n",
    "target_year = global_mean[\"time\"].values[iwarmer[0]]\n",
    "\n",
    "\n",
    "# plot the calculation to make sure things make sense\n",
    "global_mean.plot(linewidth=2,label='data',color=\"tab:blue\")\n",
    "plt.axhline(y=baseline_mean, color='gray', linestyle='-', label='basline temp')\n",
    "plt.axhline(y=baseline_mean+TARGET_TEMP, color='orange', linestyle='-', label='target temp')\n",
    "plt.axvline(x=target_year,color='red',linewidth=2, linestyle='--', label='target year')\n",
    "plt.xlabel('year')\n",
    "plt.ylabel('temp (K)')\n",
    "plt.title('ensemble mean, global mean temperature\\ntargets [' + str(target_year.year) + ', ' + str(TARGET_TEMP) + 'C]')\n",
    "plt.legend()\n",
    "plt.show()\n"
   ]
  },
  {
   "cell_type": "code",
   "execution_count": null,
   "id": "f3fd7c0d-1d1f-45b7-ada4-864d4863d22d",
   "metadata": {
    "colab": {
     "base_uri": "https://localhost:8080/"
    },
    "executionInfo": {
     "elapsed": 152,
     "status": "ok",
     "timestamp": 1646449704707,
     "user": {
      "displayName": "Elizabeth Barnes",
      "photoUrl": "https://lh3.googleusercontent.com/a-/AOh14GiNPVVIWP6XAkP_hwu-8rAxoeeNuk2BMkX5-yuA=s64",
      "userId": "07585723222468022011"
     },
     "user_tz": 420
    },
    "id": "f3fd7c0d-1d1f-45b7-ada4-864d4863d22d",
    "outputId": "ed46afe3-80ad-47d5-f3fa-49ccf0e86ffc"
   },
   "outputs": [],
   "source": [
    "# define the labels\n",
    "TARGET_YEAR = target_year.year\n",
    "print('TARGET_YEAR = ' + str(TARGET_YEAR))\n",
    "\n",
    "labels = da['time.year'].values\n",
    "labels = TARGET_YEAR - labels\n",
    "print('labels = ' + str(labels))"
   ]
  },
  {
   "cell_type": "markdown",
   "id": "6bf95abe-3856-45d6-9204-6cb9bad3dfaf",
   "metadata": {
    "id": "6bf95abe-3856-45d6-9204-6cb9bad3dfaf"
   },
   "source": [
    "## Setup the network"
   ]
  },
  {
   "cell_type": "code",
   "execution_count": null,
   "id": "7dffe81f-e03b-4fd1-bf6a-8afbfeedce72",
   "metadata": {
    "executionInfo": {
     "elapsed": 19,
     "status": "ok",
     "timestamp": 1646449704707,
     "user": {
      "displayName": "Elizabeth Barnes",
      "photoUrl": "https://lh3.googleusercontent.com/a-/AOh14GiNPVVIWP6XAkP_hwu-8rAxoeeNuk2BMkX5-yuA=s64",
      "userId": "07585723222468022011"
     },
     "user_tz": 420
    },
    "id": "7dffe81f-e03b-4fd1-bf6a-8afbfeedce72"
   },
   "outputs": [],
   "source": [
    "# define the model\n",
    "def compile_model(x_train):\n",
    "\n",
    "    # First we start with an input layer\n",
    "    inputs = Input(shape=x_train.shape[1:]) \n",
    "\n",
    "    normalizer = tf.keras.layers.Normalization()\n",
    "    normalizer.adapt(x_train)\n",
    "    layers = normalizer(inputs)\n",
    "\n",
    "    layers = Dropout(rate=.0,seed=SEED)(layers) # if Dropout(0), no dropout is applied\n",
    "    \n",
    "    for hidden, activation in zip(HIDDENS, ACTIVATIONS):\n",
    "        layers = Dense(hidden, activation=activation,\n",
    "                       kernel_regularizer=tf.keras.regularizers.l1_l2(l1=0.00, l2=RIDGE),\n",
    "                       bias_initializer=tf.keras.initializers.RandomNormal(seed=SEED),\n",
    "                       kernel_initializer=tf.keras.initializers.RandomNormal(seed=SEED))(layers)\n",
    "\n",
    "\n",
    "    # Output layer has a softmax function to convert output to class likelihood\n",
    "    output_layer = Dense(1, activation='linear',\n",
    "                      bias_initializer=tf.keras.initializers.RandomNormal(seed=SEED),\n",
    "                      kernel_initializer=tf.keras.initializers.RandomNormal(seed=SEED))(layers)\n",
    "\n",
    "    # Constructing the model\n",
    "    model = Model(inputs, output_layer)\n",
    "    optimizer = tf.keras.optimizers.Adam(learning_rate=LEARNING_RATE) # Using the Adam optimizer\n",
    "    model.compile(optimizer=optimizer, loss=LOSS, metrics=['mse',])\n",
    "\n",
    "    model.summary()\n",
    "    \n",
    "    return model\n",
    "\n",
    "# Early Stopping\n",
    "EARLY_STOPPING = tf.keras.callbacks.EarlyStopping(monitor='val_loss',\n",
    "                                                   patience=10,\n",
    "                                                   verbose=1,\n",
    "                                                   mode='auto',\n",
    "                                                   restore_best_weights=True)"
   ]
  },
  {
   "cell_type": "markdown",
   "id": "c807abd7-832a-484b-98cd-7e6c3a9f60c0",
   "metadata": {
    "id": "c807abd7-832a-484b-98cd-7e6c3a9f60c0"
   },
   "source": [
    "## Train the network"
   ]
  },
  {
   "cell_type": "code",
   "execution_count": null,
   "id": "f42816e8-8252-4b2b-be4f-cf3c7f005bfc",
   "metadata": {
    "colab": {
     "base_uri": "https://localhost:8080/"
    },
    "executionInfo": {
     "elapsed": 246,
     "status": "ok",
     "timestamp": 1646449704934,
     "user": {
      "displayName": "Elizabeth Barnes",
      "photoUrl": "https://lh3.googleusercontent.com/a-/AOh14GiNPVVIWP6XAkP_hwu-8rAxoeeNuk2BMkX5-yuA=s64",
      "userId": "07585723222468022011"
     },
     "user_tz": 420
    },
    "id": "f42816e8-8252-4b2b-be4f-cf3c7f005bfc",
    "outputId": "af722cc8-c197-48e6-b9b0-9d8941d84ffd"
   },
   "outputs": [],
   "source": [
    "x_train = data_train.values.reshape((data_train.shape[0]*data_train.shape[1],data_train.shape[2]*data_train.shape[3]))\n",
    "x_val   = data_val.values.reshape((data_val.shape[0]*data_val.shape[1],data_val.shape[2]*data_val.shape[3]))\n",
    "x_test  = data_test.values.reshape((data_test.shape[0]*data_test.shape[1],data_test.shape[2]*data_test.shape[3]))\n",
    "\n",
    "y_train = np.tile(labels,data_train.shape[0])\n",
    "y_val   = np.tile(labels,data_val.shape[0])\n",
    "y_test  = np.tile(labels,data_test.shape[0])\n",
    "\n",
    "print(x_train.shape, y_train.shape)\n",
    "print(x_val.shape, y_val.shape)\n",
    "print(x_test.shape, y_test.shape)"
   ]
  },
  {
   "cell_type": "code",
   "execution_count": null,
   "id": "7becb266-c9fd-4098-a2ba-e6c52804b8bd",
   "metadata": {
    "colab": {
     "base_uri": "https://localhost:8080/",
     "height": 962
    },
    "executionInfo": {
     "elapsed": 105064,
     "status": "ok",
     "timestamp": 1646449809976,
     "user": {
      "displayName": "Elizabeth Barnes",
      "photoUrl": "https://lh3.googleusercontent.com/a-/AOh14GiNPVVIWP6XAkP_hwu-8rAxoeeNuk2BMkX5-yuA=s64",
      "userId": "07585723222468022011"
     },
     "user_tz": 420
    },
    "id": "7becb266-c9fd-4098-a2ba-e6c52804b8bd",
    "outputId": "5f2d4b54-fb88-418f-95a2-3c5e281cc2e4"
   },
   "outputs": [],
   "source": [
    "SEED = 8889\n",
    "LEARNING_RATE = 0.0001\n",
    "BATCH_SIZE = 64\n",
    "NUM_EPOCHS = 500\n",
    "HIDDENS = [10,10]\n",
    "ACTIVATIONS = ['relu'] * len(HIDDENS) \n",
    "LOSS = 'mae'\n",
    "RIDGE = .1\n",
    "VERBOSITY = 0\n",
    "#----------------------------------------\n",
    "\n",
    "tf.keras.backend.clear_session()            \n",
    "tf.random.set_seed(SEED)\n",
    "np.random.seed(SEED)\n",
    "\n",
    "model = compile_model(x_train)\n",
    "history = model.fit(x_train, y_train, \n",
    "                    epochs=NUM_EPOCHS, \n",
    "                    verbose=VERBOSITY,\n",
    "                    batch_size = BATCH_SIZE, \n",
    "                    shuffle=True,\n",
    "                    validation_data=[x_val, y_val],\n",
    "                    callbacks=[EARLY_STOPPING],\n",
    "                   )\n",
    "#----------------------------------------\n",
    "plt.plot(history.history['loss'], label='loss')\n",
    "plt.plot(history.history['val_loss'], label='val_loss')\n",
    "plt.xlabel('epoch')\n",
    "plt.ylabel('loss')\n",
    "plt.legend()\n",
    "plt.show()"
   ]
  },
  {
   "cell_type": "code",
   "execution_count": null,
   "id": "156b05d0-da60-4eda-86b7-4327333093c1",
   "metadata": {
    "colab": {
     "base_uri": "https://localhost:8080/",
     "height": 735
    },
    "executionInfo": {
     "elapsed": 990,
     "status": "ok",
     "timestamp": 1646449810953,
     "user": {
      "displayName": "Elizabeth Barnes",
      "photoUrl": "https://lh3.googleusercontent.com/a-/AOh14GiNPVVIWP6XAkP_hwu-8rAxoeeNuk2BMkX5-yuA=s64",
      "userId": "07585723222468022011"
     },
     "user_tz": 420
    },
    "id": "156b05d0-da60-4eda-86b7-4327333093c1",
    "outputId": "6d37c46a-c8a3-4e44-df23-edd7e9b38697"
   },
   "outputs": [],
   "source": [
    "x_plot = x_test #x_test #x_val\n",
    "y_plot = y_test #y_test #y_val\n",
    "years = np.arange(1850,2101)\n",
    "\n",
    "predict_plot = model.predict(x_plot)\n",
    "mae = np.mean(np.abs(predict_plot[:,0]-y_plot[:]))\n",
    "\n",
    "#--------------------------------\n",
    "plt.figure(figsize=(7,5))\n",
    "plt.plot(TARGET_YEAR-y_plot, predict_plot,'.')\n",
    "\n",
    "plt.axvline(x=TARGET_YEAR, linestyle='-', color='gray')\n",
    "plt.axhline(y=0,color='gray')\n",
    "\n",
    "plt.plot(years,labels,'--',color='fuchsia', linewidth=3, label='truth')\n",
    "\n",
    "plt.legend()\n",
    "plt.xlabel('year of map')\n",
    "plt.ylabel('predicted number of years until target is reached')\n",
    "plt.title('Testing Data\\ntargets [' + str(TARGET_YEAR) + ', ' + str(TARGET_TEMP) + 'C]; MAE = ' + str(np.round(mae,2)) + ' years')\n",
    "\n",
    "if IN_COLAB==False:\n",
    "    plt.savefig('figures/initial_result_seed' + str(SEED) + '.png', dpi=savefig_dpi)\n",
    "plt.show()"
   ]
  },
  {
   "cell_type": "code",
   "execution_count": null,
   "id": "291b83f6-709e-4eb6-a5fb-7db1e3579d6b",
   "metadata": {
    "executionInfo": {
     "elapsed": 34,
     "status": "ok",
     "timestamp": 1646449810954,
     "user": {
      "displayName": "Elizabeth Barnes",
      "photoUrl": "https://lh3.googleusercontent.com/a-/AOh14GiNPVVIWP6XAkP_hwu-8rAxoeeNuk2BMkX5-yuA=s64",
      "userId": "07585723222468022011"
     },
     "user_tz": 420
    },
    "id": "291b83f6-709e-4eb6-a5fb-7db1e3579d6b"
   },
   "outputs": [],
   "source": []
  }
 ],
 "metadata": {
  "colab": {
   "collapsed_sections": [],
   "name": "_main.ipynb",
   "provenance": []
  },
  "kernelspec": {
   "display_name": "Python 3 (ipykernel)",
   "language": "python",
   "name": "python3"
  },
  "language_info": {
   "codemirror_mode": {
    "name": "ipython",
    "version": 3
   },
   "file_extension": ".py",
   "mimetype": "text/x-python",
   "name": "python",
   "nbconvert_exporter": "python",
   "pygments_lexer": "ipython3",
   "version": "3.9.10"
  }
 },
 "nbformat": 4,
 "nbformat_minor": 5
}
