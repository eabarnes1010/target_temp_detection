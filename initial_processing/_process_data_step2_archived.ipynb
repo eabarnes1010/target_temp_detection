{
 "cells": [
  {
   "cell_type": "markdown",
   "id": "d1302a83-244c-4f2f-9ac2-cd465eb4e9fe",
   "metadata": {},
   "source": [
    "# Detecting temperature targets\n",
    "##### author: Elizabeth A. Barnes and Noah Diffenbaugh\n",
    "##### version: v0.1.0\n",
    "\n",
    "```\n",
    "conda create --name env-noah python=3.9\n",
    "conda activate env-noah\n",
    "pip install tensorflow==2.7.0\n",
    "pip install tensorflow-probability==0.15.0\n",
    "pip install --upgrade numpy scipy pandas statsmodels matplotlib seaborn palettable progressbar2 tabulate icecream flake8 keras-tuner sklearn jupyterlab black isort jupyterlab_code_formatter\n",
    "pip install -U scikit-learn\n",
    "pip install silence-tensorflow tqdm\n",
    "conda install -c conda-forge cmocean cartopy\n",
    "conda install -c conda-forge xarray dask netCDF4 bottleneck\n",
    "conda install -c conda-forge nc-time-axis\n",
    "```\n",
    "\n",
    "Use the command\n",
    "```python -m pip freeze > requirements.txt```\n",
    "to make a pip installation list."
   ]
  },
  {
   "cell_type": "markdown",
   "id": "2ae65312-198a-4b69-aa5e-fd101bb54b9f",
   "metadata": {},
   "source": [
    "Data can be found here:\n",
    "* https://www.earthsystemgrid.org/dataset/ucar.cgd.cesm2le.atm.proc.monthly_ave.TREFHT/file.html\n",
    "* https://www.cesm.ucar.edu/projects/community-projects/LENS2/"
   ]
  },
  {
   "cell_type": "code",
   "execution_count": null,
   "id": "e6711c2a-2c1c-4e66-b8ee-ea8d5e9da0c8",
   "metadata": {},
   "outputs": [],
   "source": [
    "import xarray as xr\n",
    "import numpy as np\n",
    "# import pandas as pd\n",
    "import matplotlib.pyplot as plt\n",
    "# import cartopy.crs as ccrs\n",
    "\n",
    "import os.path\n",
    "from os import path\n",
    "import subprocess\n"
   ]
  },
  {
   "cell_type": "code",
   "execution_count": null,
   "id": "2ad192dd-db23-4589-8515-cf785e0221aa",
   "metadata": {},
   "outputs": [],
   "source": [
    "dirName = '/Users/eabarnes/Desktop/big_data/orig_grid/'\n",
    "dirReMapName = '/Users/eabarnes/Desktop/big_data/remap_grid/'\n",
    "dirMergeName = '/Users/eabarnes/Desktop/big_data/merge_all/'\n",
    "dirAnnualName = '/Users/eabarnes/Desktop/big_data/annual_mean/'"
   ]
  },
  {
   "cell_type": "markdown",
   "id": "b4e29afb-7ac9-4fb5-9d97-900f88143c56",
   "metadata": {},
   "source": [
    "## Remap to coarser grid"
   ]
  },
  {
   "cell_type": "code",
   "execution_count": null,
   "id": "471e8b63-94e4-4074-8c4b-0def2778ade7",
   "metadata": {},
   "outputs": [],
   "source": [
    "var = 'TREFHT'\n",
    "\n",
    "for exp in ('BHISTsmbb','BSSP370smbb'):\n",
    "    print('-----' + exp + '-----')\n",
    "    for control_decade in (1231, 1251, 1281, 1301): \n",
    "        for member in np.arange(10,21):\n",
    "            print('-----' + str(member) + '-----')\n",
    "\n",
    "            #---------------------------------------------------------\n",
    "            if(exp=='BHISTsmbb'):\n",
    "                timetext = '185001-201412'\n",
    "            elif(exp=='BSSP370smbb'):\n",
    "                timetext = '201501-210012'\n",
    "            else:\n",
    "                raise ValueError('no such timetext')\n",
    "            filename_merge = 'b.e21.' + str(exp) + '.f09_g17.LE2-' + str(control_decade) + '.0' + str(member) + '.cam.h0.' + str(var) + '.' + timetext + '.nc'\n",
    "            filename_remap = filename_merge[:-3] + '.r180x90.nc'\n",
    "            #---------------------------------------------------------\n",
    "\n",
    "            if(os.path.isfile(dirReMapName+filename_remap)==True):\n",
    "                print('remap file exists, continue')\n",
    "            else:\n",
    "                # grab variable only\n",
    "                runText = \"cdo -select,name=\" + var + \" \" + dirName+filename_merge + \" \" + dirReMapName + \"outfile.nc\"\n",
    "                print(runText)\n",
    "                process = subprocess.Popen(runText.split(), stdout=subprocess.PIPE)\n",
    "                output, error = process.communicate()       \n",
    "\n",
    "                # remap to 2x2\n",
    "                runText = 'cdo remapcon,r180x90 ' + dirReMapName + 'outfile.nc ' + dirReMapName+filename_remap \n",
    "                print(runText)\n",
    "                process = subprocess.Popen(runText.split(), stdout=subprocess.PIPE)\n",
    "                output, error = process.communicate()       \n",
    "\n",
    "                # remove outfile.nc\n",
    "                runText = 'rm ' + dirReMapName + 'outfile.nc'\n",
    "                print(runText)\n",
    "                process = subprocess.Popen(runText.split(), stdout=subprocess.PIPE)\n",
    "                process = subprocess.Popen(runText.split(), stdout=subprocess.PIPE)\n",
    "                output, error = process.communicate()  \n",
    "                "
   ]
  },
  {
   "cell_type": "markdown",
   "id": "33bf70fe-771d-42f3-b369-e30eb7b0c4e1",
   "metadata": {},
   "source": [
    "## Merge historical and future"
   ]
  },
  {
   "cell_type": "code",
   "execution_count": null,
   "id": "3b622bc8-98ee-4d40-93bc-76800666f1db",
   "metadata": {},
   "outputs": [],
   "source": [
    "var = 'TREFHT'\n",
    "\n",
    "for control_decade in (1231, 1251, 1281, 1301): \n",
    "    for member in np.arange(10,21):\n",
    "        print('-----' + str(member) + '-----')\n",
    "\n",
    "        filename_hist = 'b.e21.BHISTsmbb.f09_g17.LE2-' + str(control_decade) + '.0' + str(member) + '.cam.h0.' + str(var) + '.' + '185001-201412' + '.r180x90.nc'\n",
    "        filename_ssp  = 'b.e21.BSSP370smbb.f09_g17.LE2-' + str(control_decade) + '.0' + str(member) + '.cam.h0.' + str(var) + '.' + '201501-210012' + '.r180x90.nc'        \n",
    "        filename_all  = 'b.e21.BHISTsmbb-BSSP370smbb.f09_g17.LE2-' + str(control_decade) + '.0' + str(member) + '.cam.h0.' + str(var) + '.' + '185001-210012' + '.r180x90.nc'\n",
    "        # filename_short  = 'b.e21.BHISTsmbb-BSSP370smbb.f09_g17.LE2-' + str(control_decade) + '.0' + str(member) + '.cam.h0.' + str(var) + '.' + '195001-210012' + '.r180x90.nc'\n",
    "        #---------------------------------------------------------\n",
    "\n",
    "        if(os.path.isfile(dirMergeName+filename_all)==True):\n",
    "            print('remap file exists, continue')\n",
    "        else:\n",
    "            # mergetime\n",
    "            # runText = 'cdo mergetime ' + dirReMapName+filename_hist + ' ' + dirReMapName+filename_ssp + ' ' + dirMergeName+'timewrong.nc'\n",
    "            runText = 'cdo mergetime ' + dirReMapName+filename_hist + ' ' + dirReMapName+filename_ssp + ' ' + dirMergeName+filename_all\n",
    "            print(runText)\n",
    "            process = subprocess.Popen(runText.split(), stdout=subprocess.PIPE)\n",
    "            output, error = process.communicate()\n",
    "            \n",
    "        if(os.path.isfile(dirMergeName+filename_short)==True):\n",
    "            print('remap file exists, continue')\n",
    "        else:\n",
    "            # mergetime\n",
    "            runText = 'cdo selyear,1950/2101 ' + dirMergeName+filename_all + ' ' + dirMergeName+filename_short\n",
    "            print(runText)\n",
    "            process = subprocess.Popen(runText.split(), stdout=subprocess.PIPE)\n",
    "            output, error = process.communicate()\n",
    "            \n",
    "#         if(os.path.isfile(dirMergeName+filename_short)==True):\n",
    "#             print('remap file exists, continue')\n",
    "#         else:\n",
    "#             # mergetime\n",
    "#             runText = 'cdo selyear,1950/2101 ' + dirMergeName+filename_all + ' ' + dirMergeName+filename_short\n",
    "#             print(runText)\n",
    "#             process = subprocess.Popen(runText.split(), stdout=subprocess.PIPE)\n",
    "#             output, error = process.communicate()\n",
    "                \n",
    "            \n",
    "            # shifttime\n",
    "            # runText = 'cdo settaxis,1850-01-01,00:00:00,1month ' + dirMergeName+'timewrong.nc' + ' ' + dirMergeName+filename_all\n",
    "            # print(runText)\n",
    "            # process = subprocess.Popen(runText.split(), stdout=subprocess.PIPE)\n",
    "            # output, error = process.communicate()\n",
    "            \n",
    "            # cdo settaxis,1920-01-15,00:00:00,1month tmp.nc filout.nc\n",
    "            # remove timewrong.nc\n",
    "            # runText = 'rm ' + dirMergeName + 'timewrong.nc'\n",
    "            # print(runText)\n",
    "            # process = subprocess.Popen(runText.split(), stdout=subprocess.PIPE)\n",
    "            # output, error = process.communicate()  \n",
    "            \n",
    "            "
   ]
  },
  {
   "cell_type": "markdown",
   "id": "98204e70-7ee5-4a0e-979d-4b922baa8ad6",
   "metadata": {},
   "source": [
    "## Take mean over all members"
   ]
  },
  {
   "cell_type": "code",
   "execution_count": null,
   "id": "4c4bc306-cd99-432b-803c-f73427095516",
   "metadata": {},
   "outputs": [],
   "source": [
    "runText = 'cdo ensmean ' + dirMergeName+'*185001-210012.r180x90.nc ' + dirMergeName + '/b.e21.BHISTsmbb-BSSP370smbb.f09_g17.LE2.cam.h0.TREFHT.185001-210012.r180x90.nc'\n",
    "print(runText)\n",
    "process = subprocess.Popen(runText.split(), stdout=subprocess.PIPE)\n",
    "output, error = process.communicate()\n"
   ]
  },
  {
   "cell_type": "code",
   "execution_count": null,
   "id": "1962100b-aaae-4f61-96dd-cae1f436145a",
   "metadata": {},
   "outputs": [],
   "source": [
    "runText = 'cdo ensmean ' + dirMergeName+'*195001-210012.r180x90.nc ' + dirMergeName + '/b.e21.BHISTsmbb-BSSP370smbb.f09_g17.LE2.cam.h0.TREFHT.195001-210012.r180x90.nc'\n",
    "print(runText)\n",
    "process = subprocess.Popen(runText.split(), stdout=subprocess.PIPE)\n",
    "output, error = process.communicate()\n"
   ]
  },
  {
   "cell_type": "markdown",
   "id": "a51ce3e7-bd06-464e-8198-2eea6ad17ce6",
   "metadata": {},
   "source": [
    "## Rename files and take annual mean"
   ]
  },
  {
   "cell_type": "code",
   "execution_count": 46,
   "id": "646a99bf-a235-4b2b-b696-6e1f39945917",
   "metadata": {},
   "outputs": [],
   "source": [
    "# https://ncar.github.io/esds/posts/2021/yearly-averages-xarray/\n",
    "\n",
    "def weighted_temporal_mean(ds, var):\n",
    "    \"\"\"\n",
    "    weight by days in each month\n",
    "    \"\"\"\n",
    "    # Determine the month length\n",
    "    month_length = ds.time.dt.days_in_month\n",
    "\n",
    "    # Calculate the weights\n",
    "    wgts = month_length.groupby(\"time.year\") / month_length.groupby(\"time.year\").sum()\n",
    "\n",
    "    # Make sure the weights in each year add up to 1\n",
    "    np.testing.assert_allclose(wgts.groupby(\"time.year\").sum(xr.ALL_DIMS), 1.0)\n",
    "\n",
    "    # Subset our dataset for our variable\n",
    "    obs = ds[var]\n",
    "\n",
    "    # Setup our masking for nan values\n",
    "    cond = obs.isnull()\n",
    "    ones = xr.where(cond, 0.0, 1.0)\n",
    "\n",
    "    # Calculate the numerator\n",
    "    obs_sum = (obs * wgts).resample(time=\"AS\").sum(dim=\"time\")\n",
    "\n",
    "    # Calculate the denominator\n",
    "    ones_out = (ones * wgts).resample(time=\"AS\").sum(dim=\"time\")\n",
    "\n",
    "    # Return the weighted average\n",
    "    return obs_sum / ones_out"
   ]
  },
  {
   "cell_type": "code",
   "execution_count": 52,
   "id": "d07a70fc-ab48-494e-be46-2dc79cc0d9f6",
   "metadata": {},
   "outputs": [
    {
     "name": "stdout",
     "output_type": "stream",
     "text": [
      "cdo merge /Users/eabarnes/Desktop/big_data/annual_mean/*.nc /Users/eabarnes/Desktop/big_data/annual_mean/../b.e21.BHISTsmbb-BSSP370smbb.f09_g17.LE2.cam.h0.TREFHT.185001-210012.r180x90.annual.nc\n"
     ]
    },
    {
     "name": "stderr",
     "output_type": "stream",
     "text": [
      "cdo    merge (Warning): Duplicate entry of parameter name __xarray_dataarray_variable__ in /Users/eabarnes/Desktop/big_data/annual_mean/b.e21.BHISTsmbb-BSSP370smbb.f09_g17.LE2-1231.012.cam.h0.TREFHT.185001-210012.r180x90.annual.nc!\n"
     ]
    }
   ],
   "source": [
    "import datetime\n",
    "var = 'TREFHT'\n",
    "X = np.zeros(30,251,90,180)\n",
    "count = 0\n",
    "\n",
    "for control_decade in (1231, 1251, 1281, 1301): \n",
    "    for member in np.arange(10,21):\n",
    "\n",
    "        filename_all  = 'b.e21.BHISTsmbb-BSSP370smbb.f09_g17.LE2-' + str(control_decade) + '.0' + str(member) + '.cam.h0.' + str(var) + '.' + '185001-210012' + '.r180x90.nc'\n",
    "        filename_ann  = filename_all[:-2] + 'annual.nc'\n",
    "        \n",
    "        if(os.path.isfile(dirMergeName + filename_all)==False):\n",
    "            continue\n",
    "        da = xr.open_dataset(dirMergeName + filename_all)\n",
    "        #---------------------------------------------------------\n",
    "        # fix the time stamp\n",
    "        dates = da[\"time\"]\n",
    "        delta_time = datetime.timedelta(1)\n",
    "        new_dates = dates - delta_time\n",
    "        da[\"time\"] = new_dates\n",
    "\n",
    "        #---------------------------------------------------------\n",
    "        # take the annual mean\n",
    "         = weighted_temporal_mean(da,'TREFHT')\n",
    "        da_annual.to_netcdf(dirAnnualName + filename_ann)\n",
    "\n",
    "        #---------------------------------------------------------\n",
    "        # concatenate all together\n",
    "        X[count,:,:,:] = da_annual['TREFHT'].values()\n",
    "        \n",
    "# runText = 'cdo merge ' + dirAnnualName+'*.nc' + ' ' + dirAnnualName+'../b.e21.BHISTsmbb-BSSP370smbb.f09_g17.LE2.cam.h0.TREFHT.185001-210012.r180x90.annual.nc'\n",
    "# print(runText)\n",
    "# process = subprocess.Popen(runText.split(), stdout=subprocess.PIPE)\n",
    "# output, error = process.communicate()\n",
    "        \n",
    "        "
   ]
  },
  {
   "cell_type": "code",
   "execution_count": 58,
   "id": "4610aa91-8ef0-4b1c-973f-d56ecaaf2cfc",
   "metadata": {},
   "outputs": [
    {
     "data": {
      "text/plain": [
       "<bound method Mapping.keys of <xarray.Dataset>\n",
       "Dimensions:                        (time: 251, lon: 180, lat: 90)\n",
       "Coordinates:\n",
       "  * time                           (time) object 1850-01-01 00:00:00 ... 2100...\n",
       "  * lon                            (lon) float64 0.0 2.0 4.0 ... 356.0 358.0\n",
       "  * lat                            (lat) float64 -89.0 -87.0 -85.0 ... 87.0 89.0\n",
       "Data variables:\n",
       "    __xarray_dataarray_variable__  (time, lat, lon) float64 ...>"
      ]
     },
     "execution_count": 58,
     "metadata": {},
     "output_type": "execute_result"
    }
   ],
   "source": [
    "da_annual.keys"
   ]
  },
  {
   "cell_type": "code",
   "execution_count": 86,
   "id": "0b891a4e-5ac5-4d99-88fa-feec7951f508",
   "metadata": {},
   "outputs": [
    {
     "name": "stdout",
     "output_type": "stream",
     "text": [
      "b.e21.BHISTsmbb-BSSP370smbb.f09_g17.LE2-1231.011.cam.h0.TREFHT.185001-210012.r180x90.annual.nc\n",
      "b.e21.BHISTsmbb-BSSP370smbb.f09_g17.LE2-1231.012.cam.h0.TREFHT.185001-210012.r180x90.annual.nc\n",
      "b.e21.BHISTsmbb-BSSP370smbb.f09_g17.LE2-1231.013.cam.h0.TREFHT.185001-210012.r180x90.annual.nc\n",
      "b.e21.BHISTsmbb-BSSP370smbb.f09_g17.LE2-1231.014.cam.h0.TREFHT.185001-210012.r180x90.annual.nc\n",
      "b.e21.BHISTsmbb-BSSP370smbb.f09_g17.LE2-1231.015.cam.h0.TREFHT.185001-210012.r180x90.annual.nc\n",
      "b.e21.BHISTsmbb-BSSP370smbb.f09_g17.LE2-1231.016.cam.h0.TREFHT.185001-210012.r180x90.annual.nc\n",
      "b.e21.BHISTsmbb-BSSP370smbb.f09_g17.LE2-1231.017.cam.h0.TREFHT.185001-210012.r180x90.annual.nc\n",
      "b.e21.BHISTsmbb-BSSP370smbb.f09_g17.LE2-1231.018.cam.h0.TREFHT.185001-210012.r180x90.annual.nc\n",
      "b.e21.BHISTsmbb-BSSP370smbb.f09_g17.LE2-1231.019.cam.h0.TREFHT.185001-210012.r180x90.annual.nc\n",
      "b.e21.BHISTsmbb-BSSP370smbb.f09_g17.LE2-1231.020.cam.h0.TREFHT.185001-210012.r180x90.annual.nc\n",
      "b.e21.BHISTsmbb-BSSP370smbb.f09_g17.LE2-1281.011.cam.h0.TREFHT.185001-210012.r180x90.annual.nc\n",
      "b.e21.BHISTsmbb-BSSP370smbb.f09_g17.LE2-1281.012.cam.h0.TREFHT.185001-210012.r180x90.annual.nc\n",
      "b.e21.BHISTsmbb-BSSP370smbb.f09_g17.LE2-1281.013.cam.h0.TREFHT.185001-210012.r180x90.annual.nc\n",
      "b.e21.BHISTsmbb-BSSP370smbb.f09_g17.LE2-1281.014.cam.h0.TREFHT.185001-210012.r180x90.annual.nc\n",
      "b.e21.BHISTsmbb-BSSP370smbb.f09_g17.LE2-1281.015.cam.h0.TREFHT.185001-210012.r180x90.annual.nc\n",
      "b.e21.BHISTsmbb-BSSP370smbb.f09_g17.LE2-1281.016.cam.h0.TREFHT.185001-210012.r180x90.annual.nc\n",
      "b.e21.BHISTsmbb-BSSP370smbb.f09_g17.LE2-1281.017.cam.h0.TREFHT.185001-210012.r180x90.annual.nc\n",
      "b.e21.BHISTsmbb-BSSP370smbb.f09_g17.LE2-1281.018.cam.h0.TREFHT.185001-210012.r180x90.annual.nc\n",
      "b.e21.BHISTsmbb-BSSP370smbb.f09_g17.LE2-1281.019.cam.h0.TREFHT.185001-210012.r180x90.annual.nc\n",
      "b.e21.BHISTsmbb-BSSP370smbb.f09_g17.LE2-1281.020.cam.h0.TREFHT.185001-210012.r180x90.annual.nc\n",
      "b.e21.BHISTsmbb-BSSP370smbb.f09_g17.LE2-1301.011.cam.h0.TREFHT.185001-210012.r180x90.annual.nc\n",
      "b.e21.BHISTsmbb-BSSP370smbb.f09_g17.LE2-1301.012.cam.h0.TREFHT.185001-210012.r180x90.annual.nc\n",
      "b.e21.BHISTsmbb-BSSP370smbb.f09_g17.LE2-1301.013.cam.h0.TREFHT.185001-210012.r180x90.annual.nc\n",
      "b.e21.BHISTsmbb-BSSP370smbb.f09_g17.LE2-1301.014.cam.h0.TREFHT.185001-210012.r180x90.annual.nc\n",
      "b.e21.BHISTsmbb-BSSP370smbb.f09_g17.LE2-1301.015.cam.h0.TREFHT.185001-210012.r180x90.annual.nc\n",
      "b.e21.BHISTsmbb-BSSP370smbb.f09_g17.LE2-1301.016.cam.h0.TREFHT.185001-210012.r180x90.annual.nc\n",
      "b.e21.BHISTsmbb-BSSP370smbb.f09_g17.LE2-1301.017.cam.h0.TREFHT.185001-210012.r180x90.annual.nc\n",
      "b.e21.BHISTsmbb-BSSP370smbb.f09_g17.LE2-1301.018.cam.h0.TREFHT.185001-210012.r180x90.annual.nc\n",
      "b.e21.BHISTsmbb-BSSP370smbb.f09_g17.LE2-1301.019.cam.h0.TREFHT.185001-210012.r180x90.annual.nc\n",
      "b.e21.BHISTsmbb-BSSP370smbb.f09_g17.LE2-1301.020.cam.h0.TREFHT.185001-210012.r180x90.annual.nc\n"
     ]
    }
   ],
   "source": [
    "import datetime\n",
    "var = 'TREFHT'\n",
    "X = np.zeros((30,251,90,180))\n",
    "count = 0\n",
    "\n",
    "for control_decade in (1231, 1251, 1281, 1301): \n",
    "    for member in np.arange(10,21):\n",
    "        filename_all  = 'b.e21.BHISTsmbb-BSSP370smbb.f09_g17.LE2-' + str(control_decade) + '.0' + str(member) + '.cam.h0.' + str(var) + '.' + '185001-210012' + '.r180x90.nc'\n",
    "        filename_ann  = filename_all[:-2] + 'annual.nc'\n",
    "        \n",
    "        if(os.path.isfile(dirAnnualName + filename_ann)==False):\n",
    "            continue\n",
    "        da_annual = xr.open_dataset(dirAnnualName + filename_ann)\n",
    "        print(filename_ann)\n",
    "        #---------------------------------------------------------\n",
    "        # concatenate all together\n",
    "        X[count,:,:,:] = da_annual['__xarray_dataarray_variable__'].values\n",
    "        count = count + 1\n",
    "        \n",
    "da = xr.DataArray(\n",
    "    data=X,\n",
    "    dims=[\"member\",\"time\",\"lat\", \"lon\"],\n",
    "    coords=dict(\n",
    "        time=da_annual['time'].data,\n",
    "        member=np.arange(0,30),\n",
    "    ),\n",
    ")\n",
    "da.assign_coords(lon=da_annual['lon'])\n",
    "da.assign_coords(lat=da_annual['lat'])\n",
    "da.rename_vars({'__xarray_dataarray_variable__':'TREFHT'})\n",
    "\n",
    "da.to_netcdf(dirAnnualName + 'b.e21.BHISTsmbb-BSSP370smbb.f09_g17.LE2.cam.h0.TREFHT.185001-210012.r180x90.annual.nc')"
   ]
  },
  {
   "cell_type": "code",
   "execution_count": null,
   "id": "51535160-b581-4ab6-b22f-8e2d94de5f7f",
   "metadata": {},
   "outputs": [],
   "source": []
  }
 ],
 "metadata": {
  "kernelspec": {
   "display_name": "Python 3 (ipykernel)",
   "language": "python",
   "name": "python3"
  },
  "language_info": {
   "codemirror_mode": {
    "name": "ipython",
    "version": 3
   },
   "file_extension": ".py",
   "mimetype": "text/x-python",
   "name": "python",
   "nbconvert_exporter": "python",
   "pygments_lexer": "ipython3",
   "version": "3.9.7"
  }
 },
 "nbformat": 4,
 "nbformat_minor": 5
}
