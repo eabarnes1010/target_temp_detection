{
 "cells": [
  {
   "cell_type": "markdown",
   "id": "6da79c16-eb43-4664-a883-7a31f3af00da",
   "metadata": {
    "id": "4a650402-4774-49cb-9b72-9c8f1dd02f1d",
    "tags": []
   },
   "source": [
    "# Visualize XAI\n",
    "##### authors: Elizabeth A. Barnes and Noah Diffenbaugh\n",
    "##### date: March 20, 2022\n"
   ]
  },
  {
   "cell_type": "markdown",
   "id": "7ccff821-b304-4009-8fe8-75a213b3f421",
   "metadata": {
    "tags": []
   },
   "source": [
    "## Python stuff"
   ]
  },
  {
   "cell_type": "code",
   "execution_count": 1,
   "id": "fb968382-4186-466e-a85b-b00caa5fc9be",
   "metadata": {
    "colab": {
     "base_uri": "https://localhost:8080/"
    },
    "executionInfo": {
     "elapsed": 17642,
     "status": "ok",
     "timestamp": 1646449680995,
     "user": {
      "displayName": "Elizabeth Barnes",
      "photoUrl": "https://lh3.googleusercontent.com/a-/AOh14GiNPVVIWP6XAkP_hwu-8rAxoeeNuk2BMkX5-yuA=s64",
      "userId": "07585723222468022011"
     },
     "user_tz": 420
    },
    "id": "fb968382-4186-466e-a85b-b00caa5fc9be",
    "outputId": "d7964af9-2d52-4466-902d-9b85faba9a91",
    "tags": []
   },
   "outputs": [
    {
     "name": "stderr",
     "output_type": "stream",
     "text": [
      "/var/folders/4v/ts3652896rl6syn3f_jmnsvh0001zl/T/ipykernel_39853/3597942481.py:1: DeprecationWarning: the imp module is deprecated in favour of importlib; see the module's documentation for alternative uses\n",
      "  import sys, imp, os, copy\n"
     ]
    },
    {
     "ename": "ModuleNotFoundError",
     "evalue": "No module named 'seaborn'",
     "output_type": "error",
     "traceback": [
      "\u001b[0;31m---------------------------------------------------------------------------\u001b[0m",
      "\u001b[0;31mModuleNotFoundError\u001b[0m                       Traceback (most recent call last)",
      "Input \u001b[0;32mIn [1]\u001b[0m, in \u001b[0;36m<cell line: 17>\u001b[0;34m()\u001b[0m\n\u001b[1;32m     14\u001b[0m silence_tensorflow\n\u001b[1;32m     16\u001b[0m \u001b[38;5;28;01mimport\u001b[39;00m \u001b[38;5;21;01mscipy\u001b[39;00m\u001b[38;5;21;01m.\u001b[39;00m\u001b[38;5;21;01mstats\u001b[39;00m \u001b[38;5;28;01mas\u001b[39;00m \u001b[38;5;21;01mstats\u001b[39;00m\n\u001b[0;32m---> 17\u001b[0m \u001b[38;5;28;01mimport\u001b[39;00m \u001b[38;5;21;01mseaborn\u001b[39;00m \u001b[38;5;28;01mas\u001b[39;00m \u001b[38;5;21;01msns\u001b[39;00m\n\u001b[1;32m     18\u001b[0m \u001b[38;5;28;01mimport\u001b[39;00m \u001b[38;5;21;01mcmaps\u001b[39;00m \u001b[38;5;28;01mas\u001b[39;00m \u001b[38;5;21;01mcmaps_ncl\u001b[39;00m\n\u001b[1;32m     20\u001b[0m \u001b[38;5;28;01mimport\u001b[39;00m \u001b[38;5;21;01mexperiment_settings\u001b[39;00m\n",
      "\u001b[0;31mModuleNotFoundError\u001b[0m: No module named 'seaborn'"
     ]
    }
   ],
   "source": [
    "import sys, imp, os, copy\n",
    "\n",
    "import cmocean\n",
    "import xarray as xr\n",
    "import numpy as np\n",
    "import pandas as pd\n",
    "import matplotlib.pyplot as plt\n",
    "from matplotlib.colors import ListedColormap, LinearSegmentedColormap\n",
    "import cartopy as ct\n",
    "import scipy.stats as stats\n",
    "import tensorflow as tf\n",
    "import tensorflow_probability as tfp\n",
    "import silence_tensorflow\n",
    "silence_tensorflow\n",
    "\n",
    "import scipy.stats as stats\n",
    "import seaborn as sns\n",
    "import cmaps as cmaps_ncl\n",
    "\n",
    "import experiment_settings\n",
    "import file_methods, plots, data_processing, xai\n",
    "\n",
    "import matplotlib as mpl\n",
    "mpl.rcParams[\"figure.facecolor\"] = \"white\"\n",
    "mpl.rcParams[\"figure.dpi\"] = 150\n",
    "savefig_dpi = 300\n",
    "np.warnings.filterwarnings(\"ignore\", category=np.VisibleDeprecationWarning)"
   ]
  },
  {
   "cell_type": "code",
   "execution_count": null,
   "id": "29a5cee3-6f4f-4818-92e1-1351eeeb565a",
   "metadata": {
    "colab": {
     "base_uri": "https://localhost:8080/"
    },
    "executionInfo": {
     "elapsed": 30,
     "status": "ok",
     "timestamp": 1646449681009,
     "user": {
      "displayName": "Elizabeth Barnes",
      "photoUrl": "https://lh3.googleusercontent.com/a-/AOh14GiNPVVIWP6XAkP_hwu-8rAxoeeNuk2BMkX5-yuA=s64",
      "userId": "07585723222468022011"
     },
     "user_tz": 420
    },
    "id": "29a5cee3-6f4f-4818-92e1-1351eeeb565a",
    "outputId": "e5f5b0ac-82b8-4147-bf44-4bc3b49466a2",
    "tags": []
   },
   "outputs": [],
   "source": [
    "print(f\"python version = {sys.version}\")\n",
    "print(f\"numpy version = {np.__version__}\")\n",
    "print(f\"xarray version = {xr.__version__}\")  \n",
    "print(f\"tensorflow version = {tf.__version__}\")  \n",
    "print(f\"tensorflow-probability version = {tfp.__version__}\")  "
   ]
  },
  {
   "cell_type": "code",
   "execution_count": null,
   "id": "d2014fbd-9322-415d-b369-ba7e027ccd49",
   "metadata": {},
   "outputs": [],
   "source": [
    "FS = 10\n",
    "\n",
    "### for white background...\n",
    "plt.rc('text',usetex=True)\n",
    "# plt.rc('text',usetex=True)\n",
    "plt.rc('font',**{'family':'sans-serif','sans-serif':['Helvetica']}) \n",
    "plt.rc('savefig',facecolor='white')\n",
    "plt.rc('axes',facecolor='white')\n",
    "plt.rc('axes',labelcolor='dimgrey')\n",
    "plt.rc('axes',labelcolor='dimgrey')\n",
    "plt.rc('xtick',color='dimgrey')\n",
    "plt.rc('ytick',color='dimgrey')\n",
    "################################  \n",
    "################################  \n",
    "def adjust_spines(ax, spines):\n",
    "    for loc, spine in ax.spines.items():\n",
    "        if loc in spines:\n",
    "            spine.set_position(('outward', 5))\n",
    "        else:\n",
    "            spine.set_color('none')  \n",
    "    if 'left' in spines:\n",
    "        ax.yaxis.set_ticks_position('left')\n",
    "    else:\n",
    "        ax.yaxis.set_ticks([])\n",
    "    if 'bottom' in spines:\n",
    "        ax.xaxis.set_ticks_position('bottom')\n",
    "    else:\n",
    "        ax.xaxis.set_ticks([]) \n",
    "\n",
    "def format_spines(ax):\n",
    "    adjust_spines(ax, ['left', 'bottom'])\n",
    "    ax.spines['top'].set_color('none')\n",
    "    ax.spines['right'].set_color('none')\n",
    "    ax.spines['left'].set_color('dimgrey')\n",
    "    ax.spines['bottom'].set_color('dimgrey')\n",
    "    ax.spines['left'].set_linewidth(2)\n",
    "    ax.spines['bottom'].set_linewidth(2)\n",
    "    ax.tick_params('both',length=4,width=2,which='major',color='dimgrey')\n",
    "#     ax.yaxis.grid(zorder=1,color='dimgrey',alpha=0.35)    \n",
    "    "
   ]
  },
  {
   "cell_type": "markdown",
   "id": "651315ce-eecc-4d30-8b90-c97d08936315",
   "metadata": {
    "tags": []
   },
   "source": [
    "## User Choices"
   ]
  },
  {
   "cell_type": "code",
   "execution_count": null,
   "id": "c83a544f-ef35-417f-bec4-62225d885014",
   "metadata": {},
   "outputs": [],
   "source": [
    "EXP_NAME = \"exp20C_126_maxtemp10\" #'exp15C_370'#'exp15C_370'\n",
    "\n",
    "#-------------------------------------------------------\n",
    "\n",
    "settings = experiment_settings.get_settings(EXP_NAME)\n",
    "display(settings)\n",
    "\n",
    "MODEL_DIRECTORY = 'saved_models/'        \n",
    "PREDICTIONS_DIRECTORY = 'saved_predictions/'\n",
    "DATA_DIRECTORY = 'data/'\n",
    "DIAGNOSTICS_DIRECTORY = 'model_diagnostics/'\n",
    "FIGURE_DIRECTORY = 'figures/'"
   ]
  },
  {
   "cell_type": "markdown",
   "id": "d5d089c5-afe9-4d5c-93d1-b67662256c1a",
   "metadata": {
    "jp-MarkdownHeadingCollapsed": true,
    "tags": []
   },
   "source": [
    "## Initial housekeeping"
   ]
  },
  {
   "cell_type": "code",
   "execution_count": null,
   "id": "02eea0ec-ce97-469e-b7d6-da1fa0863927",
   "metadata": {
    "tags": []
   },
   "outputs": [],
   "source": [
    "# get seed to plot\n",
    "df_metrics = pd.read_pickle(PREDICTIONS_DIRECTORY + \"df_random_seed.pickle\")\n",
    "df = df_metrics[df_metrics[\"exp_name\"]==EXP_NAME]\n",
    "PLOT_SEED = df_metrics.iloc[df['loss_val'].idxmin()][\"seed\"]\n",
    "PLOT_SEED = 2247\n",
    "print('PLOT_SEED = ' + str(PLOT_SEED))\n",
    "\n",
    "## determine how many GCMs are being used\n",
    "filenames = file_methods.get_cmip_filenames(settings, verbose=0)\n",
    "N_GCMS = len(filenames)\n"
   ]
  },
  {
   "cell_type": "markdown",
   "id": "c807abd7-832a-484b-98cd-7e6c3a9f60c0",
   "metadata": {
    "id": "c807abd7-832a-484b-98cd-7e6c3a9f60c0",
    "tags": []
   },
   "source": [
    "## Load the Model"
   ]
  },
  {
   "cell_type": "code",
   "execution_count": null,
   "id": "7becb266-c9fd-4098-a2ba-e6c52804b8bd",
   "metadata": {
    "colab": {
     "base_uri": "https://localhost:8080/",
     "height": 962
    },
    "executionInfo": {
     "elapsed": 105064,
     "status": "ok",
     "timestamp": 1646449809976,
     "user": {
      "displayName": "Elizabeth Barnes",
      "photoUrl": "https://lh3.googleusercontent.com/a-/AOh14GiNPVVIWP6XAkP_hwu-8rAxoeeNuk2BMkX5-yuA=s64",
      "userId": "07585723222468022011"
     },
     "user_tz": 420
    },
    "id": "7becb266-c9fd-4098-a2ba-e6c52804b8bd",
    "outputId": "5f2d4b54-fb88-418f-95a2-3c5e281cc2e4",
    "tags": []
   },
   "outputs": [],
   "source": [
    "rng = np.random.default_rng(settings[\"rng_seed\"])\n",
    "settings[\"seed\"] = PLOT_SEED\n",
    "\n",
    "# get model name\n",
    "model_name = file_methods.get_model_name(settings)\n",
    "model = file_methods.load_tf_model(model_name, MODEL_DIRECTORY)"
   ]
  },
  {
   "cell_type": "markdown",
   "id": "796d85c6-8edf-4534-b684-2521405bfbf3",
   "metadata": {
    "jp-MarkdownHeadingCollapsed": true,
    "tags": []
   },
   "source": [
    "## Get the obs data"
   ]
  },
  {
   "cell_type": "code",
   "execution_count": null,
   "id": "bbbd09cb-4fbe-4890-94bd-c8905aeb8cb3",
   "metadata": {},
   "outputs": [],
   "source": [
    "settings[\"obsdata\"] = 'BEST'\n",
    "da_obs_best, x_obs_best, __ = data_processing.get_observations(DATA_DIRECTORY, settings)\n",
    "global_mean_obs_best = data_processing.compute_global_mean(da_obs_best)\n",
    "\n",
    "settings[\"obsdata\"] = 'BESTANOM'\n",
    "da_obs_besta, x_obs_besta, __ = data_processing.get_observations(DATA_DIRECTORY, settings)\n",
    "global_mean_obs_besta = data_processing.compute_global_mean(da_obs_best)\n",
    "\n",
    "settings[\"obsdata\"] = 'GISS'\n",
    "da_obs_giss, x_obs_giss, __ = data_processing.get_observations(DATA_DIRECTORY, settings)\n",
    "global_mean_obs_giss = data_processing.compute_global_mean(da_obs_giss)\n",
    "\n",
    "settings[\"obsdata\"] = 'NCEP'\n",
    "da_obs_ncep, x_obs_ncep, __ = data_processing.get_observations(DATA_DIRECTORY, settings)\n",
    "global_mean_obs_ncep = data_processing.compute_global_mean(da_obs_ncep)\n",
    "\n",
    "settings[\"obsdata\"] = 'ERA5'\n",
    "da_obs_era, x_obs_era, __ = data_processing.get_observations(DATA_DIRECTORY, settings)\n",
    "global_mean_obs_era = data_processing.compute_global_mean(da_obs_era)"
   ]
  },
  {
   "cell_type": "code",
   "execution_count": null,
   "id": "cd97fe04-2373-4a7e-ae95-567a49ce978f",
   "metadata": {},
   "outputs": [],
   "source": [
    "i = np.where(x_obs_best[-1,:].flatten()==0)[0]\n",
    "print(len(i))\n",
    "i = np.where(x_obs_besta[-1,:].flatten()==0)[0]\n",
    "print(len(i))\n",
    "i = np.where(x_obs_giss[-1,:].flatten()==0)[0]\n",
    "print(len(i))\n",
    "i = np.where(x_obs_ncep[-1,:].flatten()==0)[0]\n",
    "print(len(i))\n",
    "i = np.where(x_obs_era[-1,:].flatten()==0)[0]\n",
    "print(len(i))"
   ]
  },
  {
   "cell_type": "markdown",
   "id": "eb383d45-be13-4c72-bf8f-ed1100dd1fd6",
   "metadata": {},
   "source": [
    "# Plot the results"
   ]
  },
  {
   "cell_type": "code",
   "execution_count": null,
   "id": "e8199bac-2156-44d2-9f09-c8217b43ca5c",
   "metadata": {},
   "outputs": [],
   "source": [
    "cmap = mpl.cm.get_cmap('Accent').colors\n",
    "\n",
    "mu_giss = []\n",
    "mu_best = []\n",
    "mu_besta = []\n",
    "mu_ncep = []\n",
    "\n",
    "best_pred = model.predict(da_obs_best.values.reshape((da_obs_best.shape[0],len(da_obs_best[\"lat\"])*len(da_obs_best[\"lon\"]))))\n",
    "besta_pred = model.predict(da_obs_besta.values.reshape((da_obs_besta.shape[0],len(da_obs_besta[\"lat\"])*len(da_obs_best[\"lon\"]))))\n",
    "giss_pred = model.predict(da_obs_giss.values.reshape((da_obs_giss.shape[0],len(da_obs_giss[\"lat\"])*len(da_obs_giss[\"lon\"]))))\n",
    "ncep_pred = model.predict(da_obs_ncep.values.reshape((da_obs_ncep.shape[0],len(da_obs_ncep[\"lat\"])*len(da_obs_ncep[\"lon\"]))))\n",
    "era_pred = model.predict(da_obs_era.values.reshape((da_obs_era.shape[0],len(da_obs_era[\"lat\"])*len(da_obs_era[\"lon\"]))))\n",
    "\n",
    "print(best_pred[-1,0],besta_pred[-1,0],giss_pred[-1,0],ncep_pred[-1,0],era_pred[-1,0])\n",
    "\n",
    "plt.figure(figsize=(4,2.5))\n",
    "\n",
    "plt.plot(da_obs_giss[\"time.year\"],giss_pred[:,0],label='GISS',color=cmap[0])\n",
    "plt.plot(da_obs_ncep[\"time.year\"],ncep_pred[:,0],label='NCEP1',color=cmap[1])\n",
    "plt.plot(da_obs_era[\"time.year\"],era_pred[:,0],label='ERA5',color=cmap[4])\n",
    "plt.plot(da_obs_best[\"time.year\"],best_pred[:,0],label='BEST',color=cmap[5])\n",
    "\n",
    "format_spines(plt.gca())\n",
    "plt.ylabel('years until threshold is reached')\n",
    "# plt.title(settings[\"exp_name\"])\n",
    "plt.yticks(np.arange(-90,90,10),np.arange(-90,90,10))\n",
    "plt.xticks(np.arange(1970,2025,10),np.arange(1970,2025,10))\n",
    "plt.xlim(1970,2025)\n",
    "if(settings[\"target_temp\"]==1.1):\n",
    "    plt.ylim(-10,80)\n",
    "    plt.legend(frameon=False,fontsize=FS*0.8,loc=\"upper left\", ncol=2)    \n",
    "else:\n",
    "    plt.ylim(0,80)\n",
    "    plt.axhline(y=0,linewidth=.5,color='dimgray',linestyle='--',zorder=0,)\n",
    "    plt.legend(frameon=False,fontsize=FS*0.8,loc=\"lower left\", ncol=2)    \n",
    "\n",
    "exp_name = settings[\"exp_name\"]\n",
    "text_name = 'SSP'+exp_name[7]+'-'+exp_name[8] + '.' + exp_name[9] + '\\n' +exp_name[3] + '.' + exp_name[4]+'C'\n",
    "plt.text(2013,\n",
    "         75,\n",
    "         text_name,\n",
    "         fontsize=FS,\n",
    "         color='k',\n",
    "         horizontalalignment='left',\n",
    "         verticalalignment='top',\n",
    "        )\n",
    "\n",
    "plt.tight_layout()\n",
    "plots.savefig(FIGURE_DIRECTORY + model_name + '_timeseries_four_obs_datasets',dpi=savefig_dpi)\n",
    "\n",
    "plt.show()"
   ]
  },
  {
   "cell_type": "code",
   "execution_count": null,
   "id": "30c438a5-103a-4e59-a2a2-161bad1de6ce",
   "metadata": {},
   "outputs": [],
   "source": [
    "mu_giss = []\n",
    "mu_best = []\n",
    "for lat_cut in np.arange(-90,100,10):\n",
    "    b = copy.deepcopy(x_obs_best[-1])\n",
    "    a = copy.deepcopy(x_obs_giss[-1])\n",
    "\n",
    "    a = a.reshape(len(da_obs_giss[\"lat\"]),len(da_obs_giss[\"lon\"]))\n",
    "    b = b.reshape(len(da_obs_best[\"lat\"]),len(da_obs_best[\"lon\"]))\n",
    "    ilat = np.where(da_obs_giss[\"lat\"]<lat_cut)[0]\n",
    "    a[ilat,:] = copy.deepcopy(b[ilat,:])\n",
    "    a = a.reshape(len(da_obs_giss[\"lat\"])*len(da_obs_giss[\"lon\"]))\n",
    "    b = b.reshape(len(da_obs_best[\"lat\"])*len(da_obs_best[\"lon\"]))\n",
    "    \n",
    "    mu_giss.append(model.predict(a[np.newaxis,:])[0][0])\n",
    "    mu_best.append(model.predict(b[np.newaxis,:])[0][0])\n",
    "    \n",
    "plt.figure()\n",
    "plt.plot(np.arange(-90,100,10),mu_giss,label='GISS')\n",
    "plt.plot(np.arange(-90,100,10),mu_best,'--k',label='BEST')\n",
    "plt.ylabel('years until 1.5C')\n",
    "plt.legend()\n",
    "plt.ylim(0,25)\n",
    "plt.show()"
   ]
  },
  {
   "cell_type": "code",
   "execution_count": null,
   "id": "fe5639f1-ee46-4e61-b014-79448c7069d8",
   "metadata": {},
   "outputs": [],
   "source": []
  },
  {
   "cell_type": "code",
   "execution_count": null,
   "id": "9be77f01-a4ab-421e-8c61-3fa70ddd9c9c",
   "metadata": {},
   "outputs": [],
   "source": [
    "mu_giss = []\n",
    "mu_best = []\n",
    "for lat_cut in np.arange(-90,100,10):\n",
    "    b = copy.deepcopy(x_obs_best[-1])\n",
    "    a = copy.deepcopy(x_obs_giss[-1])\n",
    "\n",
    "    a = a.reshape(len(da_obs_giss[\"lat\"]),len(da_obs_giss[\"lon\"]))\n",
    "    b = b.reshape(len(da_obs_best[\"lat\"]),len(da_obs_best[\"lon\"]))\n",
    "    ilat = np.where((da_obs_giss[\"lat\"]>lat_cut) & (da_obs_giss[\"lat\"]<lat_cut+45))[0]\n",
    "    # print(da_obs_giss[\"lat\"][ilat])\n",
    "    a[ilat,:] = copy.deepcopy(b[ilat,:])\n",
    "    a = a.reshape(len(da_obs_giss[\"lat\"])*len(da_obs_giss[\"lon\"]))\n",
    "    b = b.reshape(len(da_obs_best[\"lat\"])*len(da_obs_best[\"lon\"]))\n",
    "    \n",
    "    mu_giss.append(model.predict(a[np.newaxis,:])[0][0])\n",
    "    mu_best.append(model.predict(b[np.newaxis,:])[0][0])\n",
    "    \n",
    "plt.figure()\n",
    "plt.plot(np.arange(-90,100,10),mu_giss,label='GISS')\n",
    "plt.plot(np.arange(-90,100,10),mu_best,'--k',label='BEST')\n",
    "plt.ylabel('years until 1.5C')\n",
    "plt.legend()\n",
    "plt.ylim(0,25)\n",
    "plt.show()"
   ]
  },
  {
   "cell_type": "code",
   "execution_count": null,
   "id": "7c70f235-e968-458e-8329-0929e1524c7f",
   "metadata": {},
   "outputs": [],
   "source": [
    "plt.plot(da_obs_ncep[\"time.year\"],global_mean_obs_ncep,label='ncep')\n",
    "plt.plot(da_obs_giss[\"time.year\"],global_mean_obs_giss,label='giss')\n",
    "plt.plot(da_obs_best[\"time.year\"],global_mean_obs_best,label='best')\n",
    "plt.legend()\n",
    "plt.show()"
   ]
  },
  {
   "cell_type": "code",
   "execution_count": null,
   "id": "b4f98f97-b5ae-490c-b2cd-8a9ba76982e5",
   "metadata": {},
   "outputs": [],
   "source": [
    "da_diff = da_obs_ncep - da_obs_best\n",
    "da_diff_plot = np.mean(da_diff[-1:],axis=0)\n",
    "\n",
    "fig = plt.figure(figsize=(6.,3.75))\n",
    "plt.pcolor(da_diff_plot,cmap=\"RdBu_r\")\n",
    "plt.clim(-5,5)\n",
    "plt.colorbar()"
   ]
  },
  {
   "cell_type": "code",
   "execution_count": null,
   "id": "b228ec8d-200d-4643-9471-be7e45f96d30",
   "metadata": {},
   "outputs": [],
   "source": [
    "print('PLOT_SEED = ' + str(PLOT_SEED))"
   ]
  },
  {
   "cell_type": "code",
   "execution_count": null,
   "id": "0705e381-344d-4d33-8e71-c83536c35778",
   "metadata": {},
   "outputs": [],
   "source": []
  }
 ],
 "metadata": {
  "colab": {
   "collapsed_sections": [],
   "name": "_main.ipynb",
   "provenance": []
  },
  "kernelspec": {
   "display_name": "Python 3 (ipykernel)",
   "language": "python",
   "name": "python3"
  },
  "language_info": {
   "codemirror_mode": {
    "name": "ipython",
    "version": 3
   },
   "file_extension": ".py",
   "mimetype": "text/x-python",
   "name": "python",
   "nbconvert_exporter": "python",
   "pygments_lexer": "ipython3",
   "version": "3.9.12"
  }
 },
 "nbformat": 4,
 "nbformat_minor": 5
}
